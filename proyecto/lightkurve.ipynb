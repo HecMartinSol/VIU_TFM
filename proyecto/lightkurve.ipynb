{
 "metadata": {
  "language_info": {
   "codemirror_mode": {
    "name": "ipython",
    "version": 3
   },
   "file_extension": ".py",
   "mimetype": "text/x-python",
   "name": "python",
   "nbconvert_exporter": "python",
   "pygments_lexer": "ipython3",
   "version": "3.7.4-final"
  },
  "orig_nbformat": 2,
  "kernelspec": {
   "name": "Python 3.7.4 64-bit ('base': conda)",
   "display_name": "Python 3.7.4 64-bit ('base': conda)",
   "metadata": {
    "interpreter": {
     "hash": "f958bdd04a238e53230fa8372db10ddee88fbe838d3660515cd74e50e6d77f98"
    }
   }
  }
 },
 "nbformat": 4,
 "nbformat_minor": 2,
 "cells": [
  {
   "cell_type": "code",
   "execution_count": 2,
   "metadata": {
    "tags": []
   },
   "outputs": [
    {
     "output_type": "execute_result",
     "data": {
      "text/plain": "&#39;1.4.0&#39;"
     },
     "metadata": {},
     "execution_count": 2
    }
   ],
   "source": [
    "# !pip install lightkurve==1.4.0\n",
    "\n",
    "import lightkurve as lk\n",
    "lk.__version__"
   ]
  },
  {
   "cell_type": "code",
   "execution_count": 3,
   "metadata": {},
   "outputs": [],
   "source": [
    "# crea graficos interactivos\n",
    "%matplotlib inline\n",
    "from astropy.io import fits #para acceder a los archivos FITS\n",
    "from astropy.table import Table # para crear tablas ordenadas de los datos\n",
    "import matplotlib.pyplot as plt # para plotear datos\n",
    "import pandas as pd\n",
    "import numpy as np\n",
    "import glob\n",
    "import math\n",
    "import os\n",
    "import random as rnd\n",
    "\n",
    "# mostrar max columnas necesarias\n",
    "pd.set_option('display.max_columns', 500) "
   ]
  },
  {
   "cell_type": "code",
   "execution_count": 4,
   "metadata": {},
   "outputs": [],
   "source": [
    "from astroquery.mast import Mast\n",
    "from astroquery.mast import Observations"
   ]
  },
  {
   "cell_type": "code",
   "execution_count": 5,
   "metadata": {},
   "outputs": [
    {
     "output_type": "execute_result",
     "data": {
      "text/plain": "         kepid kepoi_name   kepler_name koi_disposition koi_pdisposition  \\\n0     10797460  K00752.01  Kepler-227 b       CONFIRMED        CANDIDATE   \n1     10797460  K00752.02  Kepler-227 c       CONFIRMED        CANDIDATE   \n2     10811496  K00753.01           NaN       CANDIDATE        CANDIDATE   \n3     10848459  K00754.01           NaN  FALSE POSITIVE   FALSE POSITIVE   \n4     10854555  K00755.01  Kepler-664 b       CONFIRMED        CANDIDATE   \n...        ...        ...           ...             ...              ...   \n9559  10090151  K07985.01           NaN  FALSE POSITIVE   FALSE POSITIVE   \n9560  10128825  K07986.01           NaN       CANDIDATE        CANDIDATE   \n9561  10147276  K07987.01           NaN  FALSE POSITIVE   FALSE POSITIVE   \n9562  10155286  K07988.01           NaN       CANDIDATE        CANDIDATE   \n9563  10156110  K07989.01           NaN  FALSE POSITIVE   FALSE POSITIVE   \n\n      koi_score  koi_fpflag_nt  koi_fpflag_ss  koi_fpflag_co  koi_fpflag_ec  \\\n0         1.000              0              0              0              0   \n1         0.969              0              0              0              0   \n2         0.000              0              0              0              0   \n3         0.000              0              1              0              0   \n4         1.000              0              0              0              0   \n...         ...            ...            ...            ...            ...   \n9559      0.000              0              1              1              0   \n9560      0.497              0              0              0              0   \n9561      0.021              0              0              1              0   \n9562      0.092              0              0              0              0   \n9563      0.000              0              0              1              1   \n\n      koi_period  koi_period_err1  koi_period_err2  koi_time0bk  \\\n0       9.488036     2.775000e-05    -2.775000e-05   170.538750   \n1      54.418383     2.479000e-04    -2.479000e-04   162.513840   \n2      19.899140     1.494000e-05    -1.494000e-05   175.850252   \n3       1.736952     2.630000e-07    -2.630000e-07   170.307565   \n4       2.525592     3.761000e-06    -3.761000e-06   171.595550   \n...          ...              ...              ...          ...   \n9559    0.527699     1.160000e-07    -1.160000e-07   131.705093   \n9560    1.739849     1.780000e-05    -1.780000e-05   133.001270   \n9561    0.681402     2.434000e-06    -2.434000e-06   132.181750   \n9562  333.486169     4.235000e-03    -4.235000e-03   153.615010   \n9563    4.856035     6.356000e-05    -6.356000e-05   135.993300   \n\n      koi_time0bk_err1  koi_time0bk_err2  koi_impact  koi_impact_err1  \\\n0             0.002160         -0.002160       0.146            0.318   \n1             0.003520         -0.003520       0.586            0.059   \n2             0.000581         -0.000581       0.969            5.126   \n3             0.000115         -0.000115       1.276            0.115   \n4             0.001130         -0.001130       0.701            0.235   \n...                ...               ...         ...              ...   \n9559          0.000170         -0.000170       1.252            0.051   \n9560          0.007690         -0.007690       0.043            0.423   \n9561          0.002850         -0.002850       0.147            0.309   \n9562          0.005070         -0.005070       0.214            0.255   \n9563          0.010800         -0.010800       0.134            0.323   \n\n      koi_impact_err2  koi_duration  koi_duration_err1  koi_duration_err2  \\\n0              -0.146       2.95750            0.08190           -0.08190   \n1              -0.443       4.50700            0.11600           -0.11600   \n2              -0.077       1.78220            0.03410           -0.03410   \n3              -0.092       2.40641            0.00537           -0.00537   \n4              -0.478       1.65450            0.04200           -0.04200   \n...               ...           ...                ...                ...   \n9559           -0.049       3.22210            0.01740           -0.01740   \n9560           -0.043       3.11400            0.22900           -0.22900   \n9561           -0.147       0.86500            0.16200           -0.16200   \n9562           -0.214       3.19900            0.22900           -0.22900   \n9563           -0.134       3.07800            0.28300           -0.28300   \n\n      koi_depth  koi_depth_err1  koi_depth_err2  koi_prad  koi_prad_err1  \\\n0         615.8            19.5           -19.5      2.26           0.26   \n1         874.8            35.5           -35.5      2.83           0.32   \n2       10829.0           171.0          -171.0     14.60           3.92   \n3        8079.2            12.8           -12.8     33.46           8.50   \n4         603.3            16.9           -16.9      2.75           0.88   \n...         ...             ...             ...       ...            ...   \n9559     1579.2             4.6            -4.6     29.35           7.70   \n9560       48.5             5.4            -5.4      0.72           0.24   \n9561      103.6            14.7           -14.7      1.07           0.36   \n9562      639.1            52.7           -52.7     19.30           0.55   \n9563       76.7            10.8           -10.8      1.05           0.36   \n\n      koi_prad_err2  koi_teq  koi_teq_err1  koi_teq_err2  koi_insol  \\\n0             -0.15    793.0           NaN           NaN      93.59   \n1             -0.19    443.0           NaN           NaN       9.11   \n2             -1.31    638.0           NaN           NaN      39.30   \n3             -2.83   1395.0           NaN           NaN     891.96   \n4             -0.35   1406.0           NaN           NaN     926.16   \n...             ...      ...           ...           ...        ...   \n9559          -2.57   2088.0           NaN           NaN    4500.53   \n9560          -0.08   1608.0           NaN           NaN    1585.81   \n9561          -0.11   2218.0           NaN           NaN    5713.41   \n9562          -4.68    557.0           NaN           NaN      22.68   \n9563          -0.12   1266.0           NaN           NaN     607.42   \n\n      koi_insol_err1  koi_insol_err2  koi_model_snr  koi_tce_plnt_num  \\\n0              29.45          -16.65           35.8               1.0   \n1               2.87           -1.62           25.8               2.0   \n2              31.04          -10.49           76.3               1.0   \n3             668.95         -230.35          505.6               1.0   \n4             874.33         -314.24           40.9               1.0   \n...              ...             ...            ...               ...   \n9559         3406.38        -1175.26          453.3               1.0   \n9560         1537.86         -502.22           10.6               1.0   \n9561         5675.74        -1836.94           12.3               1.0   \n9562            2.07          -10.95           14.0               1.0   \n9563          600.39         -194.33            8.2               1.0   \n\n     koi_tce_delivname  koi_steff  koi_steff_err1  koi_steff_err2  koi_slogg  \\\n0      q1_q17_dr25_tce     5455.0            81.0           -81.0      4.467   \n1      q1_q17_dr25_tce     5455.0            81.0           -81.0      4.467   \n2      q1_q17_dr25_tce     5853.0           158.0          -176.0      4.544   \n3      q1_q17_dr25_tce     5805.0           157.0          -174.0      4.564   \n4      q1_q17_dr25_tce     6031.0           169.0          -211.0      4.438   \n...                ...        ...             ...             ...        ...   \n9559   q1_q17_dr25_tce     5638.0           139.0          -166.0      4.529   \n9560   q1_q17_dr25_tce     6119.0           165.0          -220.0      4.444   \n9561   q1_q17_dr25_tce     6173.0           193.0          -236.0      4.447   \n9562   q1_q17_dr25_tce     4989.0            39.0          -128.0      2.992   \n9563   q1_q17_dr25_tce     6469.0           158.0          -225.0      4.385   \n\n      koi_slogg_err1  koi_slogg_err2  koi_srad  koi_srad_err1  koi_srad_err2  \\\n0              0.064          -0.096     0.927          0.105         -0.061   \n1              0.064          -0.096     0.927          0.105         -0.061   \n2              0.044          -0.176     0.868          0.233         -0.078   \n3              0.053          -0.168     0.791          0.201         -0.067   \n4              0.070          -0.210     1.046          0.334         -0.133   \n...              ...             ...       ...            ...            ...   \n9559           0.035          -0.196     0.903          0.237         -0.079   \n9560           0.056          -0.224     1.031          0.341         -0.114   \n9561           0.056          -0.224     1.041          0.341         -0.114   \n9562           0.030          -0.027     7.824          0.223         -1.896   \n9563           0.054          -0.216     1.193          0.410         -0.137   \n\n             ra        dec  koi_kepmag  \n0     291.93423  48.141651      15.347  \n1     291.93423  48.141651      15.347  \n2     297.00482  48.134129      15.436  \n3     285.53461  48.285210      15.597  \n4     288.75488  48.226200      15.509  \n...         ...        ...         ...  \n9559  297.18875  47.093819      14.082  \n9560  286.50937  47.163219      14.757  \n9561  294.16489  47.176281      15.385  \n9562  296.76288  47.145142      10.998  \n9563  297.00977  47.121021      14.826  \n\n[9564 rows x 49 columns]",
      "text/html": "<div>\n<style scoped>\n    .dataframe tbody tr th:only-of-type {\n        vertical-align: middle;\n    }\n\n    .dataframe tbody tr th {\n        vertical-align: top;\n    }\n\n    .dataframe thead th {\n        text-align: right;\n    }\n</style>\n<table border=\"1\" class=\"dataframe\">\n  <thead>\n    <tr style=\"text-align: right;\">\n      <th></th>\n      <th>kepid</th>\n      <th>kepoi_name</th>\n      <th>kepler_name</th>\n      <th>koi_disposition</th>\n      <th>koi_pdisposition</th>\n      <th>koi_score</th>\n      <th>koi_fpflag_nt</th>\n      <th>koi_fpflag_ss</th>\n      <th>koi_fpflag_co</th>\n      <th>koi_fpflag_ec</th>\n      <th>koi_period</th>\n      <th>koi_period_err1</th>\n      <th>koi_period_err2</th>\n      <th>koi_time0bk</th>\n      <th>koi_time0bk_err1</th>\n      <th>koi_time0bk_err2</th>\n      <th>koi_impact</th>\n      <th>koi_impact_err1</th>\n      <th>koi_impact_err2</th>\n      <th>koi_duration</th>\n      <th>koi_duration_err1</th>\n      <th>koi_duration_err2</th>\n      <th>koi_depth</th>\n      <th>koi_depth_err1</th>\n      <th>koi_depth_err2</th>\n      <th>koi_prad</th>\n      <th>koi_prad_err1</th>\n      <th>koi_prad_err2</th>\n      <th>koi_teq</th>\n      <th>koi_teq_err1</th>\n      <th>koi_teq_err2</th>\n      <th>koi_insol</th>\n      <th>koi_insol_err1</th>\n      <th>koi_insol_err2</th>\n      <th>koi_model_snr</th>\n      <th>koi_tce_plnt_num</th>\n      <th>koi_tce_delivname</th>\n      <th>koi_steff</th>\n      <th>koi_steff_err1</th>\n      <th>koi_steff_err2</th>\n      <th>koi_slogg</th>\n      <th>koi_slogg_err1</th>\n      <th>koi_slogg_err2</th>\n      <th>koi_srad</th>\n      <th>koi_srad_err1</th>\n      <th>koi_srad_err2</th>\n      <th>ra</th>\n      <th>dec</th>\n      <th>koi_kepmag</th>\n    </tr>\n  </thead>\n  <tbody>\n    <tr>\n      <td>0</td>\n      <td>10797460</td>\n      <td>K00752.01</td>\n      <td>Kepler-227 b</td>\n      <td>CONFIRMED</td>\n      <td>CANDIDATE</td>\n      <td>1.000</td>\n      <td>0</td>\n      <td>0</td>\n      <td>0</td>\n      <td>0</td>\n      <td>9.488036</td>\n      <td>2.775000e-05</td>\n      <td>-2.775000e-05</td>\n      <td>170.538750</td>\n      <td>0.002160</td>\n      <td>-0.002160</td>\n      <td>0.146</td>\n      <td>0.318</td>\n      <td>-0.146</td>\n      <td>2.95750</td>\n      <td>0.08190</td>\n      <td>-0.08190</td>\n      <td>615.8</td>\n      <td>19.5</td>\n      <td>-19.5</td>\n      <td>2.26</td>\n      <td>0.26</td>\n      <td>-0.15</td>\n      <td>793.0</td>\n      <td>NaN</td>\n      <td>NaN</td>\n      <td>93.59</td>\n      <td>29.45</td>\n      <td>-16.65</td>\n      <td>35.8</td>\n      <td>1.0</td>\n      <td>q1_q17_dr25_tce</td>\n      <td>5455.0</td>\n      <td>81.0</td>\n      <td>-81.0</td>\n      <td>4.467</td>\n      <td>0.064</td>\n      <td>-0.096</td>\n      <td>0.927</td>\n      <td>0.105</td>\n      <td>-0.061</td>\n      <td>291.93423</td>\n      <td>48.141651</td>\n      <td>15.347</td>\n    </tr>\n    <tr>\n      <td>1</td>\n      <td>10797460</td>\n      <td>K00752.02</td>\n      <td>Kepler-227 c</td>\n      <td>CONFIRMED</td>\n      <td>CANDIDATE</td>\n      <td>0.969</td>\n      <td>0</td>\n      <td>0</td>\n      <td>0</td>\n      <td>0</td>\n      <td>54.418383</td>\n      <td>2.479000e-04</td>\n      <td>-2.479000e-04</td>\n      <td>162.513840</td>\n      <td>0.003520</td>\n      <td>-0.003520</td>\n      <td>0.586</td>\n      <td>0.059</td>\n      <td>-0.443</td>\n      <td>4.50700</td>\n      <td>0.11600</td>\n      <td>-0.11600</td>\n      <td>874.8</td>\n      <td>35.5</td>\n      <td>-35.5</td>\n      <td>2.83</td>\n      <td>0.32</td>\n      <td>-0.19</td>\n      <td>443.0</td>\n      <td>NaN</td>\n      <td>NaN</td>\n      <td>9.11</td>\n      <td>2.87</td>\n      <td>-1.62</td>\n      <td>25.8</td>\n      <td>2.0</td>\n      <td>q1_q17_dr25_tce</td>\n      <td>5455.0</td>\n      <td>81.0</td>\n      <td>-81.0</td>\n      <td>4.467</td>\n      <td>0.064</td>\n      <td>-0.096</td>\n      <td>0.927</td>\n      <td>0.105</td>\n      <td>-0.061</td>\n      <td>291.93423</td>\n      <td>48.141651</td>\n      <td>15.347</td>\n    </tr>\n    <tr>\n      <td>2</td>\n      <td>10811496</td>\n      <td>K00753.01</td>\n      <td>NaN</td>\n      <td>CANDIDATE</td>\n      <td>CANDIDATE</td>\n      <td>0.000</td>\n      <td>0</td>\n      <td>0</td>\n      <td>0</td>\n      <td>0</td>\n      <td>19.899140</td>\n      <td>1.494000e-05</td>\n      <td>-1.494000e-05</td>\n      <td>175.850252</td>\n      <td>0.000581</td>\n      <td>-0.000581</td>\n      <td>0.969</td>\n      <td>5.126</td>\n      <td>-0.077</td>\n      <td>1.78220</td>\n      <td>0.03410</td>\n      <td>-0.03410</td>\n      <td>10829.0</td>\n      <td>171.0</td>\n      <td>-171.0</td>\n      <td>14.60</td>\n      <td>3.92</td>\n      <td>-1.31</td>\n      <td>638.0</td>\n      <td>NaN</td>\n      <td>NaN</td>\n      <td>39.30</td>\n      <td>31.04</td>\n      <td>-10.49</td>\n      <td>76.3</td>\n      <td>1.0</td>\n      <td>q1_q17_dr25_tce</td>\n      <td>5853.0</td>\n      <td>158.0</td>\n      <td>-176.0</td>\n      <td>4.544</td>\n      <td>0.044</td>\n      <td>-0.176</td>\n      <td>0.868</td>\n      <td>0.233</td>\n      <td>-0.078</td>\n      <td>297.00482</td>\n      <td>48.134129</td>\n      <td>15.436</td>\n    </tr>\n    <tr>\n      <td>3</td>\n      <td>10848459</td>\n      <td>K00754.01</td>\n      <td>NaN</td>\n      <td>FALSE POSITIVE</td>\n      <td>FALSE POSITIVE</td>\n      <td>0.000</td>\n      <td>0</td>\n      <td>1</td>\n      <td>0</td>\n      <td>0</td>\n      <td>1.736952</td>\n      <td>2.630000e-07</td>\n      <td>-2.630000e-07</td>\n      <td>170.307565</td>\n      <td>0.000115</td>\n      <td>-0.000115</td>\n      <td>1.276</td>\n      <td>0.115</td>\n      <td>-0.092</td>\n      <td>2.40641</td>\n      <td>0.00537</td>\n      <td>-0.00537</td>\n      <td>8079.2</td>\n      <td>12.8</td>\n      <td>-12.8</td>\n      <td>33.46</td>\n      <td>8.50</td>\n      <td>-2.83</td>\n      <td>1395.0</td>\n      <td>NaN</td>\n      <td>NaN</td>\n      <td>891.96</td>\n      <td>668.95</td>\n      <td>-230.35</td>\n      <td>505.6</td>\n      <td>1.0</td>\n      <td>q1_q17_dr25_tce</td>\n      <td>5805.0</td>\n      <td>157.0</td>\n      <td>-174.0</td>\n      <td>4.564</td>\n      <td>0.053</td>\n      <td>-0.168</td>\n      <td>0.791</td>\n      <td>0.201</td>\n      <td>-0.067</td>\n      <td>285.53461</td>\n      <td>48.285210</td>\n      <td>15.597</td>\n    </tr>\n    <tr>\n      <td>4</td>\n      <td>10854555</td>\n      <td>K00755.01</td>\n      <td>Kepler-664 b</td>\n      <td>CONFIRMED</td>\n      <td>CANDIDATE</td>\n      <td>1.000</td>\n      <td>0</td>\n      <td>0</td>\n      <td>0</td>\n      <td>0</td>\n      <td>2.525592</td>\n      <td>3.761000e-06</td>\n      <td>-3.761000e-06</td>\n      <td>171.595550</td>\n      <td>0.001130</td>\n      <td>-0.001130</td>\n      <td>0.701</td>\n      <td>0.235</td>\n      <td>-0.478</td>\n      <td>1.65450</td>\n      <td>0.04200</td>\n      <td>-0.04200</td>\n      <td>603.3</td>\n      <td>16.9</td>\n      <td>-16.9</td>\n      <td>2.75</td>\n      <td>0.88</td>\n      <td>-0.35</td>\n      <td>1406.0</td>\n      <td>NaN</td>\n      <td>NaN</td>\n      <td>926.16</td>\n      <td>874.33</td>\n      <td>-314.24</td>\n      <td>40.9</td>\n      <td>1.0</td>\n      <td>q1_q17_dr25_tce</td>\n      <td>6031.0</td>\n      <td>169.0</td>\n      <td>-211.0</td>\n      <td>4.438</td>\n      <td>0.070</td>\n      <td>-0.210</td>\n      <td>1.046</td>\n      <td>0.334</td>\n      <td>-0.133</td>\n      <td>288.75488</td>\n      <td>48.226200</td>\n      <td>15.509</td>\n    </tr>\n    <tr>\n      <td>...</td>\n      <td>...</td>\n      <td>...</td>\n      <td>...</td>\n      <td>...</td>\n      <td>...</td>\n      <td>...</td>\n      <td>...</td>\n      <td>...</td>\n      <td>...</td>\n      <td>...</td>\n      <td>...</td>\n      <td>...</td>\n      <td>...</td>\n      <td>...</td>\n      <td>...</td>\n      <td>...</td>\n      <td>...</td>\n      <td>...</td>\n      <td>...</td>\n      <td>...</td>\n      <td>...</td>\n      <td>...</td>\n      <td>...</td>\n      <td>...</td>\n      <td>...</td>\n      <td>...</td>\n      <td>...</td>\n      <td>...</td>\n      <td>...</td>\n      <td>...</td>\n      <td>...</td>\n      <td>...</td>\n      <td>...</td>\n      <td>...</td>\n      <td>...</td>\n      <td>...</td>\n      <td>...</td>\n      <td>...</td>\n      <td>...</td>\n      <td>...</td>\n      <td>...</td>\n      <td>...</td>\n      <td>...</td>\n      <td>...</td>\n      <td>...</td>\n      <td>...</td>\n      <td>...</td>\n      <td>...</td>\n      <td>...</td>\n    </tr>\n    <tr>\n      <td>9559</td>\n      <td>10090151</td>\n      <td>K07985.01</td>\n      <td>NaN</td>\n      <td>FALSE POSITIVE</td>\n      <td>FALSE POSITIVE</td>\n      <td>0.000</td>\n      <td>0</td>\n      <td>1</td>\n      <td>1</td>\n      <td>0</td>\n      <td>0.527699</td>\n      <td>1.160000e-07</td>\n      <td>-1.160000e-07</td>\n      <td>131.705093</td>\n      <td>0.000170</td>\n      <td>-0.000170</td>\n      <td>1.252</td>\n      <td>0.051</td>\n      <td>-0.049</td>\n      <td>3.22210</td>\n      <td>0.01740</td>\n      <td>-0.01740</td>\n      <td>1579.2</td>\n      <td>4.6</td>\n      <td>-4.6</td>\n      <td>29.35</td>\n      <td>7.70</td>\n      <td>-2.57</td>\n      <td>2088.0</td>\n      <td>NaN</td>\n      <td>NaN</td>\n      <td>4500.53</td>\n      <td>3406.38</td>\n      <td>-1175.26</td>\n      <td>453.3</td>\n      <td>1.0</td>\n      <td>q1_q17_dr25_tce</td>\n      <td>5638.0</td>\n      <td>139.0</td>\n      <td>-166.0</td>\n      <td>4.529</td>\n      <td>0.035</td>\n      <td>-0.196</td>\n      <td>0.903</td>\n      <td>0.237</td>\n      <td>-0.079</td>\n      <td>297.18875</td>\n      <td>47.093819</td>\n      <td>14.082</td>\n    </tr>\n    <tr>\n      <td>9560</td>\n      <td>10128825</td>\n      <td>K07986.01</td>\n      <td>NaN</td>\n      <td>CANDIDATE</td>\n      <td>CANDIDATE</td>\n      <td>0.497</td>\n      <td>0</td>\n      <td>0</td>\n      <td>0</td>\n      <td>0</td>\n      <td>1.739849</td>\n      <td>1.780000e-05</td>\n      <td>-1.780000e-05</td>\n      <td>133.001270</td>\n      <td>0.007690</td>\n      <td>-0.007690</td>\n      <td>0.043</td>\n      <td>0.423</td>\n      <td>-0.043</td>\n      <td>3.11400</td>\n      <td>0.22900</td>\n      <td>-0.22900</td>\n      <td>48.5</td>\n      <td>5.4</td>\n      <td>-5.4</td>\n      <td>0.72</td>\n      <td>0.24</td>\n      <td>-0.08</td>\n      <td>1608.0</td>\n      <td>NaN</td>\n      <td>NaN</td>\n      <td>1585.81</td>\n      <td>1537.86</td>\n      <td>-502.22</td>\n      <td>10.6</td>\n      <td>1.0</td>\n      <td>q1_q17_dr25_tce</td>\n      <td>6119.0</td>\n      <td>165.0</td>\n      <td>-220.0</td>\n      <td>4.444</td>\n      <td>0.056</td>\n      <td>-0.224</td>\n      <td>1.031</td>\n      <td>0.341</td>\n      <td>-0.114</td>\n      <td>286.50937</td>\n      <td>47.163219</td>\n      <td>14.757</td>\n    </tr>\n    <tr>\n      <td>9561</td>\n      <td>10147276</td>\n      <td>K07987.01</td>\n      <td>NaN</td>\n      <td>FALSE POSITIVE</td>\n      <td>FALSE POSITIVE</td>\n      <td>0.021</td>\n      <td>0</td>\n      <td>0</td>\n      <td>1</td>\n      <td>0</td>\n      <td>0.681402</td>\n      <td>2.434000e-06</td>\n      <td>-2.434000e-06</td>\n      <td>132.181750</td>\n      <td>0.002850</td>\n      <td>-0.002850</td>\n      <td>0.147</td>\n      <td>0.309</td>\n      <td>-0.147</td>\n      <td>0.86500</td>\n      <td>0.16200</td>\n      <td>-0.16200</td>\n      <td>103.6</td>\n      <td>14.7</td>\n      <td>-14.7</td>\n      <td>1.07</td>\n      <td>0.36</td>\n      <td>-0.11</td>\n      <td>2218.0</td>\n      <td>NaN</td>\n      <td>NaN</td>\n      <td>5713.41</td>\n      <td>5675.74</td>\n      <td>-1836.94</td>\n      <td>12.3</td>\n      <td>1.0</td>\n      <td>q1_q17_dr25_tce</td>\n      <td>6173.0</td>\n      <td>193.0</td>\n      <td>-236.0</td>\n      <td>4.447</td>\n      <td>0.056</td>\n      <td>-0.224</td>\n      <td>1.041</td>\n      <td>0.341</td>\n      <td>-0.114</td>\n      <td>294.16489</td>\n      <td>47.176281</td>\n      <td>15.385</td>\n    </tr>\n    <tr>\n      <td>9562</td>\n      <td>10155286</td>\n      <td>K07988.01</td>\n      <td>NaN</td>\n      <td>CANDIDATE</td>\n      <td>CANDIDATE</td>\n      <td>0.092</td>\n      <td>0</td>\n      <td>0</td>\n      <td>0</td>\n      <td>0</td>\n      <td>333.486169</td>\n      <td>4.235000e-03</td>\n      <td>-4.235000e-03</td>\n      <td>153.615010</td>\n      <td>0.005070</td>\n      <td>-0.005070</td>\n      <td>0.214</td>\n      <td>0.255</td>\n      <td>-0.214</td>\n      <td>3.19900</td>\n      <td>0.22900</td>\n      <td>-0.22900</td>\n      <td>639.1</td>\n      <td>52.7</td>\n      <td>-52.7</td>\n      <td>19.30</td>\n      <td>0.55</td>\n      <td>-4.68</td>\n      <td>557.0</td>\n      <td>NaN</td>\n      <td>NaN</td>\n      <td>22.68</td>\n      <td>2.07</td>\n      <td>-10.95</td>\n      <td>14.0</td>\n      <td>1.0</td>\n      <td>q1_q17_dr25_tce</td>\n      <td>4989.0</td>\n      <td>39.0</td>\n      <td>-128.0</td>\n      <td>2.992</td>\n      <td>0.030</td>\n      <td>-0.027</td>\n      <td>7.824</td>\n      <td>0.223</td>\n      <td>-1.896</td>\n      <td>296.76288</td>\n      <td>47.145142</td>\n      <td>10.998</td>\n    </tr>\n    <tr>\n      <td>9563</td>\n      <td>10156110</td>\n      <td>K07989.01</td>\n      <td>NaN</td>\n      <td>FALSE POSITIVE</td>\n      <td>FALSE POSITIVE</td>\n      <td>0.000</td>\n      <td>0</td>\n      <td>0</td>\n      <td>1</td>\n      <td>1</td>\n      <td>4.856035</td>\n      <td>6.356000e-05</td>\n      <td>-6.356000e-05</td>\n      <td>135.993300</td>\n      <td>0.010800</td>\n      <td>-0.010800</td>\n      <td>0.134</td>\n      <td>0.323</td>\n      <td>-0.134</td>\n      <td>3.07800</td>\n      <td>0.28300</td>\n      <td>-0.28300</td>\n      <td>76.7</td>\n      <td>10.8</td>\n      <td>-10.8</td>\n      <td>1.05</td>\n      <td>0.36</td>\n      <td>-0.12</td>\n      <td>1266.0</td>\n      <td>NaN</td>\n      <td>NaN</td>\n      <td>607.42</td>\n      <td>600.39</td>\n      <td>-194.33</td>\n      <td>8.2</td>\n      <td>1.0</td>\n      <td>q1_q17_dr25_tce</td>\n      <td>6469.0</td>\n      <td>158.0</td>\n      <td>-225.0</td>\n      <td>4.385</td>\n      <td>0.054</td>\n      <td>-0.216</td>\n      <td>1.193</td>\n      <td>0.410</td>\n      <td>-0.137</td>\n      <td>297.00977</td>\n      <td>47.121021</td>\n      <td>14.826</td>\n    </tr>\n  </tbody>\n</table>\n<p>9564 rows × 49 columns</p>\n</div>"
     },
     "metadata": {},
     "execution_count": 5
    }
   ],
   "source": [
    "df_koi = pd.read_csv(\"./mast-info.csv\", skiprows=53)\n",
    "df_koi"
   ]
  },
  {
   "cell_type": "code",
   "execution_count": 1,
   "metadata": {
    "tags": []
   },
   "outputs": [
    {
     "output_type": "error",
     "ename": "NameError",
     "evalue": "name &#39;df_koi&#39; is not defined",
     "traceback": [
      "\u001b[1;31m---------------------------------------------------------------------------\u001b[0m",
      "\u001b[1;31mNameError\u001b[0m                                 Traceback (most recent call last)",
      "\u001b[1;32m&lt;ipython-input-1-8077f2b9c257&gt;\u001b[0m in \u001b[0;36m&lt;module&gt;\u001b[1;34m\u001b[0m\n\u001b[1;32m----&gt; 1\u001b[1;33m \u001b[0mlen_df_koi\u001b[0m \u001b[1;33m=\u001b[0m \u001b[0mlen\u001b[0m\u001b[1;33m(\u001b[0m\u001b[0mdf_koi\u001b[0m\u001b[1;33m)\u001b[0m\u001b[1;33m\u001b[0m\u001b[1;33m\u001b[0m\u001b[0m\n\u001b[0m\u001b[0;32m      2\u001b[0m \u001b[1;32mfor\u001b[0m \u001b[0mi\u001b[0m \u001b[1;32min\u001b[0m \u001b[0mrange\u001b[0m\u001b[1;33m(\u001b[0m\u001b[1;36m501\u001b[0m\u001b[1;33m,\u001b[0m \u001b[0mlen_df_koi\u001b[0m\u001b[1;33m)\u001b[0m\u001b[1;33m:\u001b[0m\u001b[1;33m\u001b[0m\u001b[1;33m\u001b[0m\u001b[0m\n\u001b[0;32m      3\u001b[0m \u001b[1;31m# for i in range(0, 3):\u001b[0m\u001b[1;33m\u001b[0m\u001b[1;33m\u001b[0m\u001b[1;33m\u001b[0m\u001b[0m\n\u001b[0;32m      4\u001b[0m     \u001b[0mrow\u001b[0m \u001b[1;33m=\u001b[0m \u001b[0mdf_koi\u001b[0m\u001b[1;33m.\u001b[0m\u001b[0miloc\u001b[0m\u001b[1;33m[\u001b[0m\u001b[0mi\u001b[0m\u001b[1;33m]\u001b[0m\u001b[1;33m\u001b[0m\u001b[1;33m\u001b[0m\u001b[0m\n\u001b[0;32m      5\u001b[0m     \u001b[0mperiod\u001b[0m\u001b[1;33m,\u001b[0m \u001b[0mt0\u001b[0m\u001b[1;33m,\u001b[0m \u001b[0mduration_hours\u001b[0m \u001b[1;33m=\u001b[0m \u001b[0mrow\u001b[0m\u001b[1;33m[\u001b[0m\u001b[1;34m&#39;koi_period&#39;\u001b[0m\u001b[1;33m]\u001b[0m\u001b[1;33m,\u001b[0m \u001b[0mrow\u001b[0m\u001b[1;33m[\u001b[0m\u001b[1;34m&#39;koi_time0bk&#39;\u001b[0m\u001b[1;33m]\u001b[0m\u001b[1;33m,\u001b[0m \u001b[0mrow\u001b[0m\u001b[1;33m[\u001b[0m\u001b[1;34m&#39;koi_duration&#39;\u001b[0m\u001b[1;33m]\u001b[0m\u001b[1;33m\u001b[0m\u001b[1;33m\u001b[0m\u001b[0m\n",
      "\u001b[1;31mNameError\u001b[0m: name &#39;df_koi&#39; is not defined"
     ]
    }
   ],
   "source": [
    "len_df_koi = len(df_koi)\n",
    "for i in range(0, len_df_koi):\n",
    "# for i in range(0, 3):\n",
    "    row = df_koi.iloc[i]\n",
    "    period, t0, duration_hours = row['koi_period'], row['koi_time0bk'], row['koi_duration']\n",
    "    \n",
    "    kepoi_folder = \"./lightkurve/\" + row[\"kepoi_name\"]\n",
    "    kepoi_file_global = kepoi_folder + \"/\" + row[\"kepoi_name\"] + \"_global.csv\"\n",
    "    kepoi_file_local = kepoi_folder + \"/\" + row[\"kepoi_name\"] + \"_local.csv\"\n",
    "    if not os.path.exists(kepoi_folder):\n",
    "        os.makedirs(kepoi_folder)\n",
    "\n",
    "    if len(glob.glob(kepoi_file_global)) == 0:\n",
    "        try:\n",
    "\n",
    "            kic = \"KIC \" + str(row['kepid'])\n",
    "            print(\"[\",i,\"/\", len_df_koi,\"] descargando fits de\", kic, \" - \", row['kepler_name'])\n",
    "            lcfs = lk.search_lightcurvefile(kic, mission='Kepler').download_all()\n",
    "\n",
    "            lc_raw = lcfs.PDCSAP_FLUX.stitch()\n",
    "            lc_raw.flux.shape\n",
    "\n",
    "            lc_clean = lc_raw.remove_outliers(sigma=20, sigma_upper=4)\n",
    "\n",
    "            temp_fold = lc_clean.fold(period, t0=t0)\n",
    "            fractional_duration = (duration_hours / 24.0) / period\n",
    "            phase_mask = np.abs(temp_fold.phase) < (fractional_duration * 1.5)\n",
    "            transit_mask = np.in1d(lc_clean.time, temp_fold.time_original[phase_mask])\n",
    "\n",
    "            lc_flat, trend_lc = lc_clean.flatten(return_trend=True, mask=transit_mask)\n",
    "\n",
    "            lc_fold = lc_flat.fold(period, t0=t0)\n",
    "\n",
    "            lc_global = lc_fold.bin(method='median').normalize() - 1\n",
    "            lc_global = (lc_global / np.abs(lc_global.flux.min()) ) * 2.0 + 1\n",
    "            # print(\"-> FLUX global\", lc_global.flux.shape)\n",
    "\n",
    "            # lc_global.scatter();\n",
    "\n",
    "            #\n",
    "\n",
    "            phase_mask = (lc_fold.phase > -4*fractional_duration) & (lc_fold.phase < 4.0*fractional_duration)\n",
    "            lc_zoom = lc_fold[phase_mask]\n",
    "\n",
    "            lc_local = lc_zoom.bin(method='median').normalize() -1\n",
    "            lc_local = (lc_local / np.abs(lc_local.flux.min()) ) * 2.0 + 1\n",
    "            # print(\"-> FLUX local\", lc_local.flux.shape)\n",
    "\n",
    "            # lc_local.scatter();\n",
    "\n",
    "            # print(\"-> Guardando ficheros FLUX (\",row[\"kepoi_name\"] ,\")\")\n",
    "            pd.DataFrame(lc_global.flux).to_csv(kepoi_file_global)\n",
    "            pd.DataFrame(lc_local.flux).to_csv(kepoi_file_local)\n",
    "        except:\n",
    "            print(\"ERROR\")\n"
   ]
  }
 ]
}