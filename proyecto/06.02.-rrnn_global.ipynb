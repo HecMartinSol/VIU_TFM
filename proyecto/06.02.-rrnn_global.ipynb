{
 "metadata": {
  "language_info": {
   "codemirror_mode": {
    "name": "ipython",
    "version": 3
   },
   "file_extension": ".py",
   "mimetype": "text/x-python",
   "name": "python",
   "nbconvert_exporter": "python",
   "pygments_lexer": "ipython3",
   "version": "3.7.4-final"
  },
  "orig_nbformat": 2,
  "kernelspec": {
   "name": "Python 3.7.4 64-bit ('base': conda)",
   "display_name": "Python 3.7.4 64-bit ('base': conda)",
   "metadata": {
    "interpreter": {
     "hash": "f958bdd04a238e53230fa8372db10ddee88fbe838d3660515cd74e50e6d77f98"
    }
   }
  }
 },
 "nbformat": 4,
 "nbformat_minor": 2,
 "cells": [
  {
   "cell_type": "code",
   "execution_count": 22,
   "metadata": {},
   "outputs": [
    {
     "output_type": "execute_result",
     "data": {
      "text/plain": [
       "'2.3.1'"
      ]
     },
     "metadata": {},
     "execution_count": 22
    }
   ],
   "source": [
    "import pandas as pd\n",
    "import numpy as np\n",
    "import matplotlib.pyplot as plt\n",
    "import seaborn as sn\n",
    "import sklearn\n",
    "from sklearn.model_selection import train_test_split\n",
    "\n",
    "import tensorflow as tf\n",
    "tf.__version__"
   ]
  },
  {
   "cell_type": "code",
   "execution_count": 23,
   "metadata": {},
   "outputs": [],
   "source": [
    "np.random.seed(10)\n",
    "tf.compat.v1.set_random_seed(10)"
   ]
  },
  {
   "cell_type": "code",
   "execution_count": 24,
   "metadata": {},
   "outputs": [
    {
     "output_type": "display_data",
     "data": {
      "text/plain": "           kepid   kepler_name kepoi_name  koi_disposition  light_flux_0001  \\\n0     10797460.0  Kepler-227 b  K00752.01                1         0.832189   \n1     10811496.0           NaN  K00753.01                0         0.966682   \n2     10848459.0           NaN  K00754.01                0         1.034104   \n3     10854555.0  Kepler-664 b  K00755.01                1         0.975071   \n4     10872983.0  Kepler-228 d  K00756.01                1         1.394998   \n...          ...           ...        ...              ...              ...   \n6090  10031643.0           NaN  K07984.01                0         0.175475   \n6091  10090151.0           NaN  K07985.01                0         0.747230   \n6092  10128825.0           NaN  K07986.01                0         0.714833   \n6093  10147276.0           NaN  K07987.01                0         1.486451   \n6094  10156110.0           NaN  K07989.01                0         1.192833   \n\n      light_flux_0002  light_flux_0003  light_flux_0004  light_flux_0005  \\\n0            0.435614         1.357075         1.108348         1.650665   \n1            0.964235         0.970539         0.937743         0.975104   \n2            0.982172         1.048199         1.078219         0.983764   \n3            1.225692         1.269809         1.771289         1.312162   \n4            1.185855         0.932441         1.230771         0.940595   \n...               ...              ...              ...              ...   \n6090         1.504283         1.318089         0.769620         0.666730   \n6091         0.915918         1.031489         0.989710         1.021699   \n6092         1.610737         0.196081         0.533665         1.053996   \n6093         1.733356         0.993478         0.776943         0.226574   \n6094         0.766126         0.736406         1.477793         0.012149   \n\n      light_flux_0006  ...  light_flux_0992  light_flux_0993  light_flux_0994  \\\n0            1.129287  ...         0.713763         1.274681         1.154911   \n1            1.039065  ...         0.943850         0.965717         0.990491   \n2            0.992431  ...         0.946015         1.010975         1.011789   \n3            1.097620  ...         1.335065         1.179038         1.002768   \n4            0.909058  ...         0.864800         0.850251         1.086740   \n...               ...  ...              ...              ...              ...   \n6090         1.008246  ...         1.378201         1.927068         1.984925   \n6091         0.867820  ...         0.755320         0.876177         0.913214   \n6092         0.873009  ...         1.082519         1.101279         1.060959   \n6093         0.407813  ...         0.898611         1.483079         1.160034   \n6094         0.776158  ...         1.085282        -0.125610         0.029371   \n\n      light_flux_0995  light_flux_0996  light_flux_0997  light_flux_0998  \\\n0            2.088258         1.059249         0.848340         1.142176   \n1            0.982717         0.985906         0.961670         1.043547   \n2            1.055202         1.038121         1.044473         1.071489   \n3            1.017255         0.823422         0.561212         1.035374   \n4            1.073562         0.930443         0.857681         1.232381   \n...               ...              ...              ...              ...   \n6090         1.130322         1.202864         0.781321         0.045358   \n6091         0.960485         1.017231         0.789195         0.809078   \n6092         1.446257         1.603752         0.875442         1.295145   \n6093         0.921238         1.509204        -0.560163         0.666612   \n6094         0.938950         0.910189         0.840100         1.161185   \n\n      light_flux_0999  light_flux_1000  light_flux_1001  \n0            0.961584         0.966640         1.044353  \n1            0.983126         1.040699         1.040926  \n2            1.053268         1.033189         1.005258  \n3            0.835232         1.615619         1.464552  \n4            1.297968         1.208948         1.079670  \n...               ...              ...              ...  \n6090         0.647927         1.207362         1.101768  \n6091         0.774575         0.872496         0.802597  \n6092         1.852598         0.230911         0.803615  \n6093         1.113881         2.175872         2.393636  \n6094         0.785235         1.680639         0.862709  \n\n[6095 rows x 1005 columns]",
      "text/html": "<div>\n<style scoped>\n    .dataframe tbody tr th:only-of-type {\n        vertical-align: middle;\n    }\n\n    .dataframe tbody tr th {\n        vertical-align: top;\n    }\n\n    .dataframe thead th {\n        text-align: right;\n    }\n</style>\n<table border=\"1\" class=\"dataframe\">\n  <thead>\n    <tr style=\"text-align: right;\">\n      <th></th>\n      <th>kepid</th>\n      <th>kepler_name</th>\n      <th>kepoi_name</th>\n      <th>koi_disposition</th>\n      <th>light_flux_0001</th>\n      <th>light_flux_0002</th>\n      <th>light_flux_0003</th>\n      <th>light_flux_0004</th>\n      <th>light_flux_0005</th>\n      <th>light_flux_0006</th>\n      <th>...</th>\n      <th>light_flux_0992</th>\n      <th>light_flux_0993</th>\n      <th>light_flux_0994</th>\n      <th>light_flux_0995</th>\n      <th>light_flux_0996</th>\n      <th>light_flux_0997</th>\n      <th>light_flux_0998</th>\n      <th>light_flux_0999</th>\n      <th>light_flux_1000</th>\n      <th>light_flux_1001</th>\n    </tr>\n  </thead>\n  <tbody>\n    <tr>\n      <td>0</td>\n      <td>10797460.0</td>\n      <td>Kepler-227 b</td>\n      <td>K00752.01</td>\n      <td>1</td>\n      <td>0.832189</td>\n      <td>0.435614</td>\n      <td>1.357075</td>\n      <td>1.108348</td>\n      <td>1.650665</td>\n      <td>1.129287</td>\n      <td>...</td>\n      <td>0.713763</td>\n      <td>1.274681</td>\n      <td>1.154911</td>\n      <td>2.088258</td>\n      <td>1.059249</td>\n      <td>0.848340</td>\n      <td>1.142176</td>\n      <td>0.961584</td>\n      <td>0.966640</td>\n      <td>1.044353</td>\n    </tr>\n    <tr>\n      <td>1</td>\n      <td>10811496.0</td>\n      <td>NaN</td>\n      <td>K00753.01</td>\n      <td>0</td>\n      <td>0.966682</td>\n      <td>0.964235</td>\n      <td>0.970539</td>\n      <td>0.937743</td>\n      <td>0.975104</td>\n      <td>1.039065</td>\n      <td>...</td>\n      <td>0.943850</td>\n      <td>0.965717</td>\n      <td>0.990491</td>\n      <td>0.982717</td>\n      <td>0.985906</td>\n      <td>0.961670</td>\n      <td>1.043547</td>\n      <td>0.983126</td>\n      <td>1.040699</td>\n      <td>1.040926</td>\n    </tr>\n    <tr>\n      <td>2</td>\n      <td>10848459.0</td>\n      <td>NaN</td>\n      <td>K00754.01</td>\n      <td>0</td>\n      <td>1.034104</td>\n      <td>0.982172</td>\n      <td>1.048199</td>\n      <td>1.078219</td>\n      <td>0.983764</td>\n      <td>0.992431</td>\n      <td>...</td>\n      <td>0.946015</td>\n      <td>1.010975</td>\n      <td>1.011789</td>\n      <td>1.055202</td>\n      <td>1.038121</td>\n      <td>1.044473</td>\n      <td>1.071489</td>\n      <td>1.053268</td>\n      <td>1.033189</td>\n      <td>1.005258</td>\n    </tr>\n    <tr>\n      <td>3</td>\n      <td>10854555.0</td>\n      <td>Kepler-664 b</td>\n      <td>K00755.01</td>\n      <td>1</td>\n      <td>0.975071</td>\n      <td>1.225692</td>\n      <td>1.269809</td>\n      <td>1.771289</td>\n      <td>1.312162</td>\n      <td>1.097620</td>\n      <td>...</td>\n      <td>1.335065</td>\n      <td>1.179038</td>\n      <td>1.002768</td>\n      <td>1.017255</td>\n      <td>0.823422</td>\n      <td>0.561212</td>\n      <td>1.035374</td>\n      <td>0.835232</td>\n      <td>1.615619</td>\n      <td>1.464552</td>\n    </tr>\n    <tr>\n      <td>4</td>\n      <td>10872983.0</td>\n      <td>Kepler-228 d</td>\n      <td>K00756.01</td>\n      <td>1</td>\n      <td>1.394998</td>\n      <td>1.185855</td>\n      <td>0.932441</td>\n      <td>1.230771</td>\n      <td>0.940595</td>\n      <td>0.909058</td>\n      <td>...</td>\n      <td>0.864800</td>\n      <td>0.850251</td>\n      <td>1.086740</td>\n      <td>1.073562</td>\n      <td>0.930443</td>\n      <td>0.857681</td>\n      <td>1.232381</td>\n      <td>1.297968</td>\n      <td>1.208948</td>\n      <td>1.079670</td>\n    </tr>\n    <tr>\n      <td>...</td>\n      <td>...</td>\n      <td>...</td>\n      <td>...</td>\n      <td>...</td>\n      <td>...</td>\n      <td>...</td>\n      <td>...</td>\n      <td>...</td>\n      <td>...</td>\n      <td>...</td>\n      <td>...</td>\n      <td>...</td>\n      <td>...</td>\n      <td>...</td>\n      <td>...</td>\n      <td>...</td>\n      <td>...</td>\n      <td>...</td>\n      <td>...</td>\n      <td>...</td>\n      <td>...</td>\n    </tr>\n    <tr>\n      <td>6090</td>\n      <td>10031643.0</td>\n      <td>NaN</td>\n      <td>K07984.01</td>\n      <td>0</td>\n      <td>0.175475</td>\n      <td>1.504283</td>\n      <td>1.318089</td>\n      <td>0.769620</td>\n      <td>0.666730</td>\n      <td>1.008246</td>\n      <td>...</td>\n      <td>1.378201</td>\n      <td>1.927068</td>\n      <td>1.984925</td>\n      <td>1.130322</td>\n      <td>1.202864</td>\n      <td>0.781321</td>\n      <td>0.045358</td>\n      <td>0.647927</td>\n      <td>1.207362</td>\n      <td>1.101768</td>\n    </tr>\n    <tr>\n      <td>6091</td>\n      <td>10090151.0</td>\n      <td>NaN</td>\n      <td>K07985.01</td>\n      <td>0</td>\n      <td>0.747230</td>\n      <td>0.915918</td>\n      <td>1.031489</td>\n      <td>0.989710</td>\n      <td>1.021699</td>\n      <td>0.867820</td>\n      <td>...</td>\n      <td>0.755320</td>\n      <td>0.876177</td>\n      <td>0.913214</td>\n      <td>0.960485</td>\n      <td>1.017231</td>\n      <td>0.789195</td>\n      <td>0.809078</td>\n      <td>0.774575</td>\n      <td>0.872496</td>\n      <td>0.802597</td>\n    </tr>\n    <tr>\n      <td>6092</td>\n      <td>10128825.0</td>\n      <td>NaN</td>\n      <td>K07986.01</td>\n      <td>0</td>\n      <td>0.714833</td>\n      <td>1.610737</td>\n      <td>0.196081</td>\n      <td>0.533665</td>\n      <td>1.053996</td>\n      <td>0.873009</td>\n      <td>...</td>\n      <td>1.082519</td>\n      <td>1.101279</td>\n      <td>1.060959</td>\n      <td>1.446257</td>\n      <td>1.603752</td>\n      <td>0.875442</td>\n      <td>1.295145</td>\n      <td>1.852598</td>\n      <td>0.230911</td>\n      <td>0.803615</td>\n    </tr>\n    <tr>\n      <td>6093</td>\n      <td>10147276.0</td>\n      <td>NaN</td>\n      <td>K07987.01</td>\n      <td>0</td>\n      <td>1.486451</td>\n      <td>1.733356</td>\n      <td>0.993478</td>\n      <td>0.776943</td>\n      <td>0.226574</td>\n      <td>0.407813</td>\n      <td>...</td>\n      <td>0.898611</td>\n      <td>1.483079</td>\n      <td>1.160034</td>\n      <td>0.921238</td>\n      <td>1.509204</td>\n      <td>-0.560163</td>\n      <td>0.666612</td>\n      <td>1.113881</td>\n      <td>2.175872</td>\n      <td>2.393636</td>\n    </tr>\n    <tr>\n      <td>6094</td>\n      <td>10156110.0</td>\n      <td>NaN</td>\n      <td>K07989.01</td>\n      <td>0</td>\n      <td>1.192833</td>\n      <td>0.766126</td>\n      <td>0.736406</td>\n      <td>1.477793</td>\n      <td>0.012149</td>\n      <td>0.776158</td>\n      <td>...</td>\n      <td>1.085282</td>\n      <td>-0.125610</td>\n      <td>0.029371</td>\n      <td>0.938950</td>\n      <td>0.910189</td>\n      <td>0.840100</td>\n      <td>1.161185</td>\n      <td>0.785235</td>\n      <td>1.680639</td>\n      <td>0.862709</td>\n    </tr>\n  </tbody>\n</table>\n<p>6095 rows × 1005 columns</p>\n</div>"
     },
     "metadata": {}
    }
   ],
   "source": [
    "# Cargo los csv\n",
    "df_global = pd.read_csv(\"./unified-lightcurves-global.csv\").iloc[:, 1:]\n",
    "\n",
    "display(df_global)"
   ]
  },
  {
   "cell_type": "code",
   "execution_count": 25,
   "metadata": {},
   "outputs": [],
   "source": [
    "global_fluxes = df_global.iloc[:,4:]\n",
    "global_labels = df_global.iloc[:,3]"
   ]
  },
  {
   "source": [
    "## Particionado de datos"
   ],
   "cell_type": "markdown",
   "metadata": {}
  },
  {
   "cell_type": "code",
   "execution_count": 26,
   "metadata": {},
   "outputs": [],
   "source": [
    "x_global_train, x_global_test, y_global_train, y_global_test = train_test_split(\n",
    "    global_fluxes, global_labels, test_size=0.3, random_state=11)"
   ]
  },
  {
   "cell_type": "code",
   "execution_count": 27,
   "metadata": {},
   "outputs": [
    {
     "output_type": "stream",
     "name": "stdout",
     "text": [
      "(4266, 1001) (1829, 1001) (4266,) (1829,)\n"
     ]
    }
   ],
   "source": [
    "print(x_global_train.shape, x_global_test.shape, y_global_train.shape, y_global_test.shape)"
   ]
  },
  {
   "cell_type": "code",
   "execution_count": 28,
   "metadata": {},
   "outputs": [],
   "source": [
    "#Definimos las dimensiones\n",
    "n_outputs = 1\n",
    "n_global_timesteps, n_global_features  = x_global_train.shape[0], x_global_train.shape[1]"
   ]
  },
  {
   "cell_type": "code",
   "execution_count": 29,
   "metadata": {},
   "outputs": [
    {
     "output_type": "stream",
     "name": "stdout",
     "text": [
      "4266 1001\n"
     ]
    }
   ],
   "source": [
    "print(n_global_timesteps, n_global_features)"
   ]
  },
  {
   "cell_type": "code",
   "execution_count": 30,
   "metadata": {},
   "outputs": [],
   "source": [
    "#Expandimos las dimensiones de train \n",
    "x_global_extended_train = np.expand_dims(x_global_train,axis=-1)\n",
    "y_global_extended_train = np.array(y_global_train)"
   ]
  },
  {
   "cell_type": "code",
   "execution_count": 31,
   "metadata": {},
   "outputs": [
    {
     "output_type": "stream",
     "name": "stdout",
     "text": [
      "(4266, 1001) (4266,)\n(4266, 1001, 1) (4266,)\n"
     ]
    }
   ],
   "source": [
    "print(x_global_train.shape, y_global_train.shape)\n",
    "print(x_global_extended_train.shape, y_global_extended_train.shape)"
   ]
  },
  {
   "cell_type": "code",
   "execution_count": 32,
   "metadata": {},
   "outputs": [],
   "source": [
    "#Expandimos las dimensiones de test\n",
    "x_global_extended_test = np.expand_dims(x_global_test,axis=-1)\n",
    "y_global_extended_test = np.array(y_global_test)"
   ]
  },
  {
   "cell_type": "code",
   "execution_count": 33,
   "metadata": {},
   "outputs": [
    {
     "output_type": "stream",
     "name": "stdout",
     "text": [
      "(1829, 1001) (1829,)\n(1829, 1001, 1) (1829,)\n"
     ]
    }
   ],
   "source": [
    "print(x_global_test.shape, y_global_test.shape)\n",
    "print(x_global_extended_test.shape, y_global_extended_test.shape)"
   ]
  },
  {
   "source": [
    "## Construcción Red Neuronal"
   ],
   "cell_type": "markdown",
   "metadata": {}
  },
  {
   "cell_type": "code",
   "execution_count": 34,
   "metadata": {},
   "outputs": [],
   "source": [
    "inputGlobalView = tf.keras.layers.Input(shape=(n_global_features, 1))\n",
    "inputGlobalView.set_shape([n_global_timesteps, n_global_features, 1])  # 4266 x 1001\n",
    "\n",
    "\n",
    "CG1 = tf.keras.layers.Conv1D(filters=16, kernel_size=5, activation='relu')(inputGlobalView)\n",
    "CG2 = tf.keras.layers.Conv1D(filters=16, kernel_size=5, activation='relu')(CG1)\n",
    "\n",
    "MG1 = tf.keras.layers.MaxPooling1D(pool_size=3, strides=2)(CG2)\n",
    "\n",
    "CG3 = tf.keras.layers.Conv1D(filters=32, kernel_size=5, activation='relu')(MG1)\n",
    "CG4 = tf.keras.layers.Conv1D(filters=32, kernel_size=5, activation='relu')(CG3)\n",
    "\n",
    "MG2 = tf.keras.layers.MaxPooling1D(pool_size=2, strides=2)(CG4)\n",
    "\n",
    "CG5 = tf.keras.layers.Conv1D(filters=64, kernel_size=5, activation='relu')(MG2)\n",
    "CG6 = tf.keras.layers.Conv1D(filters=64, kernel_size=5, activation='relu')(CG5)\n",
    "\n",
    "MG3 = tf.keras.layers.MaxPooling1D(pool_size=2, strides=2)(CG6)\n",
    "\n",
    "CG7 = tf.keras.layers.Conv1D(filters=128, kernel_size=5, activation='relu')(MG3)\n",
    "CG8 = tf.keras.layers.Conv1D(filters=128, kernel_size=5, activation='relu')(CG7)\n",
    "\n",
    "MG4 = tf.keras.layers.MaxPooling1D(pool_size=2, strides=2)(CG8)\n",
    "\n",
    "CG9 = tf.keras.layers.Conv1D(filters=128, kernel_size=5, activation='relu')(MG4)\n",
    "CG10 = tf.keras.layers.Conv1D(filters=256, kernel_size=5, activation='relu')(CG9)\n",
    "\n",
    "MG5 = tf.keras.layers.MaxPooling1D(pool_size=2, strides=2)(CG10)\n",
    "\n",
    "# flat2 = tf.keras.layers.Flatten()(MG5)\n"
   ]
  },
  {
   "source": [
    "### Unificación de redes"
   ],
   "cell_type": "markdown",
   "metadata": {}
  },
  {
   "cell_type": "code",
   "execution_count": 35,
   "metadata": {},
   "outputs": [],
   "source": [
    "output_activation = 'sigmoid' # tanh / sigmoid / relu #\n",
    "output_optimizer = 'adamax' # adam / adamax#\n",
    "rrnn = 'global'\n",
    "\n",
    "basefolder = \"trainings/\" + rrnn + \"_\" + output_activation + \"-\" + output_optimizer \n",
    "basepath = basefolder + \"/\" + rrnn + \"_\" + output_activation + \"-\" + output_optimizer"
   ]
  },
  {
   "cell_type": "code",
   "execution_count": 36,
   "metadata": {},
   "outputs": [],
   "source": [
    "# merge input models\n",
    "# merge = tf.keras.layers.concatenate([flat2])\n",
    "\n",
    "# interpretation model\n",
    "hidden1 = tf.keras.layers.Dense(256, activation='relu')(MG5)\n",
    "hidden2 = tf.keras.layers.Dense(256, activation='relu')(hidden1)\n",
    "hidden3 = tf.keras.layers.Dense(256, activation='relu')(hidden2)\n",
    "hidden4 = tf.keras.layers.Dense(256, activation='relu')(hidden3)"
   ]
  },
  {
   "cell_type": "code",
   "execution_count": 37,
   "metadata": {},
   "outputs": [
    {
     "output_type": "stream",
     "name": "stdout",
     "text": [
      "Model: \"functional_3\"\n_________________________________________________________________\nLayer (type)                 Output Shape              Param #   \n=================================================================\ninput_2 (InputLayer)         [(4266, 1001, 1)]         0         \n_________________________________________________________________\nconv1d_10 (Conv1D)           (4266, 997, 16)           96        \n_________________________________________________________________\nconv1d_11 (Conv1D)           (4266, 993, 16)           1296      \n_________________________________________________________________\nmax_pooling1d_5 (MaxPooling1 (4266, 496, 16)           0         \n_________________________________________________________________\nconv1d_12 (Conv1D)           (4266, 492, 32)           2592      \n_________________________________________________________________\nconv1d_13 (Conv1D)           (4266, 488, 32)           5152      \n_________________________________________________________________\nmax_pooling1d_6 (MaxPooling1 (4266, 244, 32)           0         \n_________________________________________________________________\nconv1d_14 (Conv1D)           (4266, 240, 64)           10304     \n_________________________________________________________________\nconv1d_15 (Conv1D)           (4266, 236, 64)           20544     \n_________________________________________________________________\nmax_pooling1d_7 (MaxPooling1 (4266, 118, 64)           0         \n_________________________________________________________________\nconv1d_16 (Conv1D)           (4266, 114, 128)          41088     \n_________________________________________________________________\nconv1d_17 (Conv1D)           (4266, 110, 128)          82048     \n_________________________________________________________________\nmax_pooling1d_8 (MaxPooling1 (4266, 55, 128)           0         \n_________________________________________________________________\nconv1d_18 (Conv1D)           (4266, 51, 128)           82048     \n_________________________________________________________________\nconv1d_19 (Conv1D)           (4266, 47, 256)           164096    \n_________________________________________________________________\nmax_pooling1d_9 (MaxPooling1 (4266, 23, 256)           0         \n_________________________________________________________________\ndense_5 (Dense)              (4266, 23, 256)           65792     \n_________________________________________________________________\ndense_6 (Dense)              (4266, 23, 256)           65792     \n_________________________________________________________________\ndense_7 (Dense)              (4266, 23, 256)           65792     \n_________________________________________________________________\ndense_8 (Dense)              (4266, 23, 256)           65792     \n_________________________________________________________________\ndense_9 (Dense)              (4266, 23, 1)             257       \n=================================================================\nTotal params: 672,689\nTrainable params: 672,689\nNon-trainable params: 0\n_________________________________________________________________\nNone\n"
     ]
    }
   ],
   "source": [
    "output = tf.keras.layers.Dense(n_outputs, activation=output_activation)(hidden4)\n",
    "\n",
    "model = tf.keras.Model(inputs=inputGlobalView, outputs=output)\n",
    "model.compile(loss='binary_crossentropy', optimizer=output_optimizer, metrics=['accuracy'])\n",
    "\n",
    "print(model.summary())"
   ]
  },
  {
   "cell_type": "code",
   "execution_count": 38,
   "metadata": {},
   "outputs": [],
   "source": [
    "# Establecemos callbacks para guardad los pasos\n",
    "checkpoint_path = basepath + \"-{epoch:04d}.ckpt\"\n",
    "checkpoint_dir = os.path.dirname(checkpoint_path)\n",
    "\n",
    "cp_callback = tf.keras.callbacks.ModelCheckpoint(\n",
    "    filepath=checkpoint_path, \n",
    "    verbose=0, \n",
    "    save_weights_only=True,\n",
    "    save_freq='epoch'\n",
    ")\n",
    "\n",
    "os.makedirs(checkpoint_dir, exist_ok=True)"
   ]
  },
  {
   "cell_type": "code",
   "execution_count": 39,
   "metadata": {},
   "outputs": [],
   "source": [
    "# checkpoint_path.format(epoch=0)\n",
    "latest = tf.train.latest_checkpoint(basefolder)\n",
    "latest"
   ]
  },
  {
   "cell_type": "code",
   "execution_count": 40,
   "metadata": {},
   "outputs": [
    {
     "output_type": "stream",
     "name": "stdout",
     "text": [
      "Epoch 1/50\n",
      "WARNING:tensorflow:Model was constructed with shape (4266, 1001, 1) for input Tensor(\"input_2:0\", shape=(4266, 1001, 1), dtype=float32), but it was called on an input with incompatible shape (237, 1001, 1).\n",
      "WARNING:tensorflow:Model was constructed with shape (4266, 1001, 1) for input Tensor(\"input_2:0\", shape=(4266, 1001, 1), dtype=float32), but it was called on an input with incompatible shape (237, 1001, 1).\n",
      "18/18 [==============================] - 14s 802ms/step - loss: 0.5864 - accuracy: 0.7337\n",
      "Epoch 2/50\n",
      "18/18 [==============================] - 14s 805ms/step - loss: 0.5452 - accuracy: 0.7593\n",
      "Epoch 3/50\n",
      "18/18 [==============================] - 14s 790ms/step - loss: 0.5386 - accuracy: 0.7593\n",
      "Epoch 4/50\n",
      "18/18 [==============================] - 14s 794ms/step - loss: 0.5242 - accuracy: 0.7593\n",
      "Epoch 5/50\n",
      "18/18 [==============================] - 15s 809ms/step - loss: 0.5038 - accuracy: 0.7593\n",
      "Epoch 6/50\n",
      "18/18 [==============================] - 14s 801ms/step - loss: 0.4978 - accuracy: 0.7593\n",
      "Epoch 7/50\n",
      "18/18 [==============================] - 16s 911ms/step - loss: 0.4861 - accuracy: 0.7593\n",
      "Epoch 8/50\n",
      "18/18 [==============================] - 15s 848ms/step - loss: 0.4774 - accuracy: 0.7593\n",
      "Epoch 9/50\n",
      "18/18 [==============================] - 15s 857ms/step - loss: 0.4710 - accuracy: 0.7593\n",
      "Epoch 10/50\n",
      "18/18 [==============================] - 15s 857ms/step - loss: 0.4665 - accuracy: 0.7593\n",
      "Epoch 11/50\n",
      "18/18 [==============================] - 20s 1s/step - loss: 0.4694 - accuracy: 0.7655\n",
      "Epoch 12/50\n",
      "18/18 [==============================] - 17s 941ms/step - loss: 0.4608 - accuracy: 0.7737\n",
      "Epoch 13/50\n",
      "18/18 [==============================] - 17s 923ms/step - loss: 0.4572 - accuracy: 0.7762\n",
      "Epoch 14/50\n",
      "18/18 [==============================] - 16s 895ms/step - loss: 0.4540 - accuracy: 0.7776\n",
      "Epoch 15/50\n",
      "18/18 [==============================] - 17s 920ms/step - loss: 0.4552 - accuracy: 0.7786\n",
      "Epoch 16/50\n",
      "18/18 [==============================] - 16s 907ms/step - loss: 0.4622 - accuracy: 0.7796\n",
      "Epoch 17/50\n",
      "18/18 [==============================] - 17s 935ms/step - loss: 0.4593 - accuracy: 0.7820\n",
      "Epoch 18/50\n",
      "18/18 [==============================] - 17s 959ms/step - loss: 0.4545 - accuracy: 0.7784\n",
      "Epoch 19/50\n",
      "18/18 [==============================] - 17s 945ms/step - loss: 0.4496 - accuracy: 0.7802\n",
      "Epoch 20/50\n",
      "18/18 [==============================] - 18s 977ms/step - loss: 0.4455 - accuracy: 0.7836\n",
      "Epoch 21/50\n",
      "18/18 [==============================] - 16s 904ms/step - loss: 0.4475 - accuracy: 0.7857\n",
      "Epoch 22/50\n",
      "18/18 [==============================] - 16s 904ms/step - loss: 0.4507 - accuracy: 0.7818\n",
      "Epoch 23/50\n",
      "18/18 [==============================] - 17s 923ms/step - loss: 0.4464 - accuracy: 0.7856\n",
      "Epoch 24/50\n",
      "18/18 [==============================] - 17s 928ms/step - loss: 0.4472 - accuracy: 0.7822\n",
      "Epoch 25/50\n",
      "18/18 [==============================] - 17s 931ms/step - loss: 0.4466 - accuracy: 0.7821\n",
      "Epoch 26/50\n",
      "18/18 [==============================] - 17s 941ms/step - loss: 0.4451 - accuracy: 0.7870\n",
      "Epoch 27/50\n",
      "18/18 [==============================] - 17s 971ms/step - loss: 0.4444 - accuracy: 0.7870\n",
      "Epoch 28/50\n",
      "18/18 [==============================] - 16s 912ms/step - loss: 0.4399 - accuracy: 0.7845\n",
      "Epoch 29/50\n",
      "18/18 [==============================] - 17s 917ms/step - loss: 0.4430 - accuracy: 0.7881\n",
      "Epoch 30/50\n",
      "18/18 [==============================] - 17s 939ms/step - loss: 0.4393 - accuracy: 0.7896\n",
      "Epoch 31/50\n",
      "18/18 [==============================] - 17s 942ms/step - loss: 0.4332 - accuracy: 0.7939\n",
      "Epoch 32/50\n",
      "18/18 [==============================] - 18s 1s/step - loss: 0.4446 - accuracy: 0.7875\n",
      "Epoch 33/50\n",
      "18/18 [==============================] - 18s 1s/step - loss: 0.4391 - accuracy: 0.7909\n",
      "Epoch 34/50\n",
      "18/18 [==============================] - 19s 1s/step - loss: 0.4378 - accuracy: 0.7891\n",
      "Epoch 35/50\n",
      "18/18 [==============================] - 17s 952ms/step - loss: 0.4306 - accuracy: 0.7985\n",
      "Epoch 36/50\n",
      "18/18 [==============================] - 17s 952ms/step - loss: 0.4340 - accuracy: 0.7926\n",
      "Epoch 37/50\n",
      "18/18 [==============================] - 17s 972ms/step - loss: 0.4345 - accuracy: 0.7942\n",
      "Epoch 38/50\n",
      "18/18 [==============================] - 19s 1s/step - loss: 0.4302 - accuracy: 0.7985\n",
      "Epoch 39/50\n",
      "18/18 [==============================] - 17s 937ms/step - loss: 0.4239 - accuracy: 0.8011\n",
      "Epoch 40/50\n",
      "18/18 [==============================] - 18s 988ms/step - loss: 0.4230 - accuracy: 0.8037\n",
      "Epoch 41/50\n",
      "18/18 [==============================] - 17s 933ms/step - loss: 0.4298 - accuracy: 0.7972\n",
      "Epoch 42/50\n",
      "18/18 [==============================] - 17s 957ms/step - loss: 0.4191 - accuracy: 0.8030\n",
      "Epoch 43/50\n",
      "18/18 [==============================] - 17s 970ms/step - loss: 0.4189 - accuracy: 0.8041\n",
      "Epoch 44/50\n",
      "18/18 [==============================] - 17s 928ms/step - loss: 0.4149 - accuracy: 0.8074\n",
      "Epoch 45/50\n",
      "18/18 [==============================] - 16s 871ms/step - loss: 0.4186 - accuracy: 0.8031\n",
      "Epoch 46/50\n",
      "18/18 [==============================] - 17s 933ms/step - loss: 0.4194 - accuracy: 0.8037\n",
      "Epoch 47/50\n",
      "18/18 [==============================] - 18s 992ms/step - loss: 0.4149 - accuracy: 0.8049\n",
      "Epoch 48/50\n",
      "18/18 [==============================] - 17s 963ms/step - loss: 0.4211 - accuracy: 0.8030\n",
      "Epoch 49/50\n",
      "18/18 [==============================] - 16s 868ms/step - loss: 0.4157 - accuracy: 0.8064\n",
      "Epoch 50/50\n",
      "18/18 [==============================] - 17s 925ms/step - loss: 0.4181 - accuracy: 0.8053\n"
     ]
    }
   ],
   "source": [
    "if latest:\n",
    "    model.load_weights(latest)\n",
    "else :\n",
    "    # divisores 4266: 1, 2, 3, 6, 9, 18, 27, 54, 79, 158, 237, 474, 711, 1422, 2133, 4266\n",
    "    bs = 237\n",
    "    Ajuste = model.fit(\n",
    "        x_global_extended_train, \n",
    "        y_global_extended_train, \n",
    "        epochs=50, \n",
    "        batch_size=bs,\n",
    "        \n",
    "        # validation_data=(test_images,test_labels),\n",
    "        callbacks=[cp_callback],\n",
    "    )"
   ]
  },
  {
   "cell_type": "code",
   "execution_count": 41,
   "metadata": {},
   "outputs": [],
   "source": [
    "def pintar_matriz_confusion(conf_matx):\n",
    "    df_cm = pd.DataFrame(conf_matx, index = [i for i in \"01\"],\n",
    "                    columns = [i for i in \"01\"])\n",
    "\n",
    "    plt.figure(0.5)\n",
    "    heat_map = sn.heatmap(df_cm, xticklabels=True, yticklabels=True, annot=True, annot_kws = {\"ha\": 'center'})\n",
    "    #heat_map.set_yticklabels(heat_map.get_yticklabels(), rotation=0)\n",
    "    plt.xlabel('Predicción')\n",
    "    plt.ylabel('Real')\n",
    "\n",
    "\n",
    "def pintar_roc_curve(fp,tp):\n",
    "    plt.figure(1)\n",
    "    plt.plot([0, 1], [0, 1], 'k--')\n",
    "    plt.plot(fp, tp, label='CNN (area = {:.3f})'.format(area_under_curve))\n",
    "    plt.scatter(fp[ix], tp[ix], marker='o', color='black', label='Best')\n",
    "    plt.xlabel('False positive rate')\n",
    "    plt.ylabel('True positive rate')\n",
    "    plt.title('ROC curve')\n",
    "    plt.legend(loc='best')"
   ]
  },
  {
   "cell_type": "code",
   "execution_count": 21,
   "metadata": {},
   "outputs": [
    {
     "output_type": "error",
     "ename": "InvalidArgumentError",
     "evalue": " Input to reshape is a tensor with 188416 values, but the requested shape has 25118208\n\t [[node functional_1/dense/Tensordot/Reshape (defined at <ipython-input-21-a59098d5c940>:1) ]] [Op:__inference_predict_function_19538]\n\nFunction call stack:\npredict_function\n",
     "traceback": [
      "\u001b[1;31m---------------------------------------------------------------------------\u001b[0m",
      "\u001b[1;31mInvalidArgumentError\u001b[0m                      Traceback (most recent call last)",
      "\u001b[1;32m<ipython-input-21-a59098d5c940>\u001b[0m in \u001b[0;36m<module>\u001b[1;34m\u001b[0m\n\u001b[1;32m----> 1\u001b[1;33m \u001b[0my_pred_keras_raw\u001b[0m \u001b[1;33m=\u001b[0m \u001b[0mmodel\u001b[0m\u001b[1;33m.\u001b[0m\u001b[0mpredict\u001b[0m\u001b[1;33m(\u001b[0m\u001b[1;33m[\u001b[0m\u001b[0mx_global_extended_test\u001b[0m\u001b[1;33m]\u001b[0m\u001b[1;33m)\u001b[0m\u001b[1;33m\u001b[0m\u001b[1;33m\u001b[0m\u001b[0m\n\u001b[0m\u001b[0;32m      2\u001b[0m \u001b[0my_pred_keras\u001b[0m \u001b[1;33m=\u001b[0m \u001b[0my_pred_keras_raw\u001b[0m\u001b[1;33m.\u001b[0m\u001b[0mravel\u001b[0m\u001b[1;33m(\u001b[0m\u001b[1;33m)\u001b[0m \u001b[1;31m# flatten as array\u001b[0m\u001b[1;33m\u001b[0m\u001b[1;33m\u001b[0m\u001b[0m\n\u001b[0;32m      3\u001b[0m \u001b[1;33m\u001b[0m\u001b[0m\n\u001b[0;32m      4\u001b[0m \u001b[0my_pred_keras_standart\u001b[0m \u001b[1;33m=\u001b[0m \u001b[1;33m(\u001b[0m\u001b[0my_pred_keras\u001b[0m \u001b[1;33m>=\u001b[0m \u001b[1;36m0.5\u001b[0m\u001b[1;33m)\u001b[0m\u001b[1;33m.\u001b[0m\u001b[0mastype\u001b[0m\u001b[1;33m(\u001b[0m\u001b[0mnp\u001b[0m\u001b[1;33m.\u001b[0m\u001b[0mint\u001b[0m\u001b[1;33m)\u001b[0m\u001b[1;33m\u001b[0m\u001b[1;33m\u001b[0m\u001b[0m\n\u001b[0;32m      5\u001b[0m \u001b[1;33m\u001b[0m\u001b[0m\n",
      "\u001b[1;32m~\\Anaconda3\\lib\\site-packages\\tensorflow\\python\\keras\\engine\\training.py\u001b[0m in \u001b[0;36m_method_wrapper\u001b[1;34m(self, *args, **kwargs)\u001b[0m\n\u001b[0;32m    128\u001b[0m       raise ValueError('{} is not supported in multi-worker mode.'.format(\n\u001b[0;32m    129\u001b[0m           method.__name__))\n\u001b[1;32m--> 130\u001b[1;33m     \u001b[1;32mreturn\u001b[0m \u001b[0mmethod\u001b[0m\u001b[1;33m(\u001b[0m\u001b[0mself\u001b[0m\u001b[1;33m,\u001b[0m \u001b[1;33m*\u001b[0m\u001b[0margs\u001b[0m\u001b[1;33m,\u001b[0m \u001b[1;33m**\u001b[0m\u001b[0mkwargs\u001b[0m\u001b[1;33m)\u001b[0m\u001b[1;33m\u001b[0m\u001b[1;33m\u001b[0m\u001b[0m\n\u001b[0m\u001b[0;32m    131\u001b[0m \u001b[1;33m\u001b[0m\u001b[0m\n\u001b[0;32m    132\u001b[0m   return tf_decorator.make_decorator(\n",
      "\u001b[1;32m~\\Anaconda3\\lib\\site-packages\\tensorflow\\python\\keras\\engine\\training.py\u001b[0m in \u001b[0;36mpredict\u001b[1;34m(self, x, batch_size, verbose, steps, callbacks, max_queue_size, workers, use_multiprocessing)\u001b[0m\n\u001b[0;32m   1597\u001b[0m           \u001b[1;32mfor\u001b[0m \u001b[0mstep\u001b[0m \u001b[1;32min\u001b[0m \u001b[0mdata_handler\u001b[0m\u001b[1;33m.\u001b[0m\u001b[0msteps\u001b[0m\u001b[1;33m(\u001b[0m\u001b[1;33m)\u001b[0m\u001b[1;33m:\u001b[0m\u001b[1;33m\u001b[0m\u001b[1;33m\u001b[0m\u001b[0m\n\u001b[0;32m   1598\u001b[0m             \u001b[0mcallbacks\u001b[0m\u001b[1;33m.\u001b[0m\u001b[0mon_predict_batch_begin\u001b[0m\u001b[1;33m(\u001b[0m\u001b[0mstep\u001b[0m\u001b[1;33m)\u001b[0m\u001b[1;33m\u001b[0m\u001b[1;33m\u001b[0m\u001b[0m\n\u001b[1;32m-> 1599\u001b[1;33m             \u001b[0mtmp_batch_outputs\u001b[0m \u001b[1;33m=\u001b[0m \u001b[0mpredict_function\u001b[0m\u001b[1;33m(\u001b[0m\u001b[0miterator\u001b[0m\u001b[1;33m)\u001b[0m\u001b[1;33m\u001b[0m\u001b[1;33m\u001b[0m\u001b[0m\n\u001b[0m\u001b[0;32m   1600\u001b[0m             \u001b[1;32mif\u001b[0m \u001b[0mdata_handler\u001b[0m\u001b[1;33m.\u001b[0m\u001b[0mshould_sync\u001b[0m\u001b[1;33m:\u001b[0m\u001b[1;33m\u001b[0m\u001b[1;33m\u001b[0m\u001b[0m\n\u001b[0;32m   1601\u001b[0m               \u001b[0mcontext\u001b[0m\u001b[1;33m.\u001b[0m\u001b[0masync_wait\u001b[0m\u001b[1;33m(\u001b[0m\u001b[1;33m)\u001b[0m\u001b[1;33m\u001b[0m\u001b[1;33m\u001b[0m\u001b[0m\n",
      "\u001b[1;32m~\\Anaconda3\\lib\\site-packages\\tensorflow\\python\\eager\\def_function.py\u001b[0m in \u001b[0;36m__call__\u001b[1;34m(self, *args, **kwds)\u001b[0m\n\u001b[0;32m    778\u001b[0m       \u001b[1;32melse\u001b[0m\u001b[1;33m:\u001b[0m\u001b[1;33m\u001b[0m\u001b[1;33m\u001b[0m\u001b[0m\n\u001b[0;32m    779\u001b[0m         \u001b[0mcompiler\u001b[0m \u001b[1;33m=\u001b[0m \u001b[1;34m\"nonXla\"\u001b[0m\u001b[1;33m\u001b[0m\u001b[1;33m\u001b[0m\u001b[0m\n\u001b[1;32m--> 780\u001b[1;33m         \u001b[0mresult\u001b[0m \u001b[1;33m=\u001b[0m \u001b[0mself\u001b[0m\u001b[1;33m.\u001b[0m\u001b[0m_call\u001b[0m\u001b[1;33m(\u001b[0m\u001b[1;33m*\u001b[0m\u001b[0margs\u001b[0m\u001b[1;33m,\u001b[0m \u001b[1;33m**\u001b[0m\u001b[0mkwds\u001b[0m\u001b[1;33m)\u001b[0m\u001b[1;33m\u001b[0m\u001b[1;33m\u001b[0m\u001b[0m\n\u001b[0m\u001b[0;32m    781\u001b[0m \u001b[1;33m\u001b[0m\u001b[0m\n\u001b[0;32m    782\u001b[0m       \u001b[0mnew_tracing_count\u001b[0m \u001b[1;33m=\u001b[0m \u001b[0mself\u001b[0m\u001b[1;33m.\u001b[0m\u001b[0m_get_tracing_count\u001b[0m\u001b[1;33m(\u001b[0m\u001b[1;33m)\u001b[0m\u001b[1;33m\u001b[0m\u001b[1;33m\u001b[0m\u001b[0m\n",
      "\u001b[1;32m~\\Anaconda3\\lib\\site-packages\\tensorflow\\python\\eager\\def_function.py\u001b[0m in \u001b[0;36m_call\u001b[1;34m(self, *args, **kwds)\u001b[0m\n\u001b[0;32m    844\u001b[0m               *args, **kwds)\n\u001b[0;32m    845\u001b[0m       \u001b[1;31m# If we did not create any variables the trace we have is good enough.\u001b[0m\u001b[1;33m\u001b[0m\u001b[1;33m\u001b[0m\u001b[1;33m\u001b[0m\u001b[0m\n\u001b[1;32m--> 846\u001b[1;33m       \u001b[1;32mreturn\u001b[0m \u001b[0mself\u001b[0m\u001b[1;33m.\u001b[0m\u001b[0m_concrete_stateful_fn\u001b[0m\u001b[1;33m.\u001b[0m\u001b[0m_filtered_call\u001b[0m\u001b[1;33m(\u001b[0m\u001b[0mcanon_args\u001b[0m\u001b[1;33m,\u001b[0m \u001b[0mcanon_kwds\u001b[0m\u001b[1;33m)\u001b[0m  \u001b[1;31m# pylint: disable=protected-access\u001b[0m\u001b[1;33m\u001b[0m\u001b[1;33m\u001b[0m\u001b[0m\n\u001b[0m\u001b[0;32m    847\u001b[0m \u001b[1;33m\u001b[0m\u001b[0m\n\u001b[0;32m    848\u001b[0m     \u001b[1;32mdef\u001b[0m \u001b[0mfn_with_cond\u001b[0m\u001b[1;33m(\u001b[0m\u001b[1;33m*\u001b[0m\u001b[0minner_args\u001b[0m\u001b[1;33m,\u001b[0m \u001b[1;33m**\u001b[0m\u001b[0minner_kwds\u001b[0m\u001b[1;33m)\u001b[0m\u001b[1;33m:\u001b[0m\u001b[1;33m\u001b[0m\u001b[1;33m\u001b[0m\u001b[0m\n",
      "\u001b[1;32m~\\Anaconda3\\lib\\site-packages\\tensorflow\\python\\eager\\function.py\u001b[0m in \u001b[0;36m_filtered_call\u001b[1;34m(self, args, kwargs, cancellation_manager)\u001b[0m\n\u001b[0;32m   1846\u001b[0m                            resource_variable_ops.BaseResourceVariable))],\n\u001b[0;32m   1847\u001b[0m         \u001b[0mcaptured_inputs\u001b[0m\u001b[1;33m=\u001b[0m\u001b[0mself\u001b[0m\u001b[1;33m.\u001b[0m\u001b[0mcaptured_inputs\u001b[0m\u001b[1;33m,\u001b[0m\u001b[1;33m\u001b[0m\u001b[1;33m\u001b[0m\u001b[0m\n\u001b[1;32m-> 1848\u001b[1;33m         cancellation_manager=cancellation_manager)\n\u001b[0m\u001b[0;32m   1849\u001b[0m \u001b[1;33m\u001b[0m\u001b[0m\n\u001b[0;32m   1850\u001b[0m   \u001b[1;32mdef\u001b[0m \u001b[0m_call_flat\u001b[0m\u001b[1;33m(\u001b[0m\u001b[0mself\u001b[0m\u001b[1;33m,\u001b[0m \u001b[0margs\u001b[0m\u001b[1;33m,\u001b[0m \u001b[0mcaptured_inputs\u001b[0m\u001b[1;33m,\u001b[0m \u001b[0mcancellation_manager\u001b[0m\u001b[1;33m=\u001b[0m\u001b[1;32mNone\u001b[0m\u001b[1;33m)\u001b[0m\u001b[1;33m:\u001b[0m\u001b[1;33m\u001b[0m\u001b[1;33m\u001b[0m\u001b[0m\n",
      "\u001b[1;32m~\\Anaconda3\\lib\\site-packages\\tensorflow\\python\\eager\\function.py\u001b[0m in \u001b[0;36m_call_flat\u001b[1;34m(self, args, captured_inputs, cancellation_manager)\u001b[0m\n\u001b[0;32m   1922\u001b[0m       \u001b[1;31m# No tape is watching; skip to running the function.\u001b[0m\u001b[1;33m\u001b[0m\u001b[1;33m\u001b[0m\u001b[1;33m\u001b[0m\u001b[0m\n\u001b[0;32m   1923\u001b[0m       return self._build_call_outputs(self._inference_function.call(\n\u001b[1;32m-> 1924\u001b[1;33m           ctx, args, cancellation_manager=cancellation_manager))\n\u001b[0m\u001b[0;32m   1925\u001b[0m     forward_backward = self._select_forward_and_backward_functions(\n\u001b[0;32m   1926\u001b[0m         \u001b[0margs\u001b[0m\u001b[1;33m,\u001b[0m\u001b[1;33m\u001b[0m\u001b[1;33m\u001b[0m\u001b[0m\n",
      "\u001b[1;32m~\\Anaconda3\\lib\\site-packages\\tensorflow\\python\\eager\\function.py\u001b[0m in \u001b[0;36mcall\u001b[1;34m(self, ctx, args, cancellation_manager)\u001b[0m\n\u001b[0;32m    548\u001b[0m               \u001b[0minputs\u001b[0m\u001b[1;33m=\u001b[0m\u001b[0margs\u001b[0m\u001b[1;33m,\u001b[0m\u001b[1;33m\u001b[0m\u001b[1;33m\u001b[0m\u001b[0m\n\u001b[0;32m    549\u001b[0m               \u001b[0mattrs\u001b[0m\u001b[1;33m=\u001b[0m\u001b[0mattrs\u001b[0m\u001b[1;33m,\u001b[0m\u001b[1;33m\u001b[0m\u001b[1;33m\u001b[0m\u001b[0m\n\u001b[1;32m--> 550\u001b[1;33m               ctx=ctx)\n\u001b[0m\u001b[0;32m    551\u001b[0m         \u001b[1;32melse\u001b[0m\u001b[1;33m:\u001b[0m\u001b[1;33m\u001b[0m\u001b[1;33m\u001b[0m\u001b[0m\n\u001b[0;32m    552\u001b[0m           outputs = execute.execute_with_cancellation(\n",
      "\u001b[1;32m~\\Anaconda3\\lib\\site-packages\\tensorflow\\python\\eager\\execute.py\u001b[0m in \u001b[0;36mquick_execute\u001b[1;34m(op_name, num_outputs, inputs, attrs, ctx, name)\u001b[0m\n\u001b[0;32m     58\u001b[0m     \u001b[0mctx\u001b[0m\u001b[1;33m.\u001b[0m\u001b[0mensure_initialized\u001b[0m\u001b[1;33m(\u001b[0m\u001b[1;33m)\u001b[0m\u001b[1;33m\u001b[0m\u001b[1;33m\u001b[0m\u001b[0m\n\u001b[0;32m     59\u001b[0m     tensors = pywrap_tfe.TFE_Py_Execute(ctx._handle, device_name, op_name,\n\u001b[1;32m---> 60\u001b[1;33m                                         inputs, attrs, num_outputs)\n\u001b[0m\u001b[0;32m     61\u001b[0m   \u001b[1;32mexcept\u001b[0m \u001b[0mcore\u001b[0m\u001b[1;33m.\u001b[0m\u001b[0m_NotOkStatusException\u001b[0m \u001b[1;32mas\u001b[0m \u001b[0me\u001b[0m\u001b[1;33m:\u001b[0m\u001b[1;33m\u001b[0m\u001b[1;33m\u001b[0m\u001b[0m\n\u001b[0;32m     62\u001b[0m     \u001b[1;32mif\u001b[0m \u001b[0mname\u001b[0m \u001b[1;32mis\u001b[0m \u001b[1;32mnot\u001b[0m \u001b[1;32mNone\u001b[0m\u001b[1;33m:\u001b[0m\u001b[1;33m\u001b[0m\u001b[1;33m\u001b[0m\u001b[0m\n",
      "\u001b[1;31mInvalidArgumentError\u001b[0m:  Input to reshape is a tensor with 188416 values, but the requested shape has 25118208\n\t [[node functional_1/dense/Tensordot/Reshape (defined at <ipython-input-21-a59098d5c940>:1) ]] [Op:__inference_predict_function_19538]\n\nFunction call stack:\npredict_function\n"
     ]
    }
   ],
   "source": [
    "y_pred_keras_raw = model.predict([x_global_extended_test])\n",
    "y_pred_keras = y_pred_keras_raw.ravel() # flatten as array\n",
    "\n",
    "y_pred_keras_standart = (y_pred_keras >= 0.5).astype(np.int)\n",
    "\n",
    "display(y_pred_keras_raw)\n",
    "display(y_pred_keras_standart)"
   ]
  },
  {
   "cell_type": "code",
   "execution_count": null,
   "metadata": {},
   "outputs": [],
   "source": [
    "# Exactitud\n",
    "accuracy = accuracy_score(y_local_extended_test, y_pred_keras_standart)\n",
    "print(\"accuracy =\", accuracy)\n",
    "\n",
    "# Precisión\n",
    "average_precision = average_precision_score(y_local_extended_test, y_pred_keras_standart)\n",
    "print(\"average_precision =\", average_precision)\n",
    "\n",
    "# Recall\n",
    "recall = recall_score(y_local_extended_test, y_pred_keras_standart, average=None)\n",
    "print(\"recall =\", recall)\n",
    "\n",
    "# F1\n",
    "f1 = f1_score(y_local_extended_test, y_pred_keras_standart)\n",
    "print(\"f1 =\", f1)\n"
   ]
  },
  {
   "cell_type": "code",
   "execution_count": null,
   "metadata": {},
   "outputs": [],
   "source": [
    "# Defino las métricas\n",
    "false_positives, true_positives, thresholds = roc_curve(y_local_extended_test, y_pred_keras)\n",
    "area_under_curve = auc(false_positives, true_positives)\n",
    "gmeans = np.sqrt(true_positives * (1-false_positives))\n",
    "\n",
    "# localiza el índice del mayor g-mean\n",
    "ix = np.argmax(gmeans)\n",
    "print('Best Threshold=%f, G-Mean=%.3f' % (thresholds[ix], gmeans[ix]))\n",
    "print(\"area_under_curve (AUC) = \", area_under_curve)\n",
    "pintar_roc_curve(false_positives, true_positives)\n"
   ]
  },
  {
   "cell_type": "code",
   "execution_count": null,
   "metadata": {},
   "outputs": [],
   "source": [
    "conf_matrix = confusion_matrix(y_local_extended_test, y_pred_keras_standart)\n",
    "print(\"conf_matrix =\\n\", conf_matrix)\n",
    "\n",
    "pintar_matriz_confusion(conf_matrix)\n",
    "\n",
    "pd.DataFrame(conf_matrix).to_csv(basepath + '.csv')"
   ]
  },
  {
   "cell_type": "code",
   "execution_count": null,
   "metadata": {},
   "outputs": [],
   "source": [
    "#Umbral estándar\n",
    "PhiM_Standart = matthews_corrcoef(y_local_extended_test, y_pred_keras_standart)\n",
    "print(\"PhiM_Standart =\", PhiM_Standart)"
   ]
  }
 ]
}