{
 "metadata": {
  "language_info": {
   "codemirror_mode": {
    "name": "ipython",
    "version": 3
   },
   "file_extension": ".py",
   "mimetype": "text/x-python",
   "name": "python",
   "nbconvert_exporter": "python",
   "pygments_lexer": "ipython3",
   "version": "3.7.4-final"
  },
  "orig_nbformat": 2,
  "kernelspec": {
   "name": "Python 3.7.4 64-bit ('base': conda)",
   "display_name": "Python 3.7.4 64-bit ('base': conda)",
   "metadata": {
    "interpreter": {
     "hash": "f958bdd04a238e53230fa8372db10ddee88fbe838d3660515cd74e50e6d77f98"
    }
   }
  }
 },
 "nbformat": 4,
 "nbformat_minor": 2,
 "cells": [
  {
   "cell_type": "code",
   "execution_count": 7,
   "metadata": {},
   "outputs": [
    {
     "output_type": "execute_result",
     "data": {
      "text/plain": [
       "'2.3.1'"
      ]
     },
     "metadata": {},
     "execution_count": 7
    }
   ],
   "source": [
    "import pandas as pd\n",
    "import numpy as np\n",
    "import matplotlib.pyplot as plt\n",
    "import seaborn as sn\n",
    "import sklearn\n",
    "from sklearn.model_selection import train_test_split\n",
    "\n",
    "import tensorflow as tf\n",
    "tf.__version__"
   ]
  },
  {
   "cell_type": "code",
   "execution_count": 8,
   "metadata": {},
   "outputs": [],
   "source": [
    "np.random.seed(10)\n",
    "tf.compat.v1.set_random_seed(10)"
   ]
  },
  {
   "cell_type": "code",
   "execution_count": 9,
   "metadata": {},
   "outputs": [
    {
     "output_type": "display_data",
     "data": {
      "text/plain": "           kepid   kepler_name kepoi_name  koi_disposition  light_flux_0001  \\\n0     10797460.0  Kepler-227 b  K00752.01                1         0.832189   \n1     10811496.0           NaN  K00753.01                0         0.966682   \n2     10848459.0           NaN  K00754.01                0         1.034104   \n3     10854555.0  Kepler-664 b  K00755.01                1         0.975071   \n4     10872983.0  Kepler-228 d  K00756.01                1         1.394998   \n...          ...           ...        ...              ...              ...   \n6090  10031643.0           NaN  K07984.01                0         0.175475   \n6091  10090151.0           NaN  K07985.01                0         0.747230   \n6092  10128825.0           NaN  K07986.01                0         0.714833   \n6093  10147276.0           NaN  K07987.01                0         1.486451   \n6094  10156110.0           NaN  K07989.01                0         1.192833   \n\n      light_flux_0002  light_flux_0003  light_flux_0004  light_flux_0005  \\\n0            0.435614         1.357075         1.108348         1.650665   \n1            0.964235         0.970539         0.937743         0.975104   \n2            0.982172         1.048199         1.078219         0.983764   \n3            1.225692         1.269809         1.771289         1.312162   \n4            1.185855         0.932441         1.230771         0.940595   \n...               ...              ...              ...              ...   \n6090         1.504283         1.318089         0.769620         0.666730   \n6091         0.915918         1.031489         0.989710         1.021699   \n6092         1.610737         0.196081         0.533665         1.053996   \n6093         1.733356         0.993478         0.776943         0.226574   \n6094         0.766126         0.736406         1.477793         0.012149   \n\n      light_flux_0006  ...  light_flux_0992  light_flux_0993  light_flux_0994  \\\n0            1.129287  ...         0.713763         1.274681         1.154911   \n1            1.039065  ...         0.943850         0.965717         0.990491   \n2            0.992431  ...         0.946015         1.010975         1.011789   \n3            1.097620  ...         1.335065         1.179038         1.002768   \n4            0.909058  ...         0.864800         0.850251         1.086740   \n...               ...  ...              ...              ...              ...   \n6090         1.008246  ...         1.378201         1.927068         1.984925   \n6091         0.867820  ...         0.755320         0.876177         0.913214   \n6092         0.873009  ...         1.082519         1.101279         1.060959   \n6093         0.407813  ...         0.898611         1.483079         1.160034   \n6094         0.776158  ...         1.085282        -0.125610         0.029371   \n\n      light_flux_0995  light_flux_0996  light_flux_0997  light_flux_0998  \\\n0            2.088258         1.059249         0.848340         1.142176   \n1            0.982717         0.985906         0.961670         1.043547   \n2            1.055202         1.038121         1.044473         1.071489   \n3            1.017255         0.823422         0.561212         1.035374   \n4            1.073562         0.930443         0.857681         1.232381   \n...               ...              ...              ...              ...   \n6090         1.130322         1.202864         0.781321         0.045358   \n6091         0.960485         1.017231         0.789195         0.809078   \n6092         1.446257         1.603752         0.875442         1.295145   \n6093         0.921238         1.509204        -0.560163         0.666612   \n6094         0.938950         0.910189         0.840100         1.161185   \n\n      light_flux_0999  light_flux_1000  light_flux_1001  \n0            0.961584         0.966640         1.044353  \n1            0.983126         1.040699         1.040926  \n2            1.053268         1.033189         1.005258  \n3            0.835232         1.615619         1.464552  \n4            1.297968         1.208948         1.079670  \n...               ...              ...              ...  \n6090         0.647927         1.207362         1.101768  \n6091         0.774575         0.872496         0.802597  \n6092         1.852598         0.230911         0.803615  \n6093         1.113881         2.175872         2.393636  \n6094         0.785235         1.680639         0.862709  \n\n[6095 rows x 1005 columns]",
      "text/html": "<div>\n<style scoped>\n    .dataframe tbody tr th:only-of-type {\n        vertical-align: middle;\n    }\n\n    .dataframe tbody tr th {\n        vertical-align: top;\n    }\n\n    .dataframe thead th {\n        text-align: right;\n    }\n</style>\n<table border=\"1\" class=\"dataframe\">\n  <thead>\n    <tr style=\"text-align: right;\">\n      <th></th>\n      <th>kepid</th>\n      <th>kepler_name</th>\n      <th>kepoi_name</th>\n      <th>koi_disposition</th>\n      <th>light_flux_0001</th>\n      <th>light_flux_0002</th>\n      <th>light_flux_0003</th>\n      <th>light_flux_0004</th>\n      <th>light_flux_0005</th>\n      <th>light_flux_0006</th>\n      <th>...</th>\n      <th>light_flux_0992</th>\n      <th>light_flux_0993</th>\n      <th>light_flux_0994</th>\n      <th>light_flux_0995</th>\n      <th>light_flux_0996</th>\n      <th>light_flux_0997</th>\n      <th>light_flux_0998</th>\n      <th>light_flux_0999</th>\n      <th>light_flux_1000</th>\n      <th>light_flux_1001</th>\n    </tr>\n  </thead>\n  <tbody>\n    <tr>\n      <td>0</td>\n      <td>10797460.0</td>\n      <td>Kepler-227 b</td>\n      <td>K00752.01</td>\n      <td>1</td>\n      <td>0.832189</td>\n      <td>0.435614</td>\n      <td>1.357075</td>\n      <td>1.108348</td>\n      <td>1.650665</td>\n      <td>1.129287</td>\n      <td>...</td>\n      <td>0.713763</td>\n      <td>1.274681</td>\n      <td>1.154911</td>\n      <td>2.088258</td>\n      <td>1.059249</td>\n      <td>0.848340</td>\n      <td>1.142176</td>\n      <td>0.961584</td>\n      <td>0.966640</td>\n      <td>1.044353</td>\n    </tr>\n    <tr>\n      <td>1</td>\n      <td>10811496.0</td>\n      <td>NaN</td>\n      <td>K00753.01</td>\n      <td>0</td>\n      <td>0.966682</td>\n      <td>0.964235</td>\n      <td>0.970539</td>\n      <td>0.937743</td>\n      <td>0.975104</td>\n      <td>1.039065</td>\n      <td>...</td>\n      <td>0.943850</td>\n      <td>0.965717</td>\n      <td>0.990491</td>\n      <td>0.982717</td>\n      <td>0.985906</td>\n      <td>0.961670</td>\n      <td>1.043547</td>\n      <td>0.983126</td>\n      <td>1.040699</td>\n      <td>1.040926</td>\n    </tr>\n    <tr>\n      <td>2</td>\n      <td>10848459.0</td>\n      <td>NaN</td>\n      <td>K00754.01</td>\n      <td>0</td>\n      <td>1.034104</td>\n      <td>0.982172</td>\n      <td>1.048199</td>\n      <td>1.078219</td>\n      <td>0.983764</td>\n      <td>0.992431</td>\n      <td>...</td>\n      <td>0.946015</td>\n      <td>1.010975</td>\n      <td>1.011789</td>\n      <td>1.055202</td>\n      <td>1.038121</td>\n      <td>1.044473</td>\n      <td>1.071489</td>\n      <td>1.053268</td>\n      <td>1.033189</td>\n      <td>1.005258</td>\n    </tr>\n    <tr>\n      <td>3</td>\n      <td>10854555.0</td>\n      <td>Kepler-664 b</td>\n      <td>K00755.01</td>\n      <td>1</td>\n      <td>0.975071</td>\n      <td>1.225692</td>\n      <td>1.269809</td>\n      <td>1.771289</td>\n      <td>1.312162</td>\n      <td>1.097620</td>\n      <td>...</td>\n      <td>1.335065</td>\n      <td>1.179038</td>\n      <td>1.002768</td>\n      <td>1.017255</td>\n      <td>0.823422</td>\n      <td>0.561212</td>\n      <td>1.035374</td>\n      <td>0.835232</td>\n      <td>1.615619</td>\n      <td>1.464552</td>\n    </tr>\n    <tr>\n      <td>4</td>\n      <td>10872983.0</td>\n      <td>Kepler-228 d</td>\n      <td>K00756.01</td>\n      <td>1</td>\n      <td>1.394998</td>\n      <td>1.185855</td>\n      <td>0.932441</td>\n      <td>1.230771</td>\n      <td>0.940595</td>\n      <td>0.909058</td>\n      <td>...</td>\n      <td>0.864800</td>\n      <td>0.850251</td>\n      <td>1.086740</td>\n      <td>1.073562</td>\n      <td>0.930443</td>\n      <td>0.857681</td>\n      <td>1.232381</td>\n      <td>1.297968</td>\n      <td>1.208948</td>\n      <td>1.079670</td>\n    </tr>\n    <tr>\n      <td>...</td>\n      <td>...</td>\n      <td>...</td>\n      <td>...</td>\n      <td>...</td>\n      <td>...</td>\n      <td>...</td>\n      <td>...</td>\n      <td>...</td>\n      <td>...</td>\n      <td>...</td>\n      <td>...</td>\n      <td>...</td>\n      <td>...</td>\n      <td>...</td>\n      <td>...</td>\n      <td>...</td>\n      <td>...</td>\n      <td>...</td>\n      <td>...</td>\n      <td>...</td>\n      <td>...</td>\n    </tr>\n    <tr>\n      <td>6090</td>\n      <td>10031643.0</td>\n      <td>NaN</td>\n      <td>K07984.01</td>\n      <td>0</td>\n      <td>0.175475</td>\n      <td>1.504283</td>\n      <td>1.318089</td>\n      <td>0.769620</td>\n      <td>0.666730</td>\n      <td>1.008246</td>\n      <td>...</td>\n      <td>1.378201</td>\n      <td>1.927068</td>\n      <td>1.984925</td>\n      <td>1.130322</td>\n      <td>1.202864</td>\n      <td>0.781321</td>\n      <td>0.045358</td>\n      <td>0.647927</td>\n      <td>1.207362</td>\n      <td>1.101768</td>\n    </tr>\n    <tr>\n      <td>6091</td>\n      <td>10090151.0</td>\n      <td>NaN</td>\n      <td>K07985.01</td>\n      <td>0</td>\n      <td>0.747230</td>\n      <td>0.915918</td>\n      <td>1.031489</td>\n      <td>0.989710</td>\n      <td>1.021699</td>\n      <td>0.867820</td>\n      <td>...</td>\n      <td>0.755320</td>\n      <td>0.876177</td>\n      <td>0.913214</td>\n      <td>0.960485</td>\n      <td>1.017231</td>\n      <td>0.789195</td>\n      <td>0.809078</td>\n      <td>0.774575</td>\n      <td>0.872496</td>\n      <td>0.802597</td>\n    </tr>\n    <tr>\n      <td>6092</td>\n      <td>10128825.0</td>\n      <td>NaN</td>\n      <td>K07986.01</td>\n      <td>0</td>\n      <td>0.714833</td>\n      <td>1.610737</td>\n      <td>0.196081</td>\n      <td>0.533665</td>\n      <td>1.053996</td>\n      <td>0.873009</td>\n      <td>...</td>\n      <td>1.082519</td>\n      <td>1.101279</td>\n      <td>1.060959</td>\n      <td>1.446257</td>\n      <td>1.603752</td>\n      <td>0.875442</td>\n      <td>1.295145</td>\n      <td>1.852598</td>\n      <td>0.230911</td>\n      <td>0.803615</td>\n    </tr>\n    <tr>\n      <td>6093</td>\n      <td>10147276.0</td>\n      <td>NaN</td>\n      <td>K07987.01</td>\n      <td>0</td>\n      <td>1.486451</td>\n      <td>1.733356</td>\n      <td>0.993478</td>\n      <td>0.776943</td>\n      <td>0.226574</td>\n      <td>0.407813</td>\n      <td>...</td>\n      <td>0.898611</td>\n      <td>1.483079</td>\n      <td>1.160034</td>\n      <td>0.921238</td>\n      <td>1.509204</td>\n      <td>-0.560163</td>\n      <td>0.666612</td>\n      <td>1.113881</td>\n      <td>2.175872</td>\n      <td>2.393636</td>\n    </tr>\n    <tr>\n      <td>6094</td>\n      <td>10156110.0</td>\n      <td>NaN</td>\n      <td>K07989.01</td>\n      <td>0</td>\n      <td>1.192833</td>\n      <td>0.766126</td>\n      <td>0.736406</td>\n      <td>1.477793</td>\n      <td>0.012149</td>\n      <td>0.776158</td>\n      <td>...</td>\n      <td>1.085282</td>\n      <td>-0.125610</td>\n      <td>0.029371</td>\n      <td>0.938950</td>\n      <td>0.910189</td>\n      <td>0.840100</td>\n      <td>1.161185</td>\n      <td>0.785235</td>\n      <td>1.680639</td>\n      <td>0.862709</td>\n    </tr>\n  </tbody>\n</table>\n<p>6095 rows × 1005 columns</p>\n</div>"
     },
     "metadata": {}
    }
   ],
   "source": [
    "# Cargo los csv\n",
    "df_global = pd.read_csv(\"./unified-lightcurves-global.csv\").iloc[:, 1:]\n",
    "\n",
    "display(df_global)"
   ]
  },
  {
   "cell_type": "code",
   "execution_count": 10,
   "metadata": {},
   "outputs": [],
   "source": [
    "global_fluxes = df_global.iloc[:,4:]\n",
    "global_labels = df_global.iloc[:,3]"
   ]
  },
  {
   "source": [
    "## Particionado de datos"
   ],
   "cell_type": "markdown",
   "metadata": {}
  },
  {
   "cell_type": "code",
   "execution_count": 11,
   "metadata": {},
   "outputs": [],
   "source": [
    "x_global_train, x_global_test, y_global_train, y_global_test = train_test_split(\n",
    "    global_fluxes, global_labels, test_size=0.3, random_state=11)"
   ]
  },
  {
   "cell_type": "code",
   "execution_count": 12,
   "metadata": {},
   "outputs": [
    {
     "output_type": "stream",
     "name": "stdout",
     "text": [
      "(4266, 1001) (1829, 1001) (4266,) (1829,)\n"
     ]
    }
   ],
   "source": [
    "print(x_global_train.shape, x_global_test.shape, y_global_train.shape, y_global_test.shape)"
   ]
  },
  {
   "cell_type": "code",
   "execution_count": 13,
   "metadata": {},
   "outputs": [],
   "source": [
    "#Definimos las dimensiones\n",
    "n_outputs = 1\n",
    "n_global_timesteps, n_global_features  = x_global_train.shape[0], x_global_train.shape[1]"
   ]
  },
  {
   "cell_type": "code",
   "execution_count": 14,
   "metadata": {},
   "outputs": [
    {
     "output_type": "stream",
     "name": "stdout",
     "text": [
      "4266 1001\n"
     ]
    }
   ],
   "source": [
    "print(n_global_timesteps, n_global_features)"
   ]
  },
  {
   "cell_type": "code",
   "execution_count": 15,
   "metadata": {},
   "outputs": [],
   "source": [
    "#Expandimos las dimensiones de train \n",
    "x_global_extended_train = np.expand_dims(x_global_train,axis=-1)\n",
    "y_global_extended_train = np.array(y_global_train)"
   ]
  },
  {
   "cell_type": "code",
   "execution_count": 16,
   "metadata": {},
   "outputs": [
    {
     "output_type": "stream",
     "name": "stdout",
     "text": [
      "(4266, 1001) (4266,)\n(4266, 1001, 1) (4266,)\n"
     ]
    }
   ],
   "source": [
    "print(x_global_train.shape, y_global_train.shape)\n",
    "print(x_global_extended_train.shape, y_global_extended_train.shape)"
   ]
  },
  {
   "cell_type": "code",
   "execution_count": 17,
   "metadata": {},
   "outputs": [],
   "source": [
    "#Expandimos las dimensiones de test\n",
    "x_global_extended_test = np.expand_dims(x_global_test,axis=-1)\n",
    "y_global_extended_test = np.array(y_global_test)"
   ]
  },
  {
   "cell_type": "code",
   "execution_count": 18,
   "metadata": {},
   "outputs": [
    {
     "output_type": "stream",
     "name": "stdout",
     "text": [
      "(1829, 1001) (1829,)\n(1829, 1001, 1) (1829,)\n"
     ]
    }
   ],
   "source": [
    "print(x_global_test.shape, y_global_test.shape)\n",
    "print(x_global_extended_test.shape, y_global_extended_test.shape)"
   ]
  },
  {
   "source": [
    "## Construcción Red Neuronal"
   ],
   "cell_type": "markdown",
   "metadata": {}
  },
  {
   "cell_type": "code",
   "execution_count": 19,
   "metadata": {},
   "outputs": [],
   "source": [
    "inputGlobalView = tf.keras.layers.Input(shape=(n_global_features, 1))\n",
    "inputGlobalView.set_shape([n_global_timesteps, n_global_features, 1])  # 4266 x 1001\n",
    "\n",
    "\n",
    "CG1 = tf.keras.layers.Conv1D(filters=16, kernel_size=5, activation='relu')(inputGlobalView)\n",
    "CG2 = tf.keras.layers.Conv1D(filters=16, kernel_size=5, activation='relu')(CG1)\n",
    "\n",
    "MG1 = tf.keras.layers.MaxPooling1D(pool_size=3, strides=2)(CG2)\n",
    "\n",
    "CG3 = tf.keras.layers.Conv1D(filters=32, kernel_size=5, activation='relu')(MG1)\n",
    "CG4 = tf.keras.layers.Conv1D(filters=32, kernel_size=5, activation='relu')(CG3)\n",
    "\n",
    "MG2 = tf.keras.layers.MaxPooling1D(pool_size=2, strides=2)(CG4)\n",
    "\n",
    "CG5 = tf.keras.layers.Conv1D(filters=64, kernel_size=5, activation='relu')(MG2)\n",
    "CG6 = tf.keras.layers.Conv1D(filters=64, kernel_size=5, activation='relu')(CG5)\n",
    "\n",
    "MG3 = tf.keras.layers.MaxPooling1D(pool_size=2, strides=2)(CG6)\n",
    "\n",
    "CG7 = tf.keras.layers.Conv1D(filters=128, kernel_size=5, activation='relu')(MG3)\n",
    "CG8 = tf.keras.layers.Conv1D(filters=128, kernel_size=5, activation='relu')(CG7)\n",
    "\n",
    "MG4 = tf.keras.layers.MaxPooling1D(pool_size=2, strides=2)(CG8)\n",
    "\n",
    "CG9 = tf.keras.layers.Conv1D(filters=256, kernel_size=5, activation='relu')(MG4)\n",
    "CG10 = tf.keras.layers.Conv1D(filters=256, kernel_size=5, activation='relu')(CG9)\n",
    "\n",
    "MG5 = tf.keras.layers.MaxPooling1D(pool_size=2, strides=2)(CG10)\n",
    "\n",
    "# flat2 = tf.keras.layers.Flatten()(MG5)\n"
   ]
  },
  {
   "source": [
    "### Unificación de redes"
   ],
   "cell_type": "markdown",
   "metadata": {}
  },
  {
   "cell_type": "code",
   "execution_count": 20,
   "metadata": {},
   "outputs": [],
   "source": [
    "# merge input models\n",
    "# merge = tf.keras.layers.concatenate([flat2])\n",
    "\n",
    "# interpretation model\n",
    "hidden1 = tf.keras.layers.Dense(256, activation='relu')(MG5)\n",
    "hidden2 = tf.keras.layers.Dense(256, activation='relu')(hidden1)\n",
    "hidden3 = tf.keras.layers.Dense(256, activation='relu')(hidden2)\n",
    "hidden4 = tf.keras.layers.Dense(256, activation='relu')(hidden3)"
   ]
  },
  {
   "cell_type": "code",
   "execution_count": 21,
   "metadata": {},
   "outputs": [
    {
     "output_type": "stream",
     "name": "stdout",
     "text": [
      "Model: \"functional_1\"\n_________________________________________________________________\nLayer (type)                 Output Shape              Param #   \n=================================================================\ninput_1 (InputLayer)         [(4266, 1001, 1)]         0         \n_________________________________________________________________\nconv1d (Conv1D)              (4266, 997, 16)           96        \n_________________________________________________________________\nconv1d_1 (Conv1D)            (4266, 993, 16)           1296      \n_________________________________________________________________\nmax_pooling1d (MaxPooling1D) (4266, 496, 16)           0         \n_________________________________________________________________\nconv1d_2 (Conv1D)            (4266, 492, 32)           2592      \n_________________________________________________________________\nconv1d_3 (Conv1D)            (4266, 488, 32)           5152      \n_________________________________________________________________\nmax_pooling1d_1 (MaxPooling1 (4266, 244, 32)           0         \n_________________________________________________________________\nconv1d_4 (Conv1D)            (4266, 240, 64)           10304     \n_________________________________________________________________\nconv1d_5 (Conv1D)            (4266, 236, 64)           20544     \n_________________________________________________________________\nmax_pooling1d_2 (MaxPooling1 (4266, 118, 64)           0         \n_________________________________________________________________\nconv1d_6 (Conv1D)            (4266, 114, 128)          41088     \n_________________________________________________________________\nconv1d_7 (Conv1D)            (4266, 110, 128)          82048     \n_________________________________________________________________\nmax_pooling1d_3 (MaxPooling1 (4266, 55, 128)           0         \n_________________________________________________________________\nconv1d_8 (Conv1D)            (4266, 51, 256)           164096    \n_________________________________________________________________\nconv1d_9 (Conv1D)            (4266, 47, 256)           327936    \n_________________________________________________________________\nmax_pooling1d_4 (MaxPooling1 (4266, 23, 256)           0         \n_________________________________________________________________\ndense (Dense)                (4266, 23, 256)           65792     \n_________________________________________________________________\ndense_1 (Dense)              (4266, 23, 256)           65792     \n_________________________________________________________________\ndense_2 (Dense)              (4266, 23, 256)           65792     \n_________________________________________________________________\ndense_3 (Dense)              (4266, 23, 256)           65792     \n_________________________________________________________________\ndense_4 (Dense)              (4266, 23, 1)             257       \n=================================================================\nTotal params: 918,577\nTrainable params: 918,577\nNon-trainable params: 0\n_________________________________________________________________\nNone\n"
     ]
    }
   ],
   "source": [
    "output = tf.keras.layers.Dense(n_outputs, activation='tanh')(hidden4)\n",
    "\n",
    "model = tf.keras.Model(inputs=inputGlobalView, outputs=output)\n",
    "model.compile(loss='binary_crossentropy', optimizer='adam', metrics=['accuracy'])\n",
    "\n",
    "print(model.summary())"
   ]
  },
  {
   "cell_type": "code",
   "execution_count": 22,
   "metadata": {},
   "outputs": [
    {
     "output_type": "stream",
     "name": "stdout",
     "text": [
      "Epoch 1/50\n",
      "WARNING:tensorflow:Model was constructed with shape (4266, 1001, 1) for input Tensor(\"input_1:0\", shape=(4266, 1001, 1), dtype=float32), but it was called on an input with incompatible shape (237, 1001, 1).\n",
      "WARNING:tensorflow:Model was constructed with shape (4266, 1001, 1) for input Tensor(\"input_1:0\", shape=(4266, 1001, 1), dtype=float32), but it was called on an input with incompatible shape (237, 1001, 1).\n",
      "18/18 [==============================] - 21s 1s/step - loss: 0.6217 - accuracy: 0.7237\n",
      "Epoch 2/50\n",
      "18/18 [==============================] - 31s 2s/step - loss: 0.5265 - accuracy: 0.7579\n",
      "Epoch 3/50\n",
      "18/18 [==============================] - 29s 2s/step - loss: 0.5034 - accuracy: 0.7553\n",
      "Epoch 4/50\n",
      "18/18 [==============================] - 27s 2s/step - loss: 0.4807 - accuracy: 0.7592\n",
      "Epoch 5/50\n",
      "18/18 [==============================] - 34s 2s/step - loss: 0.4642 - accuracy: 0.7680\n",
      "Epoch 6/50\n",
      "18/18 [==============================] - 27s 1s/step - loss: 0.4560 - accuracy: 0.7743\n",
      "Epoch 7/50\n",
      "18/18 [==============================] - 27s 2s/step - loss: 0.4530 - accuracy: 0.7803\n",
      "Epoch 8/50\n",
      "18/18 [==============================] - 34s 2s/step - loss: 0.4543 - accuracy: 0.7809\n",
      "Epoch 9/50\n",
      "18/18 [==============================] - 37s 2s/step - loss: 0.4541 - accuracy: 0.7785\n",
      "Epoch 10/50\n",
      "18/18 [==============================] - 29s 2s/step - loss: 0.4439 - accuracy: 0.7839\n",
      "Epoch 11/50\n",
      "18/18 [==============================] - 34s 2s/step - loss: 0.4421 - accuracy: 0.7865\n",
      "Epoch 12/50\n",
      "18/18 [==============================] - 35s 2s/step - loss: 0.4342 - accuracy: 0.7897\n",
      "Epoch 13/50\n",
      "18/18 [==============================] - 35s 2s/step - loss: 0.4321 - accuracy: 0.7884\n",
      "Epoch 14/50\n",
      "18/18 [==============================] - 38s 2s/step - loss: 0.4357 - accuracy: 0.7882\n",
      "Epoch 15/50\n",
      "18/18 [==============================] - 30s 2s/step - loss: 0.4320 - accuracy: 0.7905\n",
      "Epoch 16/50\n",
      "18/18 [==============================] - 24s 1s/step - loss: 0.4307 - accuracy: 0.7907\n",
      "Epoch 17/50\n",
      "18/18 [==============================] - 24s 1s/step - loss: 0.4230 - accuracy: 0.7936\n",
      "Epoch 18/50\n",
      "18/18 [==============================] - 27s 1s/step - loss: 0.4282 - accuracy: 0.7960\n",
      "Epoch 19/50\n",
      "18/18 [==============================] - 25s 1s/step - loss: 0.4218 - accuracy: 0.7981\n",
      "Epoch 20/50\n",
      "18/18 [==============================] - 23s 1s/step - loss: 0.4198 - accuracy: 0.7948\n",
      "Epoch 21/50\n",
      "18/18 [==============================] - 24s 1s/step - loss: 0.4106 - accuracy: 0.8003\n",
      "Epoch 22/50\n",
      "18/18 [==============================] - 26s 1s/step - loss: 0.4202 - accuracy: 0.8008\n",
      "Epoch 23/50\n",
      "18/18 [==============================] - 24s 1s/step - loss: 0.4141 - accuracy: 0.8007\n",
      "Epoch 24/50\n",
      "18/18 [==============================] - 24s 1s/step - loss: 0.4031 - accuracy: 0.8075\n",
      "Epoch 25/50\n",
      "18/18 [==============================] - 33s 2s/step - loss: 0.4062 - accuracy: 0.8059\n",
      "Epoch 26/50\n",
      "18/18 [==============================] - 36s 2s/step - loss: 0.3979 - accuracy: 0.8109\n",
      "Epoch 27/50\n",
      "18/18 [==============================] - 36s 2s/step - loss: 0.3980 - accuracy: 0.8068\n",
      "Epoch 28/50\n",
      "18/18 [==============================] - 38s 2s/step - loss: 0.3929 - accuracy: 0.8095\n",
      "Epoch 29/50\n",
      "18/18 [==============================] - 37s 2s/step - loss: 0.4004 - accuracy: 0.8090\n",
      "Epoch 30/50\n",
      "18/18 [==============================] - 32s 2s/step - loss: 0.3975 - accuracy: 0.8079\n",
      "Epoch 31/50\n",
      "18/18 [==============================] - 32s 2s/step - loss: 0.3932 - accuracy: 0.8092\n",
      "Epoch 32/50\n",
      "18/18 [==============================] - 28s 2s/step - loss: 0.3899 - accuracy: 0.8076\n",
      "Epoch 33/50\n",
      "18/18 [==============================] - 28s 2s/step - loss: 0.3866 - accuracy: 0.8115\n",
      "Epoch 34/50\n",
      "18/18 [==============================] - 28s 2s/step - loss: 0.3741 - accuracy: 0.8227\n",
      "Epoch 35/50\n",
      "18/18 [==============================] - 29s 2s/step - loss: 0.3736 - accuracy: 0.8206\n",
      "Epoch 36/50\n",
      "18/18 [==============================] - 28s 2s/step - loss: 0.3756 - accuracy: 0.8217\n",
      "Epoch 37/50\n",
      "18/18 [==============================] - 40s 2s/step - loss: 0.3763 - accuracy: 0.8189\n",
      "Epoch 38/50\n",
      "18/18 [==============================] - 29s 2s/step - loss: 0.3645 - accuracy: 0.8206\n",
      "Epoch 39/50\n",
      "18/18 [==============================] - 25s 1s/step - loss: 0.3598 - accuracy: 0.8281\n",
      "Epoch 40/50\n",
      "18/18 [==============================] - 25s 1s/step - loss: 0.3585 - accuracy: 0.8281\n",
      "Epoch 41/50\n",
      "18/18 [==============================] - 25s 1s/step - loss: 0.3488 - accuracy: 0.8333\n",
      "Epoch 42/50\n",
      "18/18 [==============================] - 23s 1s/step - loss: 0.4812 - accuracy: 0.7980\n",
      "Epoch 43/50\n",
      "18/18 [==============================] - 26s 1s/step - loss: 0.5649 - accuracy: 0.7592\n",
      "Epoch 44/50\n",
      "18/18 [==============================] - 25s 1s/step - loss: 0.5473 - accuracy: 0.7593\n",
      "Epoch 45/50\n",
      "18/18 [==============================] - 26s 1s/step - loss: 0.5589 - accuracy: 0.7593\n",
      "Epoch 46/50\n",
      "18/18 [==============================] - 26s 1s/step - loss: 0.5225 - accuracy: 0.7601\n",
      "Epoch 47/50\n",
      "18/18 [==============================] - 26s 1s/step - loss: 0.4931 - accuracy: 0.7592\n",
      "Epoch 48/50\n",
      "18/18 [==============================] - 26s 1s/step - loss: 0.5024 - accuracy: 0.7604\n",
      "Epoch 49/50\n",
      "18/18 [==============================] - 23s 1s/step - loss: 0.4869 - accuracy: 0.7614\n",
      "Epoch 50/50\n",
      "18/18 [==============================] - 27s 2s/step - loss: 0.4784 - accuracy: 0.7632\n"
     ]
    }
   ],
   "source": [
    "# divisores 4266: 1, 2, 3, 6, 9, 18, 27, 54, 79, 158, 237, 474, 711, 1422, 2133, 4266\n",
    "bs = 237\n",
    "Ajuste = model.fit([x_global_extended_train], y_global_extended_train, epochs=50, batch_size=bs)"
   ]
  },
  {
   "cell_type": "code",
   "execution_count": 27,
   "metadata": {},
   "outputs": [
    {
     "output_type": "error",
     "ename": "InvalidArgumentError",
     "evalue": " Input to reshape is a tensor with 188416 values, but the requested shape has 25118208\n\t [[node functional_1/dense/Tensordot/Reshape (defined at <ipython-input-25-7b0ecb4b8443>:1) ]] [Op:__inference_predict_function_4855]\n\nFunction call stack:\npredict_function\n",
     "traceback": [
      "\u001b[1;31m---------------------------------------------------------------------------\u001b[0m",
      "\u001b[1;31mInvalidArgumentError\u001b[0m                      Traceback (most recent call last)",
      "\u001b[1;32m<ipython-input-27-7b0ecb4b8443>\u001b[0m in \u001b[0;36m<module>\u001b[1;34m\u001b[0m\n\u001b[1;32m----> 1\u001b[1;33m \u001b[0my_pred_keras\u001b[0m \u001b[1;33m=\u001b[0m \u001b[0mmodel\u001b[0m\u001b[1;33m.\u001b[0m\u001b[0mpredict\u001b[0m\u001b[1;33m(\u001b[0m\u001b[0mx_global_extended_test\u001b[0m\u001b[1;33m)\u001b[0m\u001b[1;33m.\u001b[0m\u001b[0mravel\u001b[0m\u001b[1;33m(\u001b[0m\u001b[1;33m)\u001b[0m\u001b[1;33m\u001b[0m\u001b[1;33m\u001b[0m\u001b[0m\n\u001b[0m\u001b[0;32m      2\u001b[0m \u001b[0mdisplay\u001b[0m\u001b[1;33m(\u001b[0m\u001b[0my_pred_keras\u001b[0m\u001b[1;33m)\u001b[0m\u001b[1;33m\u001b[0m\u001b[1;33m\u001b[0m\u001b[0m\n",
      "\u001b[1;32m~\\Anaconda3\\lib\\site-packages\\tensorflow\\python\\keras\\engine\\training.py\u001b[0m in \u001b[0;36m_method_wrapper\u001b[1;34m(self, *args, **kwargs)\u001b[0m\n\u001b[0;32m    128\u001b[0m       raise ValueError('{} is not supported in multi-worker mode.'.format(\n\u001b[0;32m    129\u001b[0m           method.__name__))\n\u001b[1;32m--> 130\u001b[1;33m     \u001b[1;32mreturn\u001b[0m \u001b[0mmethod\u001b[0m\u001b[1;33m(\u001b[0m\u001b[0mself\u001b[0m\u001b[1;33m,\u001b[0m \u001b[1;33m*\u001b[0m\u001b[0margs\u001b[0m\u001b[1;33m,\u001b[0m \u001b[1;33m**\u001b[0m\u001b[0mkwargs\u001b[0m\u001b[1;33m)\u001b[0m\u001b[1;33m\u001b[0m\u001b[1;33m\u001b[0m\u001b[0m\n\u001b[0m\u001b[0;32m    131\u001b[0m \u001b[1;33m\u001b[0m\u001b[0m\n\u001b[0;32m    132\u001b[0m   return tf_decorator.make_decorator(\n",
      "\u001b[1;32m~\\Anaconda3\\lib\\site-packages\\tensorflow\\python\\keras\\engine\\training.py\u001b[0m in \u001b[0;36mpredict\u001b[1;34m(self, x, batch_size, verbose, steps, callbacks, max_queue_size, workers, use_multiprocessing)\u001b[0m\n\u001b[0;32m   1597\u001b[0m           \u001b[1;32mfor\u001b[0m \u001b[0mstep\u001b[0m \u001b[1;32min\u001b[0m \u001b[0mdata_handler\u001b[0m\u001b[1;33m.\u001b[0m\u001b[0msteps\u001b[0m\u001b[1;33m(\u001b[0m\u001b[1;33m)\u001b[0m\u001b[1;33m:\u001b[0m\u001b[1;33m\u001b[0m\u001b[1;33m\u001b[0m\u001b[0m\n\u001b[0;32m   1598\u001b[0m             \u001b[0mcallbacks\u001b[0m\u001b[1;33m.\u001b[0m\u001b[0mon_predict_batch_begin\u001b[0m\u001b[1;33m(\u001b[0m\u001b[0mstep\u001b[0m\u001b[1;33m)\u001b[0m\u001b[1;33m\u001b[0m\u001b[1;33m\u001b[0m\u001b[0m\n\u001b[1;32m-> 1599\u001b[1;33m             \u001b[0mtmp_batch_outputs\u001b[0m \u001b[1;33m=\u001b[0m \u001b[0mpredict_function\u001b[0m\u001b[1;33m(\u001b[0m\u001b[0miterator\u001b[0m\u001b[1;33m)\u001b[0m\u001b[1;33m\u001b[0m\u001b[1;33m\u001b[0m\u001b[0m\n\u001b[0m\u001b[0;32m   1600\u001b[0m             \u001b[1;32mif\u001b[0m \u001b[0mdata_handler\u001b[0m\u001b[1;33m.\u001b[0m\u001b[0mshould_sync\u001b[0m\u001b[1;33m:\u001b[0m\u001b[1;33m\u001b[0m\u001b[1;33m\u001b[0m\u001b[0m\n\u001b[0;32m   1601\u001b[0m               \u001b[0mcontext\u001b[0m\u001b[1;33m.\u001b[0m\u001b[0masync_wait\u001b[0m\u001b[1;33m(\u001b[0m\u001b[1;33m)\u001b[0m\u001b[1;33m\u001b[0m\u001b[1;33m\u001b[0m\u001b[0m\n",
      "\u001b[1;32m~\\Anaconda3\\lib\\site-packages\\tensorflow\\python\\eager\\def_function.py\u001b[0m in \u001b[0;36m__call__\u001b[1;34m(self, *args, **kwds)\u001b[0m\n\u001b[0;32m    778\u001b[0m       \u001b[1;32melse\u001b[0m\u001b[1;33m:\u001b[0m\u001b[1;33m\u001b[0m\u001b[1;33m\u001b[0m\u001b[0m\n\u001b[0;32m    779\u001b[0m         \u001b[0mcompiler\u001b[0m \u001b[1;33m=\u001b[0m \u001b[1;34m\"nonXla\"\u001b[0m\u001b[1;33m\u001b[0m\u001b[1;33m\u001b[0m\u001b[0m\n\u001b[1;32m--> 780\u001b[1;33m         \u001b[0mresult\u001b[0m \u001b[1;33m=\u001b[0m \u001b[0mself\u001b[0m\u001b[1;33m.\u001b[0m\u001b[0m_call\u001b[0m\u001b[1;33m(\u001b[0m\u001b[1;33m*\u001b[0m\u001b[0margs\u001b[0m\u001b[1;33m,\u001b[0m \u001b[1;33m**\u001b[0m\u001b[0mkwds\u001b[0m\u001b[1;33m)\u001b[0m\u001b[1;33m\u001b[0m\u001b[1;33m\u001b[0m\u001b[0m\n\u001b[0m\u001b[0;32m    781\u001b[0m \u001b[1;33m\u001b[0m\u001b[0m\n\u001b[0;32m    782\u001b[0m       \u001b[0mnew_tracing_count\u001b[0m \u001b[1;33m=\u001b[0m \u001b[0mself\u001b[0m\u001b[1;33m.\u001b[0m\u001b[0m_get_tracing_count\u001b[0m\u001b[1;33m(\u001b[0m\u001b[1;33m)\u001b[0m\u001b[1;33m\u001b[0m\u001b[1;33m\u001b[0m\u001b[0m\n",
      "\u001b[1;32m~\\Anaconda3\\lib\\site-packages\\tensorflow\\python\\eager\\def_function.py\u001b[0m in \u001b[0;36m_call\u001b[1;34m(self, *args, **kwds)\u001b[0m\n\u001b[0;32m    812\u001b[0m       \u001b[1;31m# In this case we have not created variables on the first call. So we can\u001b[0m\u001b[1;33m\u001b[0m\u001b[1;33m\u001b[0m\u001b[1;33m\u001b[0m\u001b[0m\n\u001b[0;32m    813\u001b[0m       \u001b[1;31m# run the first trace but we should fail if variables are created.\u001b[0m\u001b[1;33m\u001b[0m\u001b[1;33m\u001b[0m\u001b[1;33m\u001b[0m\u001b[0m\n\u001b[1;32m--> 814\u001b[1;33m       \u001b[0mresults\u001b[0m \u001b[1;33m=\u001b[0m \u001b[0mself\u001b[0m\u001b[1;33m.\u001b[0m\u001b[0m_stateful_fn\u001b[0m\u001b[1;33m(\u001b[0m\u001b[1;33m*\u001b[0m\u001b[0margs\u001b[0m\u001b[1;33m,\u001b[0m \u001b[1;33m**\u001b[0m\u001b[0mkwds\u001b[0m\u001b[1;33m)\u001b[0m\u001b[1;33m\u001b[0m\u001b[1;33m\u001b[0m\u001b[0m\n\u001b[0m\u001b[0;32m    815\u001b[0m       \u001b[1;32mif\u001b[0m \u001b[0mself\u001b[0m\u001b[1;33m.\u001b[0m\u001b[0m_created_variables\u001b[0m\u001b[1;33m:\u001b[0m\u001b[1;33m\u001b[0m\u001b[1;33m\u001b[0m\u001b[0m\n\u001b[0;32m    816\u001b[0m         raise ValueError(\"Creating variables on a non-first call to a function\"\n",
      "\u001b[1;32m~\\Anaconda3\\lib\\site-packages\\tensorflow\\python\\eager\\function.py\u001b[0m in \u001b[0;36m__call__\u001b[1;34m(self, *args, **kwargs)\u001b[0m\n\u001b[0;32m   2827\u001b[0m     \u001b[1;32mwith\u001b[0m \u001b[0mself\u001b[0m\u001b[1;33m.\u001b[0m\u001b[0m_lock\u001b[0m\u001b[1;33m:\u001b[0m\u001b[1;33m\u001b[0m\u001b[1;33m\u001b[0m\u001b[0m\n\u001b[0;32m   2828\u001b[0m       \u001b[0mgraph_function\u001b[0m\u001b[1;33m,\u001b[0m \u001b[0margs\u001b[0m\u001b[1;33m,\u001b[0m \u001b[0mkwargs\u001b[0m \u001b[1;33m=\u001b[0m \u001b[0mself\u001b[0m\u001b[1;33m.\u001b[0m\u001b[0m_maybe_define_function\u001b[0m\u001b[1;33m(\u001b[0m\u001b[0margs\u001b[0m\u001b[1;33m,\u001b[0m \u001b[0mkwargs\u001b[0m\u001b[1;33m)\u001b[0m\u001b[1;33m\u001b[0m\u001b[1;33m\u001b[0m\u001b[0m\n\u001b[1;32m-> 2829\u001b[1;33m     \u001b[1;32mreturn\u001b[0m \u001b[0mgraph_function\u001b[0m\u001b[1;33m.\u001b[0m\u001b[0m_filtered_call\u001b[0m\u001b[1;33m(\u001b[0m\u001b[0margs\u001b[0m\u001b[1;33m,\u001b[0m \u001b[0mkwargs\u001b[0m\u001b[1;33m)\u001b[0m  \u001b[1;31m# pylint: disable=protected-access\u001b[0m\u001b[1;33m\u001b[0m\u001b[1;33m\u001b[0m\u001b[0m\n\u001b[0m\u001b[0;32m   2830\u001b[0m \u001b[1;33m\u001b[0m\u001b[0m\n\u001b[0;32m   2831\u001b[0m   \u001b[1;33m@\u001b[0m\u001b[0mproperty\u001b[0m\u001b[1;33m\u001b[0m\u001b[1;33m\u001b[0m\u001b[0m\n",
      "\u001b[1;32m~\\Anaconda3\\lib\\site-packages\\tensorflow\\python\\eager\\function.py\u001b[0m in \u001b[0;36m_filtered_call\u001b[1;34m(self, args, kwargs, cancellation_manager)\u001b[0m\n\u001b[0;32m   1846\u001b[0m                            resource_variable_ops.BaseResourceVariable))],\n\u001b[0;32m   1847\u001b[0m         \u001b[0mcaptured_inputs\u001b[0m\u001b[1;33m=\u001b[0m\u001b[0mself\u001b[0m\u001b[1;33m.\u001b[0m\u001b[0mcaptured_inputs\u001b[0m\u001b[1;33m,\u001b[0m\u001b[1;33m\u001b[0m\u001b[1;33m\u001b[0m\u001b[0m\n\u001b[1;32m-> 1848\u001b[1;33m         cancellation_manager=cancellation_manager)\n\u001b[0m\u001b[0;32m   1849\u001b[0m \u001b[1;33m\u001b[0m\u001b[0m\n\u001b[0;32m   1850\u001b[0m   \u001b[1;32mdef\u001b[0m \u001b[0m_call_flat\u001b[0m\u001b[1;33m(\u001b[0m\u001b[0mself\u001b[0m\u001b[1;33m,\u001b[0m \u001b[0margs\u001b[0m\u001b[1;33m,\u001b[0m \u001b[0mcaptured_inputs\u001b[0m\u001b[1;33m,\u001b[0m \u001b[0mcancellation_manager\u001b[0m\u001b[1;33m=\u001b[0m\u001b[1;32mNone\u001b[0m\u001b[1;33m)\u001b[0m\u001b[1;33m:\u001b[0m\u001b[1;33m\u001b[0m\u001b[1;33m\u001b[0m\u001b[0m\n",
      "\u001b[1;32m~\\Anaconda3\\lib\\site-packages\\tensorflow\\python\\eager\\function.py\u001b[0m in \u001b[0;36m_call_flat\u001b[1;34m(self, args, captured_inputs, cancellation_manager)\u001b[0m\n\u001b[0;32m   1922\u001b[0m       \u001b[1;31m# No tape is watching; skip to running the function.\u001b[0m\u001b[1;33m\u001b[0m\u001b[1;33m\u001b[0m\u001b[1;33m\u001b[0m\u001b[0m\n\u001b[0;32m   1923\u001b[0m       return self._build_call_outputs(self._inference_function.call(\n\u001b[1;32m-> 1924\u001b[1;33m           ctx, args, cancellation_manager=cancellation_manager))\n\u001b[0m\u001b[0;32m   1925\u001b[0m     forward_backward = self._select_forward_and_backward_functions(\n\u001b[0;32m   1926\u001b[0m         \u001b[0margs\u001b[0m\u001b[1;33m,\u001b[0m\u001b[1;33m\u001b[0m\u001b[1;33m\u001b[0m\u001b[0m\n",
      "\u001b[1;32m~\\Anaconda3\\lib\\site-packages\\tensorflow\\python\\eager\\function.py\u001b[0m in \u001b[0;36mcall\u001b[1;34m(self, ctx, args, cancellation_manager)\u001b[0m\n\u001b[0;32m    548\u001b[0m               \u001b[0minputs\u001b[0m\u001b[1;33m=\u001b[0m\u001b[0margs\u001b[0m\u001b[1;33m,\u001b[0m\u001b[1;33m\u001b[0m\u001b[1;33m\u001b[0m\u001b[0m\n\u001b[0;32m    549\u001b[0m               \u001b[0mattrs\u001b[0m\u001b[1;33m=\u001b[0m\u001b[0mattrs\u001b[0m\u001b[1;33m,\u001b[0m\u001b[1;33m\u001b[0m\u001b[1;33m\u001b[0m\u001b[0m\n\u001b[1;32m--> 550\u001b[1;33m               ctx=ctx)\n\u001b[0m\u001b[0;32m    551\u001b[0m         \u001b[1;32melse\u001b[0m\u001b[1;33m:\u001b[0m\u001b[1;33m\u001b[0m\u001b[1;33m\u001b[0m\u001b[0m\n\u001b[0;32m    552\u001b[0m           outputs = execute.execute_with_cancellation(\n",
      "\u001b[1;32m~\\Anaconda3\\lib\\site-packages\\tensorflow\\python\\eager\\execute.py\u001b[0m in \u001b[0;36mquick_execute\u001b[1;34m(op_name, num_outputs, inputs, attrs, ctx, name)\u001b[0m\n\u001b[0;32m     58\u001b[0m     \u001b[0mctx\u001b[0m\u001b[1;33m.\u001b[0m\u001b[0mensure_initialized\u001b[0m\u001b[1;33m(\u001b[0m\u001b[1;33m)\u001b[0m\u001b[1;33m\u001b[0m\u001b[1;33m\u001b[0m\u001b[0m\n\u001b[0;32m     59\u001b[0m     tensors = pywrap_tfe.TFE_Py_Execute(ctx._handle, device_name, op_name,\n\u001b[1;32m---> 60\u001b[1;33m                                         inputs, attrs, num_outputs)\n\u001b[0m\u001b[0;32m     61\u001b[0m   \u001b[1;32mexcept\u001b[0m \u001b[0mcore\u001b[0m\u001b[1;33m.\u001b[0m\u001b[0m_NotOkStatusException\u001b[0m \u001b[1;32mas\u001b[0m \u001b[0me\u001b[0m\u001b[1;33m:\u001b[0m\u001b[1;33m\u001b[0m\u001b[1;33m\u001b[0m\u001b[0m\n\u001b[0;32m     62\u001b[0m     \u001b[1;32mif\u001b[0m \u001b[0mname\u001b[0m \u001b[1;32mis\u001b[0m \u001b[1;32mnot\u001b[0m \u001b[1;32mNone\u001b[0m\u001b[1;33m:\u001b[0m\u001b[1;33m\u001b[0m\u001b[1;33m\u001b[0m\u001b[0m\n",
      "\u001b[1;31mInvalidArgumentError\u001b[0m:  Input to reshape is a tensor with 188416 values, but the requested shape has 25118208\n\t [[node functional_1/dense/Tensordot/Reshape (defined at <ipython-input-25-7b0ecb4b8443>:1) ]] [Op:__inference_predict_function_4855]\n\nFunction call stack:\npredict_function\n"
     ]
    }
   ],
   "source": [
    "y_pred_keras = model.predict(x_global_extended_test).ravel()\n",
    "display(y_pred_keras)"
   ]
  },
  {
   "cell_type": "code",
   "execution_count": null,
   "metadata": {},
   "outputs": [],
   "source": [
    "# Defino las métricas\n",
    "fpr_keras, tpr_keras, thresholds_keras = roc_curve(y_local_extended_test, y_pred_keras)\n",
    "auc_keras = auc(fpr_keras, tpr_keras)\n",
    "gmeans = np.sqrt(tpr_keras * (1-fpr_keras))\n",
    "\n",
    "# localiza el índice del mayor g-mean\n",
    "ix = argmax(gmeans)\n",
    "print('Best Threshold=%f, G-Mean=%.3f' % (thresholds_keras[ix], gmeans[ix]))\n"
   ]
  },
  {
   "source": [
    "# \"#############\"\n"
   ],
   "cell_type": "markdown",
   "metadata": {}
  },
  {
   "cell_type": "code",
   "execution_count": null,
   "metadata": {},
   "outputs": [],
   "source": [
    "#Umbral estándar\n",
    "labels_Standart = (y_pred_keras >= 0.5).astype(np.int)\n",
    "PhiM_Standart = matthews_corrcoef(y_local_extended_test, labels_Standart)\n",
    "Matrix_Standart = confusion_matrix(y_local_extended_test, labels_Standart)\n",
    "\n",
    "#Imprimo por pantalla las métricas\n",
    "auc_keras, PhiM_Standart, print(Matrix_Standart)\n"
   ]
  },
  {
   "cell_type": "code",
   "execution_count": null,
   "metadata": {},
   "outputs": [],
   "source": [
    "#Umbral OPT\n",
    "labels_OPT =(y_pred_keras >= thresholds_keras[ix]).astype(np.int)\n",
    "PhiCoeff_OPT = matthews_corrcoef(y_local_extended_test, labels_OPT)\n",
    "Matrix_OPT = confusion_matrix(y_local_extended_test, labels_OPT)\n",
    "F_Measure_OPT = f1_score(y_local_extended_test, labels_OPT, average='binary')\n",
    "Accuracy_OPT= accuracy_score(y_local_extended_test, labels_OPT, normalize=True)\n",
    "Recall_OPT= recall_score(y_local_extended_test, labels_OPT, average=None)\n",
    "Average_precision_OPT= average_precision_score(y_local_extended_test, labels_OPT)\n",
    "\n",
    "\n",
    "#Imprimo por pantalla las métricas\n",
    "print(\"AUC:\", auc_keras)\n",
    "print(\"F_Measure:\", F_Measure_OPT)\n",
    "print(\"PhiCoeff:\", PhiCoeff_OPT)\n",
    "print(\"Average_precision:\", Average_precision_OPT)\n",
    "print(\"Accuracy:\", Accuracy_OPT)\n",
    "print(\"Recall:\", Recall_OPT)\n",
    "print(\"Matriz de confusión:\")\n",
    "print( Matrix_OPT)\n"
   ]
  },
  {
   "cell_type": "code",
   "execution_count": null,
   "metadata": {},
   "outputs": [],
   "source": [
    "#Ploteo la matrix de confusión\n",
    "import seaborn as sn\n",
    "df_cm = pd.DataFrame(Matrix_OPT, index = [i for i in \"01\"],\n",
    "                  columns = [i for i in \"01\"])\n",
    "\n",
    "plt.figure(0.5)\n",
    "heat_map = sn.heatmap(df_cm, xticklabels=True, yticklabels=True, annot=True, annot_kws = {\"ha\": 'center',\"va\": 'bottom'},cbar=False)\n",
    "#heat_map.set_yticklabels(heat_map.get_yticklabels(), rotation=0)\n",
    "plt.xlabel('Predicted')\n",
    "plt.ylabel('Actual')\n",
    "\n",
    "for text in heat_map.texts:\n",
    "    text.set_size(14)\n",
    "    text.set_weight('bold')\n",
    "    if text.get_text() == '5':\n",
    "        text.set_color('black')\n"
   ]
  },
  {
   "cell_type": "code",
   "execution_count": null,
   "metadata": {},
   "outputs": [],
   "source": [
    "plt.figure(1)\n",
    "plt.plot([0, 1], [0, 1], 'k--')\n",
    "plt.plot(fpr_keras, tpr_keras, label='CNN (area = {:.3f})'.format(auc_keras))\n",
    "plt.scatter(fpr_keras[ix], tpr_keras[ix], marker='o', color='black', label='Best')\n",
    "plt.xlabel('False positive rate')\n",
    "plt.ylabel('True positive rate')\n",
    "plt.title('ROC curve')\n",
    "plt.legend(loc='best')\n"
   ]
  },
  {
   "cell_type": "code",
   "execution_count": null,
   "metadata": {},
   "outputs": [],
   "source": [
    "y_pred_keras_tot = np.array([])\n",
    "y_pred_rf_tot = np.array([])\n",
    "y_test_total = np.array([])\n",
    "\n",
    "x_local_train, x_local_test, y_local_train, y_local_test = train_test_split(LocalView.iloc[:,2:], LocalView.iloc[:,1], test_size=0.3, random_state=11)\n",
    "x_global_train, x_global_test, y_global_train, y_global_test = train_test_split(GlobalView.iloc[:,2:], GlobalView.iloc[:,1], test_size=0.3, random_state=11)\n",
    "x_stellar_train, x_stellar_test, y_stellar_train, y_stellar_test = train_test_split(StellarParam6P.iloc[:,2:], StellarParam6P.iloc[:,1], test_size=0.3, random_state=11)\n",
    "    \n",
    "   \n",
    "    #Definimos las dimensiones\n",
    "n_outputs = 1\n",
    "n_local_timesteps, n_local_features  = x_local_train.shape[0], x_local_train.shape[1]\n",
    "n_global_timesteps, n_global_features  = x_global_train.shape[0], x_global_train.shape[1]\n",
    "nS_timesteps, nS_features  = x_stellar_train.shape[0], x_stellar_train.shape[1]\n",
    "      \n",
    "    #Expandimos las dimensiones\n",
    "x_local_extended_train = np.expand_dims(x_local_train,axis=-1) # axis=-3 para que se adapte a la forma del tensor\n",
    "y_local_extended_train = np.array(y_local_train) # Hay que trasponer \n",
    "x_global_extended_train = np.expand_dims(x_global_train,axis=-1)\n",
    "y_global_extended_train = np.array(y_global_train)\n",
    "x_stellar_extended_train = np.expand_dims(x_stellar_train,axis=-1)\n",
    "y_stellar_extended_train = np.array(y_stellar_train)\n",
    "    \n",
    "    \n",
    "    # Multiple Inputs\n",
    "\n",
    "    # first input model\n",
    "inputLocalView = Input(shape=(n_local_features, 1))\n",
    "inputLocalView.set_shape([n_local_timesteps, n_local_features, 1])\n",
    "\n",
    "CL1 = Conv1D(filters=16, kernel_size=5, activation='relu')(inputLocalView)\n",
    "CL2 = Conv1D(filters=16, kernel_size=5, activation='relu')(CL1)\n",
    "\n",
    "ML1 = MaxPooling1D(pool_size=7, strides=2)(CL2)\n",
    "\n",
    "CL3 = Conv1D(filters=32, kernel_size=5, activation='relu')(ML1)\n",
    "CL4 = Conv1D(filters=32, kernel_size=5, activation='relu')(CL3)\n",
    "\n",
    "ML2 = MaxPooling1D(pool_size=7, strides=2)(CL4)\n",
    "flat1 = Flatten()(ML2)\n",
    "\n",
    "    # second input model\n",
    "\n",
    "inputGlobalView = Input(shape=(n_global_features, 1))\n",
    "inputGlobalView.set_shape([n_global_timesteps, n_global_features, 1])\n",
    "\n",
    "CG1 = Conv1D(filters=16, kernel_size=5, activation='relu')(inputGlobalView)\n",
    "CG2 = Conv1D(filters=16, kernel_size=5, activation='relu')(CG1)\n",
    "\n",
    "MG1 = MaxPooling1D(pool_size=3, strides=2)(CG2)\n",
    "\n",
    "CG3 = Conv1D(filters=32, kernel_size=5, activation='relu')(MG1)\n",
    "CG4 = Conv1D(filters=32, kernel_size=5, activation='relu')(CG3)\n",
    "\n",
    "MG2 = MaxPooling1D(pool_size=2, strides=2)(CG4)\n",
    "\n",
    "CG5 = Conv1D(filters=64, kernel_size=5, activation='relu')(MG2)\n",
    "CG6 = Conv1D(filters=64, kernel_size=5, activation='relu')(CG5)\n",
    "\n",
    "MG3 = MaxPooling1D(pool_size=2, strides=2)(CG6)\n",
    "\n",
    "CG7 = Conv1D(filters=128, kernel_size=3, activation='relu')(MG3)\n",
    "CG8 = Conv1D(filters=128, kernel_size=3, activation='relu')(CG7)\n",
    "\n",
    "MG4 = MaxPooling1D(pool_size=2, strides=2)(CG8)\n",
    "\n",
    "flat2 = Flatten()(MG4)\n",
    "\n",
    "    # third input model\n",
    "\n",
    "StellarParam6PInput = Input(shape=(nS_features, 1))\n",
    "StellarParam6PInput.set_shape([nS_timesteps, nS_features, 1])\n",
    "\n",
    "    #StellarParam6PInput=(nS_features,1)\n",
    "flat3 = Flatten()(StellarParam6PInput)\n",
    "    # merge input models\n",
    "merge = concatenate([flat1, flat2, flat3])\n",
    "\n",
    "    # interpretation model\n",
    "hidden1 = Dense(256, activation='relu')(merge)\n",
    "hidden2 = Dense(256, activation='relu')(hidden1)\n",
    "hidden3 = Dense(256, activation='relu')(hidden2)\n",
    "hidden4 = Dense(256, activation='relu')(hidden3)\n",
    " #2output = Dense(n_outputs, activation='tanh')(hidden4)\n",
    "output = Dense(n_outputs, activation='tanh')(hidden4)\n",
    "model = Model(inputs=[inputLocalView, inputGlobalView,StellarParam6PInput], outputs=output)\n",
    "    #loss='binary_crossentropy', optimizer='adam', metrics=['accuracy', 'ce']\n",
    "model.compile(loss='binary_crossentropy', optimizer='adadelta', metrics=['accuracy'])\n",
    "    #loss_weights=['main_output': 1., 'aux_output': 0.2]) por si queremos darles pesos diferentes\n",
    "\n",
    "batch_size=119\n",
    "\n",
    "#Aumento número de muestras\n",
    "for i in range(10):\n",
    "    \n",
    "    print(i)\n",
    "    \n",
    "    # Divido entre entrenamiento y test\n",
    "    x_local_train, x_local_test, y_local_train, y_local_test = train_test_split(LocalView.iloc[:,2:], LocalView.iloc[:,1], test_size=0.3, random_state=11+i)\n",
    "    x_global_train, x_global_test, y_global_train, y_global_test = train_test_split(GlobalView.iloc[:,2:], GlobalView.iloc[:,1], test_size=0.3, random_state=11+i)\n",
    "    x_stellar_train, x_stellar_test, y_stellar_train, y_stellar_test = train_test_split(StellarParam6P.iloc[:,2:], StellarParam6P.iloc[:,1], test_size=0.3, random_state=11+i)\n",
    "    \n",
    "  \n",
    "    # fit forma 2\n",
    "    FIT = model.fit([x_local_extended_train, x_global_extended_train, x_stellar_extended_train], y_local_extended_train,\n",
    "          epochs=50, batch_size=batch_size, verbose=0)\n",
    "    \n",
    "    x_local_extended_test = np.expand_dims(x_local_test,axis=-1)\n",
    "    y_local_extended_test = np.array(y_local_test) \n",
    "    x_global_extended_test = np.expand_dims(x_global_test,axis=-1)\n",
    "    y_global_extended_test = np.array(y_global_test)\n",
    "    x_stellar_extended_test = np.expand_dims(x_stellar_test,axis=-1)\n",
    "    y_stellar_extended_test = np.array(y_stellar_test)\n",
    "    \n",
    "    \n",
    "    # Creo la RoC\n",
    "    y_pred_kerasC = model.predict([x_local_extended_test,x_global_extended_test,x_stellar_extended_test]).ravel()\n",
    "    \n",
    "    \n",
    "    #Lleno los vectores totales\n",
    "    y_pred_keras_tot = np.concatenate((y_pred_keras_tot,y_pred_kerasC))\n",
    "    \n",
    "    y_test_total = np.concatenate((y_test_total,y_local_extended_test))\n"
   ]
  },
  {
   "cell_type": "code",
   "execution_count": null,
   "metadata": {},
   "outputs": [],
   "source": [
    "# Defino las métricas\n",
    "\n",
    "fpr_kerasTotal, tpr_kerasTotal, thresholds_kerasTotal = roc_curve(y_test_total, y_pred_keras_tot)\n",
    "auc_kerasTotal = auc(fpr_kerasTotal, tpr_kerasTotal)\n",
    "gmeans = np.sqrt(tpr_kerasTotal * (1-fpr_kerasTotal))\n",
    "# localiza el índice del mayor g-mean\n",
    "ix = argmax(gmeans)\n",
    "print('Best Threshold=%f, G-Mean=%.3f' % (thresholds_kerasTotal[ix], gmeans[ix]))\n"
   ]
  },
  {
   "cell_type": "code",
   "execution_count": null,
   "metadata": {},
   "outputs": [],
   "source": [
    "#Umbral estándar\n",
    "labels_Standart = (y_pred_keras_tot >= 0.5).astype(np.int)\n",
    "PhiCoeff_Standart = matthews_corrcoef(y_test_total, labels_Standart)\n",
    "Matrix_Standart = confusion_matrix(y_test_total, labels_Standart)\n",
    "F_Measure_Standart = f1_score(y_test_total, labels_Standart, average='binary')\n",
    "\n",
    "#Imprimo por pantalla las métricas\n",
    "auc_kerasTotal, PhiM_Standart,F_Measure_Standart, print(Matrix_Standart)\n"
   ]
  },
  {
   "cell_type": "code",
   "execution_count": null,
   "metadata": {},
   "outputs": [],
   "source": [
    "#Umbral OPT\n",
    "labels_OPT =(y_pred_keras_tot >= thresholds_kerasTotal[ix]).astype(np.int)\n",
    "PhiCoeff_OPT = matthews_corrcoef(y_test_total, labels_OPT)\n",
    "Matrix_OPT = confusion_matrix(y_test_total, labels_OPT)\n",
    "F_Measure_OPT = f1_score(y_test_total, labels_OPT, average='binary')\n",
    "Accuracy_OPT= accuracy_score(y_test_total, labels_OPT, normalize=True)\n",
    "Recall_OPT= recall_score(y_test_total, labels_OPT, average=None)\n",
    "Average_precision_OPT= average_precision_score(y_test_total, labels_OPT)\n",
    "\n",
    "\n",
    "#Imprimo por pantalla las métricas\n",
    "print(\"AUC:\", auc_kerasTotal)\n",
    "print(\"F_Measure:\", F_Measure_OPT)\n",
    "print(\"PhiCoeff:\", PhiCoeff_OPT)\n",
    "print(\"Average_precision:\", Average_precision_OPT)\n",
    "print(\"Accuracy:\", Accuracy_OPT)\n",
    "print(\"Recall:\", Recall_OPT)\n",
    "print(\"Matriz de confusión:\")\n",
    "print( Matrix_OPT)\n"
   ]
  },
  {
   "cell_type": "code",
   "execution_count": null,
   "metadata": {},
   "outputs": [],
   "source": [
    "#Ploteo la matrix de confusión\n",
    "\n",
    "df_cm_OPT = pd.DataFrame(Matrix_OPT, index = [i for i in \"01\"],\n",
    "                  columns = [i for i in \"01\"])\n",
    "plt.figure(0.5)\n",
    "heat_map = sn.heatmap(df_cm_OPT, xticklabels=True, yticklabels=True, annot=True, fmt='g', annot_kws = {\"ha\": 'center',\"va\": 'bottom'},cbar=False)\n",
    "#heat_map.set_yticklabels(heat_map.get_yticklabels(), rotation=0)\n",
    "plt.xlabel('Predicted')\n",
    "plt.ylabel('Actual')\n",
    "\n",
    "for text in heat_map.texts:\n",
    "    text.set_size(14)\n",
    "    text.set_weight('bold')\n",
    "    if text.get_text() == '33':\n",
    "        text.set_color('black')\n"
   ]
  },
  {
   "cell_type": "code",
   "execution_count": null,
   "metadata": {},
   "outputs": [],
   "source": [
    "plt.figure(1)\n",
    "plt.plot([0, 1], [0, 1], 'k--')\n",
    "plt.plot(fpr_kerasTotal, tpr_kerasTotal,  color='green', label='Tanh/Adadelta = {:.3f})'.format(auc_kerasTotal))\n",
    "plt.scatter(fpr_kerasTotal[ix], tpr_kerasTotal[ix], marker='o', color='black', label='Best')\n",
    "plt.xlabel('False positive rate')\n",
    "plt.ylabel('True positive rate')\n",
    "plt.title('ROC curve')\n",
    "plt.legend(loc='best')\n",
    "plt.show()"
   ]
  },
  {
   "cell_type": "code",
   "execution_count": null,
   "metadata": {},
   "outputs": [],
   "source": []
  },
  {
   "cell_type": "code",
   "execution_count": null,
   "metadata": {},
   "outputs": [],
   "source": []
  }
 ]
}