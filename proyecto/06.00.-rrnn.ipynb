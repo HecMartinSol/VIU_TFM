{
 "metadata": {
  "language_info": {
   "codemirror_mode": {
    "name": "ipython",
    "version": 3
   },
   "file_extension": ".py",
   "mimetype": "text/x-python",
   "name": "python",
   "nbconvert_exporter": "python",
   "pygments_lexer": "ipython3",
   "version": "3.7.4-final"
  },
  "orig_nbformat": 2,
  "kernelspec": {
   "name": "Python 3.7.4 64-bit ('base': conda)",
   "display_name": "Python 3.7.4 64-bit ('base': conda)",
   "metadata": {
    "interpreter": {
     "hash": "f958bdd04a238e53230fa8372db10ddee88fbe838d3660515cd74e50e6d77f98"
    }
   }
  }
 },
 "nbformat": 4,
 "nbformat_minor": 2,
 "cells": [
  {
   "cell_type": "code",
   "execution_count": 1,
   "metadata": {},
   "outputs": [
    {
     "output_type": "execute_result",
     "data": {
      "text/plain": [
       "'2.3.1'"
      ]
     },
     "metadata": {},
     "execution_count": 1
    }
   ],
   "source": [
    "import pandas as pd\n",
    "import numpy as np\n",
    "import matplotlib.pyplot as plt\n",
    "import seaborn as sn\n",
    "\n",
    "from sklearn.preprocessing import MinMaxScaler\n",
    "from sklearn.model_selection import train_test_split\n",
    "\n",
    "import tensorflow as tf\n",
    "tf.__version__"
   ]
  },
  {
   "cell_type": "code",
   "execution_count": 2,
   "metadata": {},
   "outputs": [],
   "source": [
    "np.random.seed(10)\n",
    "tf.compat.v1.set_random_seed(10)"
   ]
  },
  {
   "cell_type": "code",
   "execution_count": 3,
   "metadata": {},
   "outputs": [
    {
     "output_type": "execute_result",
     "data": {
      "text/plain": [
       "         kepid kepoi_name   kepler_name koi_disposition koi_pdisposition  \\\n",
       "0     10797460  K00752.01  Kepler-227 b       CONFIRMED        CANDIDATE   \n",
       "1     10797460  K00752.02  Kepler-227 c       CONFIRMED        CANDIDATE   \n",
       "2     10811496  K00753.01           NaN       CANDIDATE        CANDIDATE   \n",
       "3     10848459  K00754.01           NaN  FALSE POSITIVE   FALSE POSITIVE   \n",
       "4     10854555  K00755.01  Kepler-664 b       CONFIRMED        CANDIDATE   \n",
       "...        ...        ...           ...             ...              ...   \n",
       "9559  10090151  K07985.01           NaN  FALSE POSITIVE   FALSE POSITIVE   \n",
       "9560  10128825  K07986.01           NaN       CANDIDATE        CANDIDATE   \n",
       "9561  10147276  K07987.01           NaN  FALSE POSITIVE   FALSE POSITIVE   \n",
       "9562  10155286  K07988.01           NaN       CANDIDATE        CANDIDATE   \n",
       "9563  10156110  K07989.01           NaN  FALSE POSITIVE   FALSE POSITIVE   \n",
       "\n",
       "      koi_score  koi_fpflag_nt  koi_fpflag_ss  koi_fpflag_co  koi_fpflag_ec  \\\n",
       "0         1.000              0              0              0              0   \n",
       "1         0.969              0              0              0              0   \n",
       "2         0.000              0              0              0              0   \n",
       "3         0.000              0              1              0              0   \n",
       "4         1.000              0              0              0              0   \n",
       "...         ...            ...            ...            ...            ...   \n",
       "9559      0.000              0              1              1              0   \n",
       "9560      0.497              0              0              0              0   \n",
       "9561      0.021              0              0              1              0   \n",
       "9562      0.092              0              0              0              0   \n",
       "9563      0.000              0              0              1              1   \n",
       "\n",
       "      ...  koi_steff_err2  koi_slogg  koi_slogg_err1  koi_slogg_err2  \\\n",
       "0     ...           -81.0      4.467           0.064          -0.096   \n",
       "1     ...           -81.0      4.467           0.064          -0.096   \n",
       "2     ...          -176.0      4.544           0.044          -0.176   \n",
       "3     ...          -174.0      4.564           0.053          -0.168   \n",
       "4     ...          -211.0      4.438           0.070          -0.210   \n",
       "...   ...             ...        ...             ...             ...   \n",
       "9559  ...          -166.0      4.529           0.035          -0.196   \n",
       "9560  ...          -220.0      4.444           0.056          -0.224   \n",
       "9561  ...          -236.0      4.447           0.056          -0.224   \n",
       "9562  ...          -128.0      2.992           0.030          -0.027   \n",
       "9563  ...          -225.0      4.385           0.054          -0.216   \n",
       "\n",
       "      koi_srad  koi_srad_err1  koi_srad_err2         ra        dec  koi_kepmag  \n",
       "0        0.927          0.105         -0.061  291.93423  48.141651      15.347  \n",
       "1        0.927          0.105         -0.061  291.93423  48.141651      15.347  \n",
       "2        0.868          0.233         -0.078  297.00482  48.134129      15.436  \n",
       "3        0.791          0.201         -0.067  285.53461  48.285210      15.597  \n",
       "4        1.046          0.334         -0.133  288.75488  48.226200      15.509  \n",
       "...        ...            ...            ...        ...        ...         ...  \n",
       "9559     0.903          0.237         -0.079  297.18875  47.093819      14.082  \n",
       "9560     1.031          0.341         -0.114  286.50937  47.163219      14.757  \n",
       "9561     1.041          0.341         -0.114  294.16489  47.176281      15.385  \n",
       "9562     7.824          0.223         -1.896  296.76288  47.145142      10.998  \n",
       "9563     1.193          0.410         -0.137  297.00977  47.121021      14.826  \n",
       "\n",
       "[9564 rows x 49 columns]"
      ],
      "text/html": "<div>\n<style scoped>\n    .dataframe tbody tr th:only-of-type {\n        vertical-align: middle;\n    }\n\n    .dataframe tbody tr th {\n        vertical-align: top;\n    }\n\n    .dataframe thead th {\n        text-align: right;\n    }\n</style>\n<table border=\"1\" class=\"dataframe\">\n  <thead>\n    <tr style=\"text-align: right;\">\n      <th></th>\n      <th>kepid</th>\n      <th>kepoi_name</th>\n      <th>kepler_name</th>\n      <th>koi_disposition</th>\n      <th>koi_pdisposition</th>\n      <th>koi_score</th>\n      <th>koi_fpflag_nt</th>\n      <th>koi_fpflag_ss</th>\n      <th>koi_fpflag_co</th>\n      <th>koi_fpflag_ec</th>\n      <th>...</th>\n      <th>koi_steff_err2</th>\n      <th>koi_slogg</th>\n      <th>koi_slogg_err1</th>\n      <th>koi_slogg_err2</th>\n      <th>koi_srad</th>\n      <th>koi_srad_err1</th>\n      <th>koi_srad_err2</th>\n      <th>ra</th>\n      <th>dec</th>\n      <th>koi_kepmag</th>\n    </tr>\n  </thead>\n  <tbody>\n    <tr>\n      <td>0</td>\n      <td>10797460</td>\n      <td>K00752.01</td>\n      <td>Kepler-227 b</td>\n      <td>CONFIRMED</td>\n      <td>CANDIDATE</td>\n      <td>1.000</td>\n      <td>0</td>\n      <td>0</td>\n      <td>0</td>\n      <td>0</td>\n      <td>...</td>\n      <td>-81.0</td>\n      <td>4.467</td>\n      <td>0.064</td>\n      <td>-0.096</td>\n      <td>0.927</td>\n      <td>0.105</td>\n      <td>-0.061</td>\n      <td>291.93423</td>\n      <td>48.141651</td>\n      <td>15.347</td>\n    </tr>\n    <tr>\n      <td>1</td>\n      <td>10797460</td>\n      <td>K00752.02</td>\n      <td>Kepler-227 c</td>\n      <td>CONFIRMED</td>\n      <td>CANDIDATE</td>\n      <td>0.969</td>\n      <td>0</td>\n      <td>0</td>\n      <td>0</td>\n      <td>0</td>\n      <td>...</td>\n      <td>-81.0</td>\n      <td>4.467</td>\n      <td>0.064</td>\n      <td>-0.096</td>\n      <td>0.927</td>\n      <td>0.105</td>\n      <td>-0.061</td>\n      <td>291.93423</td>\n      <td>48.141651</td>\n      <td>15.347</td>\n    </tr>\n    <tr>\n      <td>2</td>\n      <td>10811496</td>\n      <td>K00753.01</td>\n      <td>NaN</td>\n      <td>CANDIDATE</td>\n      <td>CANDIDATE</td>\n      <td>0.000</td>\n      <td>0</td>\n      <td>0</td>\n      <td>0</td>\n      <td>0</td>\n      <td>...</td>\n      <td>-176.0</td>\n      <td>4.544</td>\n      <td>0.044</td>\n      <td>-0.176</td>\n      <td>0.868</td>\n      <td>0.233</td>\n      <td>-0.078</td>\n      <td>297.00482</td>\n      <td>48.134129</td>\n      <td>15.436</td>\n    </tr>\n    <tr>\n      <td>3</td>\n      <td>10848459</td>\n      <td>K00754.01</td>\n      <td>NaN</td>\n      <td>FALSE POSITIVE</td>\n      <td>FALSE POSITIVE</td>\n      <td>0.000</td>\n      <td>0</td>\n      <td>1</td>\n      <td>0</td>\n      <td>0</td>\n      <td>...</td>\n      <td>-174.0</td>\n      <td>4.564</td>\n      <td>0.053</td>\n      <td>-0.168</td>\n      <td>0.791</td>\n      <td>0.201</td>\n      <td>-0.067</td>\n      <td>285.53461</td>\n      <td>48.285210</td>\n      <td>15.597</td>\n    </tr>\n    <tr>\n      <td>4</td>\n      <td>10854555</td>\n      <td>K00755.01</td>\n      <td>Kepler-664 b</td>\n      <td>CONFIRMED</td>\n      <td>CANDIDATE</td>\n      <td>1.000</td>\n      <td>0</td>\n      <td>0</td>\n      <td>0</td>\n      <td>0</td>\n      <td>...</td>\n      <td>-211.0</td>\n      <td>4.438</td>\n      <td>0.070</td>\n      <td>-0.210</td>\n      <td>1.046</td>\n      <td>0.334</td>\n      <td>-0.133</td>\n      <td>288.75488</td>\n      <td>48.226200</td>\n      <td>15.509</td>\n    </tr>\n    <tr>\n      <td>...</td>\n      <td>...</td>\n      <td>...</td>\n      <td>...</td>\n      <td>...</td>\n      <td>...</td>\n      <td>...</td>\n      <td>...</td>\n      <td>...</td>\n      <td>...</td>\n      <td>...</td>\n      <td>...</td>\n      <td>...</td>\n      <td>...</td>\n      <td>...</td>\n      <td>...</td>\n      <td>...</td>\n      <td>...</td>\n      <td>...</td>\n      <td>...</td>\n      <td>...</td>\n      <td>...</td>\n    </tr>\n    <tr>\n      <td>9559</td>\n      <td>10090151</td>\n      <td>K07985.01</td>\n      <td>NaN</td>\n      <td>FALSE POSITIVE</td>\n      <td>FALSE POSITIVE</td>\n      <td>0.000</td>\n      <td>0</td>\n      <td>1</td>\n      <td>1</td>\n      <td>0</td>\n      <td>...</td>\n      <td>-166.0</td>\n      <td>4.529</td>\n      <td>0.035</td>\n      <td>-0.196</td>\n      <td>0.903</td>\n      <td>0.237</td>\n      <td>-0.079</td>\n      <td>297.18875</td>\n      <td>47.093819</td>\n      <td>14.082</td>\n    </tr>\n    <tr>\n      <td>9560</td>\n      <td>10128825</td>\n      <td>K07986.01</td>\n      <td>NaN</td>\n      <td>CANDIDATE</td>\n      <td>CANDIDATE</td>\n      <td>0.497</td>\n      <td>0</td>\n      <td>0</td>\n      <td>0</td>\n      <td>0</td>\n      <td>...</td>\n      <td>-220.0</td>\n      <td>4.444</td>\n      <td>0.056</td>\n      <td>-0.224</td>\n      <td>1.031</td>\n      <td>0.341</td>\n      <td>-0.114</td>\n      <td>286.50937</td>\n      <td>47.163219</td>\n      <td>14.757</td>\n    </tr>\n    <tr>\n      <td>9561</td>\n      <td>10147276</td>\n      <td>K07987.01</td>\n      <td>NaN</td>\n      <td>FALSE POSITIVE</td>\n      <td>FALSE POSITIVE</td>\n      <td>0.021</td>\n      <td>0</td>\n      <td>0</td>\n      <td>1</td>\n      <td>0</td>\n      <td>...</td>\n      <td>-236.0</td>\n      <td>4.447</td>\n      <td>0.056</td>\n      <td>-0.224</td>\n      <td>1.041</td>\n      <td>0.341</td>\n      <td>-0.114</td>\n      <td>294.16489</td>\n      <td>47.176281</td>\n      <td>15.385</td>\n    </tr>\n    <tr>\n      <td>9562</td>\n      <td>10155286</td>\n      <td>K07988.01</td>\n      <td>NaN</td>\n      <td>CANDIDATE</td>\n      <td>CANDIDATE</td>\n      <td>0.092</td>\n      <td>0</td>\n      <td>0</td>\n      <td>0</td>\n      <td>0</td>\n      <td>...</td>\n      <td>-128.0</td>\n      <td>2.992</td>\n      <td>0.030</td>\n      <td>-0.027</td>\n      <td>7.824</td>\n      <td>0.223</td>\n      <td>-1.896</td>\n      <td>296.76288</td>\n      <td>47.145142</td>\n      <td>10.998</td>\n    </tr>\n    <tr>\n      <td>9563</td>\n      <td>10156110</td>\n      <td>K07989.01</td>\n      <td>NaN</td>\n      <td>FALSE POSITIVE</td>\n      <td>FALSE POSITIVE</td>\n      <td>0.000</td>\n      <td>0</td>\n      <td>0</td>\n      <td>1</td>\n      <td>1</td>\n      <td>...</td>\n      <td>-225.0</td>\n      <td>4.385</td>\n      <td>0.054</td>\n      <td>-0.216</td>\n      <td>1.193</td>\n      <td>0.410</td>\n      <td>-0.137</td>\n      <td>297.00977</td>\n      <td>47.121021</td>\n      <td>14.826</td>\n    </tr>\n  </tbody>\n</table>\n<p>9564 rows × 49 columns</p>\n</div>"
     },
     "metadata": {},
     "execution_count": 3
    }
   ],
   "source": [
    "df_koi = pd.read_csv(\"./mast-info.csv\", skiprows=53)\n",
    "df_koi"
   ]
  },
  {
   "cell_type": "code",
   "execution_count": 4,
   "metadata": {},
   "outputs": [
    {
     "output_type": "display_data",
     "data": {
      "text/plain": "           kepid   kepler_name kepoi_name  koi_disposition  light_flux_0001  \\\n0     10797460.0  Kepler-227 b  K00752.01                1         1.727321   \n1     10811496.0           NaN  K00753.01                0         1.044298   \n2     10848459.0           NaN  K00754.01                0        -0.289601   \n3     10854555.0  Kepler-664 b  K00755.01                1        -0.066347   \n4     10872983.0  Kepler-228 d  K00756.01                1         0.910853   \n...          ...           ...        ...              ...              ...   \n6090  10031643.0           NaN  K07984.01                0         1.326015   \n6091  10090151.0           NaN  K07985.01                0        -0.818461   \n6092  10128825.0           NaN  K07986.01                0        -0.202417   \n6093  10147276.0           NaN  K07987.01                0         0.650887   \n6094  10156110.0           NaN  K07989.01                0         0.515398   \n\n      light_flux_0002  light_flux_0003  light_flux_0004  light_flux_0005  \\\n0            0.728728         1.125654         1.229677         1.327881   \n1            0.961948         1.000986         0.983043         0.983156   \n2           -0.370998        -0.441931        -0.410758        -0.379353   \n3           -0.019535         0.481834        -0.052898        -0.000501   \n4            0.953313         1.121489         0.641881         1.222616   \n...               ...              ...              ...              ...   \n6090        -0.237976         1.031217         1.533878         0.628377   \n6091        -0.582961        -0.804967        -0.881438        -0.608308   \n6092        -0.490636         0.925138         0.894101         1.454064   \n6093         0.889116         0.758458         0.425697         0.726841   \n6094         0.319045         0.771879         0.206895         0.714990   \n\n      light_flux_0006  ...  light_flux_0092  light_flux_0093  light_flux_0094  \\\n0            1.390140  ...         1.318587         1.390135         0.968716   \n1            1.037890  ...         1.023945         0.999707         0.986407   \n2           -0.507287  ...        -0.445697        -0.442599        -0.365730   \n3            0.402655  ...        -0.620233        -0.403630        -0.347501   \n4            0.878186  ...         1.040783         0.863073         1.246061   \n...               ...  ...              ...              ...              ...   \n6090         1.317783  ...         0.231072         0.877314         1.741571   \n6091        -0.630170  ...        -0.821112        -0.787683        -0.549940   \n6092        -0.070774  ...         1.194394        -0.265945        -0.643078   \n6093         1.090262  ...         0.987756         0.594261         0.684510   \n6094        -0.292212  ...         1.058577         0.141102        -0.132169   \n\n      light_flux_0095  light_flux_0096  light_flux_0097  light_flux_0098  \\\n0            1.285568         1.216662         0.874477         1.627442   \n1            0.980490         1.018677         0.976698         0.933617   \n2           -0.381951        -0.287742        -0.285504        -0.269432   \n3           -0.388085        -0.302855        -0.130258        -0.042718   \n4            0.969055         1.318099         1.276269         1.092889   \n...               ...              ...              ...              ...   \n6090         1.331278         1.134218         1.485683         0.323981   \n6091        -0.806678        -0.688768        -0.796852        -0.617750   \n6092         0.907540         1.074063         1.982618         0.704504   \n6093         1.125490         0.726558         0.479359        -0.267394   \n6094         0.499010         0.158405         0.809767        -1.000000   \n\n      light_flux_0099  light_flux_0100  light_flux_0101  \n0            0.960296         0.998560         1.489279  \n1            1.067080         1.002989         1.012337  \n2           -0.261419        -0.224786        -0.308863  \n3            0.674248        -0.583962         0.165856  \n4            0.842558         1.081244         0.972349  \n...               ...              ...              ...  \n6090        -0.605954         0.691033         1.012538  \n6091        -0.695399        -0.710079        -0.551582  \n6092         1.937049         0.038070         1.604524  \n6093         0.273248         1.216787         0.561130  \n6094         0.114040         0.090883         0.261374  \n\n[6095 rows x 105 columns]",
      "text/html": "<div>\n<style scoped>\n    .dataframe tbody tr th:only-of-type {\n        vertical-align: middle;\n    }\n\n    .dataframe tbody tr th {\n        vertical-align: top;\n    }\n\n    .dataframe thead th {\n        text-align: right;\n    }\n</style>\n<table border=\"1\" class=\"dataframe\">\n  <thead>\n    <tr style=\"text-align: right;\">\n      <th></th>\n      <th>kepid</th>\n      <th>kepler_name</th>\n      <th>kepoi_name</th>\n      <th>koi_disposition</th>\n      <th>light_flux_0001</th>\n      <th>light_flux_0002</th>\n      <th>light_flux_0003</th>\n      <th>light_flux_0004</th>\n      <th>light_flux_0005</th>\n      <th>light_flux_0006</th>\n      <th>...</th>\n      <th>light_flux_0092</th>\n      <th>light_flux_0093</th>\n      <th>light_flux_0094</th>\n      <th>light_flux_0095</th>\n      <th>light_flux_0096</th>\n      <th>light_flux_0097</th>\n      <th>light_flux_0098</th>\n      <th>light_flux_0099</th>\n      <th>light_flux_0100</th>\n      <th>light_flux_0101</th>\n    </tr>\n  </thead>\n  <tbody>\n    <tr>\n      <td>0</td>\n      <td>10797460.0</td>\n      <td>Kepler-227 b</td>\n      <td>K00752.01</td>\n      <td>1</td>\n      <td>1.727321</td>\n      <td>0.728728</td>\n      <td>1.125654</td>\n      <td>1.229677</td>\n      <td>1.327881</td>\n      <td>1.390140</td>\n      <td>...</td>\n      <td>1.318587</td>\n      <td>1.390135</td>\n      <td>0.968716</td>\n      <td>1.285568</td>\n      <td>1.216662</td>\n      <td>0.874477</td>\n      <td>1.627442</td>\n      <td>0.960296</td>\n      <td>0.998560</td>\n      <td>1.489279</td>\n    </tr>\n    <tr>\n      <td>1</td>\n      <td>10811496.0</td>\n      <td>NaN</td>\n      <td>K00753.01</td>\n      <td>0</td>\n      <td>1.044298</td>\n      <td>0.961948</td>\n      <td>1.000986</td>\n      <td>0.983043</td>\n      <td>0.983156</td>\n      <td>1.037890</td>\n      <td>...</td>\n      <td>1.023945</td>\n      <td>0.999707</td>\n      <td>0.986407</td>\n      <td>0.980490</td>\n      <td>1.018677</td>\n      <td>0.976698</td>\n      <td>0.933617</td>\n      <td>1.067080</td>\n      <td>1.002989</td>\n      <td>1.012337</td>\n    </tr>\n    <tr>\n      <td>2</td>\n      <td>10848459.0</td>\n      <td>NaN</td>\n      <td>K00754.01</td>\n      <td>0</td>\n      <td>-0.289601</td>\n      <td>-0.370998</td>\n      <td>-0.441931</td>\n      <td>-0.410758</td>\n      <td>-0.379353</td>\n      <td>-0.507287</td>\n      <td>...</td>\n      <td>-0.445697</td>\n      <td>-0.442599</td>\n      <td>-0.365730</td>\n      <td>-0.381951</td>\n      <td>-0.287742</td>\n      <td>-0.285504</td>\n      <td>-0.269432</td>\n      <td>-0.261419</td>\n      <td>-0.224786</td>\n      <td>-0.308863</td>\n    </tr>\n    <tr>\n      <td>3</td>\n      <td>10854555.0</td>\n      <td>Kepler-664 b</td>\n      <td>K00755.01</td>\n      <td>1</td>\n      <td>-0.066347</td>\n      <td>-0.019535</td>\n      <td>0.481834</td>\n      <td>-0.052898</td>\n      <td>-0.000501</td>\n      <td>0.402655</td>\n      <td>...</td>\n      <td>-0.620233</td>\n      <td>-0.403630</td>\n      <td>-0.347501</td>\n      <td>-0.388085</td>\n      <td>-0.302855</td>\n      <td>-0.130258</td>\n      <td>-0.042718</td>\n      <td>0.674248</td>\n      <td>-0.583962</td>\n      <td>0.165856</td>\n    </tr>\n    <tr>\n      <td>4</td>\n      <td>10872983.0</td>\n      <td>Kepler-228 d</td>\n      <td>K00756.01</td>\n      <td>1</td>\n      <td>0.910853</td>\n      <td>0.953313</td>\n      <td>1.121489</td>\n      <td>0.641881</td>\n      <td>1.222616</td>\n      <td>0.878186</td>\n      <td>...</td>\n      <td>1.040783</td>\n      <td>0.863073</td>\n      <td>1.246061</td>\n      <td>0.969055</td>\n      <td>1.318099</td>\n      <td>1.276269</td>\n      <td>1.092889</td>\n      <td>0.842558</td>\n      <td>1.081244</td>\n      <td>0.972349</td>\n    </tr>\n    <tr>\n      <td>...</td>\n      <td>...</td>\n      <td>...</td>\n      <td>...</td>\n      <td>...</td>\n      <td>...</td>\n      <td>...</td>\n      <td>...</td>\n      <td>...</td>\n      <td>...</td>\n      <td>...</td>\n      <td>...</td>\n      <td>...</td>\n      <td>...</td>\n      <td>...</td>\n      <td>...</td>\n      <td>...</td>\n      <td>...</td>\n      <td>...</td>\n      <td>...</td>\n      <td>...</td>\n      <td>...</td>\n    </tr>\n    <tr>\n      <td>6090</td>\n      <td>10031643.0</td>\n      <td>NaN</td>\n      <td>K07984.01</td>\n      <td>0</td>\n      <td>1.326015</td>\n      <td>-0.237976</td>\n      <td>1.031217</td>\n      <td>1.533878</td>\n      <td>0.628377</td>\n      <td>1.317783</td>\n      <td>...</td>\n      <td>0.231072</td>\n      <td>0.877314</td>\n      <td>1.741571</td>\n      <td>1.331278</td>\n      <td>1.134218</td>\n      <td>1.485683</td>\n      <td>0.323981</td>\n      <td>-0.605954</td>\n      <td>0.691033</td>\n      <td>1.012538</td>\n    </tr>\n    <tr>\n      <td>6091</td>\n      <td>10090151.0</td>\n      <td>NaN</td>\n      <td>K07985.01</td>\n      <td>0</td>\n      <td>-0.818461</td>\n      <td>-0.582961</td>\n      <td>-0.804967</td>\n      <td>-0.881438</td>\n      <td>-0.608308</td>\n      <td>-0.630170</td>\n      <td>...</td>\n      <td>-0.821112</td>\n      <td>-0.787683</td>\n      <td>-0.549940</td>\n      <td>-0.806678</td>\n      <td>-0.688768</td>\n      <td>-0.796852</td>\n      <td>-0.617750</td>\n      <td>-0.695399</td>\n      <td>-0.710079</td>\n      <td>-0.551582</td>\n    </tr>\n    <tr>\n      <td>6092</td>\n      <td>10128825.0</td>\n      <td>NaN</td>\n      <td>K07986.01</td>\n      <td>0</td>\n      <td>-0.202417</td>\n      <td>-0.490636</td>\n      <td>0.925138</td>\n      <td>0.894101</td>\n      <td>1.454064</td>\n      <td>-0.070774</td>\n      <td>...</td>\n      <td>1.194394</td>\n      <td>-0.265945</td>\n      <td>-0.643078</td>\n      <td>0.907540</td>\n      <td>1.074063</td>\n      <td>1.982618</td>\n      <td>0.704504</td>\n      <td>1.937049</td>\n      <td>0.038070</td>\n      <td>1.604524</td>\n    </tr>\n    <tr>\n      <td>6093</td>\n      <td>10147276.0</td>\n      <td>NaN</td>\n      <td>K07987.01</td>\n      <td>0</td>\n      <td>0.650887</td>\n      <td>0.889116</td>\n      <td>0.758458</td>\n      <td>0.425697</td>\n      <td>0.726841</td>\n      <td>1.090262</td>\n      <td>...</td>\n      <td>0.987756</td>\n      <td>0.594261</td>\n      <td>0.684510</td>\n      <td>1.125490</td>\n      <td>0.726558</td>\n      <td>0.479359</td>\n      <td>-0.267394</td>\n      <td>0.273248</td>\n      <td>1.216787</td>\n      <td>0.561130</td>\n    </tr>\n    <tr>\n      <td>6094</td>\n      <td>10156110.0</td>\n      <td>NaN</td>\n      <td>K07989.01</td>\n      <td>0</td>\n      <td>0.515398</td>\n      <td>0.319045</td>\n      <td>0.771879</td>\n      <td>0.206895</td>\n      <td>0.714990</td>\n      <td>-0.292212</td>\n      <td>...</td>\n      <td>1.058577</td>\n      <td>0.141102</td>\n      <td>-0.132169</td>\n      <td>0.499010</td>\n      <td>0.158405</td>\n      <td>0.809767</td>\n      <td>-1.000000</td>\n      <td>0.114040</td>\n      <td>0.090883</td>\n      <td>0.261374</td>\n    </tr>\n  </tbody>\n</table>\n<p>6095 rows × 105 columns</p>\n</div>"
     },
     "metadata": {}
    },
    {
     "output_type": "display_data",
     "data": {
      "text/plain": "           kepid   kepler_name kepoi_name  koi_disposition  light_flux_0001  \\\n0     10797460.0  Kepler-227 b  K00752.01                1         0.832189   \n1     10811496.0           NaN  K00753.01                0         0.966682   \n2     10848459.0           NaN  K00754.01                0         1.034104   \n3     10854555.0  Kepler-664 b  K00755.01                1         0.975071   \n4     10872983.0  Kepler-228 d  K00756.01                1         1.394998   \n...          ...           ...        ...              ...              ...   \n6090  10031643.0           NaN  K07984.01                0         0.175475   \n6091  10090151.0           NaN  K07985.01                0         0.747230   \n6092  10128825.0           NaN  K07986.01                0         0.714833   \n6093  10147276.0           NaN  K07987.01                0         1.486451   \n6094  10156110.0           NaN  K07989.01                0         1.192833   \n\n      light_flux_0002  light_flux_0003  light_flux_0004  light_flux_0005  \\\n0            0.435614         1.357075         1.108348         1.650665   \n1            0.964235         0.970539         0.937743         0.975104   \n2            0.982172         1.048199         1.078219         0.983764   \n3            1.225692         1.269809         1.771289         1.312162   \n4            1.185855         0.932441         1.230771         0.940595   \n...               ...              ...              ...              ...   \n6090         1.504283         1.318089         0.769620         0.666730   \n6091         0.915918         1.031489         0.989710         1.021699   \n6092         1.610737         0.196081         0.533665         1.053996   \n6093         1.733356         0.993478         0.776943         0.226574   \n6094         0.766126         0.736406         1.477793         0.012149   \n\n      light_flux_0006  ...  light_flux_0992  light_flux_0993  light_flux_0994  \\\n0            1.129287  ...         0.713763         1.274681         1.154911   \n1            1.039065  ...         0.943850         0.965717         0.990491   \n2            0.992431  ...         0.946015         1.010975         1.011789   \n3            1.097620  ...         1.335065         1.179038         1.002768   \n4            0.909058  ...         0.864800         0.850251         1.086740   \n...               ...  ...              ...              ...              ...   \n6090         1.008246  ...         1.378201         1.927068         1.984925   \n6091         0.867820  ...         0.755320         0.876177         0.913214   \n6092         0.873009  ...         1.082519         1.101279         1.060959   \n6093         0.407813  ...         0.898611         1.483079         1.160034   \n6094         0.776158  ...         1.085282        -0.125610         0.029371   \n\n      light_flux_0995  light_flux_0996  light_flux_0997  light_flux_0998  \\\n0            2.088258         1.059249         0.848340         1.142176   \n1            0.982717         0.985906         0.961670         1.043547   \n2            1.055202         1.038121         1.044473         1.071489   \n3            1.017255         0.823422         0.561212         1.035374   \n4            1.073562         0.930443         0.857681         1.232381   \n...               ...              ...              ...              ...   \n6090         1.130322         1.202864         0.781321         0.045358   \n6091         0.960485         1.017231         0.789195         0.809078   \n6092         1.446257         1.603752         0.875442         1.295145   \n6093         0.921238         1.509204        -0.560163         0.666612   \n6094         0.938950         0.910189         0.840100         1.161185   \n\n      light_flux_0999  light_flux_1000  light_flux_1001  \n0            0.961584         0.966640         1.044353  \n1            0.983126         1.040699         1.040926  \n2            1.053268         1.033189         1.005258  \n3            0.835232         1.615619         1.464552  \n4            1.297968         1.208948         1.079670  \n...               ...              ...              ...  \n6090         0.647927         1.207362         1.101768  \n6091         0.774575         0.872496         0.802597  \n6092         1.852598         0.230911         0.803615  \n6093         1.113881         2.175872         2.393636  \n6094         0.785235         1.680639         0.862709  \n\n[6095 rows x 1005 columns]",
      "text/html": "<div>\n<style scoped>\n    .dataframe tbody tr th:only-of-type {\n        vertical-align: middle;\n    }\n\n    .dataframe tbody tr th {\n        vertical-align: top;\n    }\n\n    .dataframe thead th {\n        text-align: right;\n    }\n</style>\n<table border=\"1\" class=\"dataframe\">\n  <thead>\n    <tr style=\"text-align: right;\">\n      <th></th>\n      <th>kepid</th>\n      <th>kepler_name</th>\n      <th>kepoi_name</th>\n      <th>koi_disposition</th>\n      <th>light_flux_0001</th>\n      <th>light_flux_0002</th>\n      <th>light_flux_0003</th>\n      <th>light_flux_0004</th>\n      <th>light_flux_0005</th>\n      <th>light_flux_0006</th>\n      <th>...</th>\n      <th>light_flux_0992</th>\n      <th>light_flux_0993</th>\n      <th>light_flux_0994</th>\n      <th>light_flux_0995</th>\n      <th>light_flux_0996</th>\n      <th>light_flux_0997</th>\n      <th>light_flux_0998</th>\n      <th>light_flux_0999</th>\n      <th>light_flux_1000</th>\n      <th>light_flux_1001</th>\n    </tr>\n  </thead>\n  <tbody>\n    <tr>\n      <td>0</td>\n      <td>10797460.0</td>\n      <td>Kepler-227 b</td>\n      <td>K00752.01</td>\n      <td>1</td>\n      <td>0.832189</td>\n      <td>0.435614</td>\n      <td>1.357075</td>\n      <td>1.108348</td>\n      <td>1.650665</td>\n      <td>1.129287</td>\n      <td>...</td>\n      <td>0.713763</td>\n      <td>1.274681</td>\n      <td>1.154911</td>\n      <td>2.088258</td>\n      <td>1.059249</td>\n      <td>0.848340</td>\n      <td>1.142176</td>\n      <td>0.961584</td>\n      <td>0.966640</td>\n      <td>1.044353</td>\n    </tr>\n    <tr>\n      <td>1</td>\n      <td>10811496.0</td>\n      <td>NaN</td>\n      <td>K00753.01</td>\n      <td>0</td>\n      <td>0.966682</td>\n      <td>0.964235</td>\n      <td>0.970539</td>\n      <td>0.937743</td>\n      <td>0.975104</td>\n      <td>1.039065</td>\n      <td>...</td>\n      <td>0.943850</td>\n      <td>0.965717</td>\n      <td>0.990491</td>\n      <td>0.982717</td>\n      <td>0.985906</td>\n      <td>0.961670</td>\n      <td>1.043547</td>\n      <td>0.983126</td>\n      <td>1.040699</td>\n      <td>1.040926</td>\n    </tr>\n    <tr>\n      <td>2</td>\n      <td>10848459.0</td>\n      <td>NaN</td>\n      <td>K00754.01</td>\n      <td>0</td>\n      <td>1.034104</td>\n      <td>0.982172</td>\n      <td>1.048199</td>\n      <td>1.078219</td>\n      <td>0.983764</td>\n      <td>0.992431</td>\n      <td>...</td>\n      <td>0.946015</td>\n      <td>1.010975</td>\n      <td>1.011789</td>\n      <td>1.055202</td>\n      <td>1.038121</td>\n      <td>1.044473</td>\n      <td>1.071489</td>\n      <td>1.053268</td>\n      <td>1.033189</td>\n      <td>1.005258</td>\n    </tr>\n    <tr>\n      <td>3</td>\n      <td>10854555.0</td>\n      <td>Kepler-664 b</td>\n      <td>K00755.01</td>\n      <td>1</td>\n      <td>0.975071</td>\n      <td>1.225692</td>\n      <td>1.269809</td>\n      <td>1.771289</td>\n      <td>1.312162</td>\n      <td>1.097620</td>\n      <td>...</td>\n      <td>1.335065</td>\n      <td>1.179038</td>\n      <td>1.002768</td>\n      <td>1.017255</td>\n      <td>0.823422</td>\n      <td>0.561212</td>\n      <td>1.035374</td>\n      <td>0.835232</td>\n      <td>1.615619</td>\n      <td>1.464552</td>\n    </tr>\n    <tr>\n      <td>4</td>\n      <td>10872983.0</td>\n      <td>Kepler-228 d</td>\n      <td>K00756.01</td>\n      <td>1</td>\n      <td>1.394998</td>\n      <td>1.185855</td>\n      <td>0.932441</td>\n      <td>1.230771</td>\n      <td>0.940595</td>\n      <td>0.909058</td>\n      <td>...</td>\n      <td>0.864800</td>\n      <td>0.850251</td>\n      <td>1.086740</td>\n      <td>1.073562</td>\n      <td>0.930443</td>\n      <td>0.857681</td>\n      <td>1.232381</td>\n      <td>1.297968</td>\n      <td>1.208948</td>\n      <td>1.079670</td>\n    </tr>\n    <tr>\n      <td>...</td>\n      <td>...</td>\n      <td>...</td>\n      <td>...</td>\n      <td>...</td>\n      <td>...</td>\n      <td>...</td>\n      <td>...</td>\n      <td>...</td>\n      <td>...</td>\n      <td>...</td>\n      <td>...</td>\n      <td>...</td>\n      <td>...</td>\n      <td>...</td>\n      <td>...</td>\n      <td>...</td>\n      <td>...</td>\n      <td>...</td>\n      <td>...</td>\n      <td>...</td>\n      <td>...</td>\n    </tr>\n    <tr>\n      <td>6090</td>\n      <td>10031643.0</td>\n      <td>NaN</td>\n      <td>K07984.01</td>\n      <td>0</td>\n      <td>0.175475</td>\n      <td>1.504283</td>\n      <td>1.318089</td>\n      <td>0.769620</td>\n      <td>0.666730</td>\n      <td>1.008246</td>\n      <td>...</td>\n      <td>1.378201</td>\n      <td>1.927068</td>\n      <td>1.984925</td>\n      <td>1.130322</td>\n      <td>1.202864</td>\n      <td>0.781321</td>\n      <td>0.045358</td>\n      <td>0.647927</td>\n      <td>1.207362</td>\n      <td>1.101768</td>\n    </tr>\n    <tr>\n      <td>6091</td>\n      <td>10090151.0</td>\n      <td>NaN</td>\n      <td>K07985.01</td>\n      <td>0</td>\n      <td>0.747230</td>\n      <td>0.915918</td>\n      <td>1.031489</td>\n      <td>0.989710</td>\n      <td>1.021699</td>\n      <td>0.867820</td>\n      <td>...</td>\n      <td>0.755320</td>\n      <td>0.876177</td>\n      <td>0.913214</td>\n      <td>0.960485</td>\n      <td>1.017231</td>\n      <td>0.789195</td>\n      <td>0.809078</td>\n      <td>0.774575</td>\n      <td>0.872496</td>\n      <td>0.802597</td>\n    </tr>\n    <tr>\n      <td>6092</td>\n      <td>10128825.0</td>\n      <td>NaN</td>\n      <td>K07986.01</td>\n      <td>0</td>\n      <td>0.714833</td>\n      <td>1.610737</td>\n      <td>0.196081</td>\n      <td>0.533665</td>\n      <td>1.053996</td>\n      <td>0.873009</td>\n      <td>...</td>\n      <td>1.082519</td>\n      <td>1.101279</td>\n      <td>1.060959</td>\n      <td>1.446257</td>\n      <td>1.603752</td>\n      <td>0.875442</td>\n      <td>1.295145</td>\n      <td>1.852598</td>\n      <td>0.230911</td>\n      <td>0.803615</td>\n    </tr>\n    <tr>\n      <td>6093</td>\n      <td>10147276.0</td>\n      <td>NaN</td>\n      <td>K07987.01</td>\n      <td>0</td>\n      <td>1.486451</td>\n      <td>1.733356</td>\n      <td>0.993478</td>\n      <td>0.776943</td>\n      <td>0.226574</td>\n      <td>0.407813</td>\n      <td>...</td>\n      <td>0.898611</td>\n      <td>1.483079</td>\n      <td>1.160034</td>\n      <td>0.921238</td>\n      <td>1.509204</td>\n      <td>-0.560163</td>\n      <td>0.666612</td>\n      <td>1.113881</td>\n      <td>2.175872</td>\n      <td>2.393636</td>\n    </tr>\n    <tr>\n      <td>6094</td>\n      <td>10156110.0</td>\n      <td>NaN</td>\n      <td>K07989.01</td>\n      <td>0</td>\n      <td>1.192833</td>\n      <td>0.766126</td>\n      <td>0.736406</td>\n      <td>1.477793</td>\n      <td>0.012149</td>\n      <td>0.776158</td>\n      <td>...</td>\n      <td>1.085282</td>\n      <td>-0.125610</td>\n      <td>0.029371</td>\n      <td>0.938950</td>\n      <td>0.910189</td>\n      <td>0.840100</td>\n      <td>1.161185</td>\n      <td>0.785235</td>\n      <td>1.680639</td>\n      <td>0.862709</td>\n    </tr>\n  </tbody>\n</table>\n<p>6095 rows × 1005 columns</p>\n</div>"
     },
     "metadata": {}
    },
    {
     "output_type": "display_data",
     "data": {
      "text/plain": "         kepid  koi_disposition  koi_period  koi_time0bk  koi_impact  \\\n0     10797460                1    9.488036   170.538750       0.146   \n1     10811496                0   19.899140   175.850252       0.969   \n2     10848459                0    1.736952   170.307565       1.276   \n3     10854555                1    2.525592   171.595550       0.701   \n4     10872983                1   11.094321   171.201160       0.538   \n...        ...              ...         ...          ...         ...   \n6090  10031643                0    8.589871   132.016100       0.765   \n6091  10090151                0    0.527699   131.705093       1.252   \n6092  10128825                0    1.739849   133.001270       0.043   \n6093  10147276                0    0.681402   132.181750       0.147   \n6094  10156110                0    4.856035   135.993300       0.134   \n\n      koi_duration  koi_depth  koi_prad  koi_teq  koi_insol  koi_model_snr  \\\n0          2.95750      615.8      2.26    793.0      93.59           35.8   \n1          1.78220    10829.0     14.60    638.0      39.30           76.3   \n2          2.40641     8079.2     33.46   1395.0     891.96          505.6   \n3          1.65450      603.3      2.75   1406.0     926.16           40.9   \n4          4.59450     1517.5      3.90    835.0     114.81           66.5   \n...            ...        ...       ...      ...        ...            ...   \n6090       4.80600       87.7      1.11    929.0     176.40            8.4   \n6091       3.22210     1579.2     29.35   2088.0    4500.53          453.3   \n6092       3.11400       48.5      0.72   1608.0    1585.81           10.6   \n6093       0.86500      103.6      1.07   2218.0    5713.41           12.3   \n6094       3.07800       76.7      1.05   1266.0     607.42            8.2   \n\n      koi_steff  koi_slogg  koi_srad         ra        dec  koi_kepmag  \n0        5455.0      4.467     0.927  291.93423  48.141651      15.347  \n1        5853.0      4.544     0.868  297.00482  48.134129      15.436  \n2        5805.0      4.564     0.791  285.53461  48.285210      15.597  \n3        6031.0      4.438     1.046  288.75488  48.226200      15.509  \n4        6046.0      4.486     0.972  296.28613  48.224670      15.714  \n...         ...        ...       ...        ...        ...         ...  \n6090     5638.0      4.296     1.088  298.74921  46.973351      14.478  \n6091     5638.0      4.529     0.903  297.18875  47.093819      14.082  \n6092     6119.0      4.444     1.031  286.50937  47.163219      14.757  \n6093     6173.0      4.447     1.041  294.16489  47.176281      15.385  \n6094     6469.0      4.385     1.193  297.00977  47.121021      14.826  \n\n[6095 rows x 17 columns]",
      "text/html": "<div>\n<style scoped>\n    .dataframe tbody tr th:only-of-type {\n        vertical-align: middle;\n    }\n\n    .dataframe tbody tr th {\n        vertical-align: top;\n    }\n\n    .dataframe thead th {\n        text-align: right;\n    }\n</style>\n<table border=\"1\" class=\"dataframe\">\n  <thead>\n    <tr style=\"text-align: right;\">\n      <th></th>\n      <th>kepid</th>\n      <th>koi_disposition</th>\n      <th>koi_period</th>\n      <th>koi_time0bk</th>\n      <th>koi_impact</th>\n      <th>koi_duration</th>\n      <th>koi_depth</th>\n      <th>koi_prad</th>\n      <th>koi_teq</th>\n      <th>koi_insol</th>\n      <th>koi_model_snr</th>\n      <th>koi_steff</th>\n      <th>koi_slogg</th>\n      <th>koi_srad</th>\n      <th>ra</th>\n      <th>dec</th>\n      <th>koi_kepmag</th>\n    </tr>\n  </thead>\n  <tbody>\n    <tr>\n      <td>0</td>\n      <td>10797460</td>\n      <td>1</td>\n      <td>9.488036</td>\n      <td>170.538750</td>\n      <td>0.146</td>\n      <td>2.95750</td>\n      <td>615.8</td>\n      <td>2.26</td>\n      <td>793.0</td>\n      <td>93.59</td>\n      <td>35.8</td>\n      <td>5455.0</td>\n      <td>4.467</td>\n      <td>0.927</td>\n      <td>291.93423</td>\n      <td>48.141651</td>\n      <td>15.347</td>\n    </tr>\n    <tr>\n      <td>1</td>\n      <td>10811496</td>\n      <td>0</td>\n      <td>19.899140</td>\n      <td>175.850252</td>\n      <td>0.969</td>\n      <td>1.78220</td>\n      <td>10829.0</td>\n      <td>14.60</td>\n      <td>638.0</td>\n      <td>39.30</td>\n      <td>76.3</td>\n      <td>5853.0</td>\n      <td>4.544</td>\n      <td>0.868</td>\n      <td>297.00482</td>\n      <td>48.134129</td>\n      <td>15.436</td>\n    </tr>\n    <tr>\n      <td>2</td>\n      <td>10848459</td>\n      <td>0</td>\n      <td>1.736952</td>\n      <td>170.307565</td>\n      <td>1.276</td>\n      <td>2.40641</td>\n      <td>8079.2</td>\n      <td>33.46</td>\n      <td>1395.0</td>\n      <td>891.96</td>\n      <td>505.6</td>\n      <td>5805.0</td>\n      <td>4.564</td>\n      <td>0.791</td>\n      <td>285.53461</td>\n      <td>48.285210</td>\n      <td>15.597</td>\n    </tr>\n    <tr>\n      <td>3</td>\n      <td>10854555</td>\n      <td>1</td>\n      <td>2.525592</td>\n      <td>171.595550</td>\n      <td>0.701</td>\n      <td>1.65450</td>\n      <td>603.3</td>\n      <td>2.75</td>\n      <td>1406.0</td>\n      <td>926.16</td>\n      <td>40.9</td>\n      <td>6031.0</td>\n      <td>4.438</td>\n      <td>1.046</td>\n      <td>288.75488</td>\n      <td>48.226200</td>\n      <td>15.509</td>\n    </tr>\n    <tr>\n      <td>4</td>\n      <td>10872983</td>\n      <td>1</td>\n      <td>11.094321</td>\n      <td>171.201160</td>\n      <td>0.538</td>\n      <td>4.59450</td>\n      <td>1517.5</td>\n      <td>3.90</td>\n      <td>835.0</td>\n      <td>114.81</td>\n      <td>66.5</td>\n      <td>6046.0</td>\n      <td>4.486</td>\n      <td>0.972</td>\n      <td>296.28613</td>\n      <td>48.224670</td>\n      <td>15.714</td>\n    </tr>\n    <tr>\n      <td>...</td>\n      <td>...</td>\n      <td>...</td>\n      <td>...</td>\n      <td>...</td>\n      <td>...</td>\n      <td>...</td>\n      <td>...</td>\n      <td>...</td>\n      <td>...</td>\n      <td>...</td>\n      <td>...</td>\n      <td>...</td>\n      <td>...</td>\n      <td>...</td>\n      <td>...</td>\n      <td>...</td>\n      <td>...</td>\n    </tr>\n    <tr>\n      <td>6090</td>\n      <td>10031643</td>\n      <td>0</td>\n      <td>8.589871</td>\n      <td>132.016100</td>\n      <td>0.765</td>\n      <td>4.80600</td>\n      <td>87.7</td>\n      <td>1.11</td>\n      <td>929.0</td>\n      <td>176.40</td>\n      <td>8.4</td>\n      <td>5638.0</td>\n      <td>4.296</td>\n      <td>1.088</td>\n      <td>298.74921</td>\n      <td>46.973351</td>\n      <td>14.478</td>\n    </tr>\n    <tr>\n      <td>6091</td>\n      <td>10090151</td>\n      <td>0</td>\n      <td>0.527699</td>\n      <td>131.705093</td>\n      <td>1.252</td>\n      <td>3.22210</td>\n      <td>1579.2</td>\n      <td>29.35</td>\n      <td>2088.0</td>\n      <td>4500.53</td>\n      <td>453.3</td>\n      <td>5638.0</td>\n      <td>4.529</td>\n      <td>0.903</td>\n      <td>297.18875</td>\n      <td>47.093819</td>\n      <td>14.082</td>\n    </tr>\n    <tr>\n      <td>6092</td>\n      <td>10128825</td>\n      <td>0</td>\n      <td>1.739849</td>\n      <td>133.001270</td>\n      <td>0.043</td>\n      <td>3.11400</td>\n      <td>48.5</td>\n      <td>0.72</td>\n      <td>1608.0</td>\n      <td>1585.81</td>\n      <td>10.6</td>\n      <td>6119.0</td>\n      <td>4.444</td>\n      <td>1.031</td>\n      <td>286.50937</td>\n      <td>47.163219</td>\n      <td>14.757</td>\n    </tr>\n    <tr>\n      <td>6093</td>\n      <td>10147276</td>\n      <td>0</td>\n      <td>0.681402</td>\n      <td>132.181750</td>\n      <td>0.147</td>\n      <td>0.86500</td>\n      <td>103.6</td>\n      <td>1.07</td>\n      <td>2218.0</td>\n      <td>5713.41</td>\n      <td>12.3</td>\n      <td>6173.0</td>\n      <td>4.447</td>\n      <td>1.041</td>\n      <td>294.16489</td>\n      <td>47.176281</td>\n      <td>15.385</td>\n    </tr>\n    <tr>\n      <td>6094</td>\n      <td>10156110</td>\n      <td>0</td>\n      <td>4.856035</td>\n      <td>135.993300</td>\n      <td>0.134</td>\n      <td>3.07800</td>\n      <td>76.7</td>\n      <td>1.05</td>\n      <td>1266.0</td>\n      <td>607.42</td>\n      <td>8.2</td>\n      <td>6469.0</td>\n      <td>4.385</td>\n      <td>1.193</td>\n      <td>297.00977</td>\n      <td>47.121021</td>\n      <td>14.826</td>\n    </tr>\n  </tbody>\n</table>\n<p>6095 rows × 17 columns</p>\n</div>"
     },
     "metadata": {}
    }
   ],
   "source": [
    "# Cargo los csv\n",
    "df_local = pd.read_csv(\"./unified-lightcurves-local.csv\").iloc[:, 1:]\n",
    "df_global = pd.read_csv(\"./unified-lightcurves-global.csv\").iloc[:, 1:]\n",
    "df_stellar = pd.read_csv(\"./unified-stellar-params.csv\").iloc[:, 1:]\n",
    "\n",
    "display(df_local)\n",
    "display(df_global)\n",
    "display(df_stellar)"
   ]
  },
  {
   "cell_type": "code",
   "execution_count": 5,
   "metadata": {},
   "outputs": [],
   "source": [
    "local_fluxes = df_local.iloc[:,4:]\n",
    "local_labels = df_local.iloc[:,3]\n",
    "\n",
    "global_fluxes = df_global.iloc[:,4:]\n",
    "global_labels = df_global.iloc[:,3]\n",
    "\n",
    "# stellar_infos = df_stellar.iloc[:,2:] # de todo\n",
    "stellar_infos = df_stellar.iloc[:,11:14] # solo parametros estelares\n",
    "stellar_labels = df_stellar.iloc[:,1]"
   ]
  },
  {
   "cell_type": "code",
   "execution_count": 6,
   "metadata": {},
   "outputs": [
    {
     "output_type": "display_data",
     "data": {
      "text/plain": "      koi_steff  koi_slogg  koi_srad\n0        5455.0      4.467     0.927\n1        5853.0      4.544     0.868\n2        5805.0      4.564     0.791\n3        6031.0      4.438     1.046\n4        6046.0      4.486     0.972\n...         ...        ...       ...\n6090     5638.0      4.296     1.088\n6091     5638.0      4.529     0.903\n6092     6119.0      4.444     1.031\n6093     6173.0      4.447     1.041\n6094     6469.0      4.385     1.193\n\n[6095 rows x 3 columns]",
      "text/html": "<div>\n<style scoped>\n    .dataframe tbody tr th:only-of-type {\n        vertical-align: middle;\n    }\n\n    .dataframe tbody tr th {\n        vertical-align: top;\n    }\n\n    .dataframe thead th {\n        text-align: right;\n    }\n</style>\n<table border=\"1\" class=\"dataframe\">\n  <thead>\n    <tr style=\"text-align: right;\">\n      <th></th>\n      <th>koi_steff</th>\n      <th>koi_slogg</th>\n      <th>koi_srad</th>\n    </tr>\n  </thead>\n  <tbody>\n    <tr>\n      <td>0</td>\n      <td>5455.0</td>\n      <td>4.467</td>\n      <td>0.927</td>\n    </tr>\n    <tr>\n      <td>1</td>\n      <td>5853.0</td>\n      <td>4.544</td>\n      <td>0.868</td>\n    </tr>\n    <tr>\n      <td>2</td>\n      <td>5805.0</td>\n      <td>4.564</td>\n      <td>0.791</td>\n    </tr>\n    <tr>\n      <td>3</td>\n      <td>6031.0</td>\n      <td>4.438</td>\n      <td>1.046</td>\n    </tr>\n    <tr>\n      <td>4</td>\n      <td>6046.0</td>\n      <td>4.486</td>\n      <td>0.972</td>\n    </tr>\n    <tr>\n      <td>...</td>\n      <td>...</td>\n      <td>...</td>\n      <td>...</td>\n    </tr>\n    <tr>\n      <td>6090</td>\n      <td>5638.0</td>\n      <td>4.296</td>\n      <td>1.088</td>\n    </tr>\n    <tr>\n      <td>6091</td>\n      <td>5638.0</td>\n      <td>4.529</td>\n      <td>0.903</td>\n    </tr>\n    <tr>\n      <td>6092</td>\n      <td>6119.0</td>\n      <td>4.444</td>\n      <td>1.031</td>\n    </tr>\n    <tr>\n      <td>6093</td>\n      <td>6173.0</td>\n      <td>4.447</td>\n      <td>1.041</td>\n    </tr>\n    <tr>\n      <td>6094</td>\n      <td>6469.0</td>\n      <td>4.385</td>\n      <td>1.193</td>\n    </tr>\n  </tbody>\n</table>\n<p>6095 rows × 3 columns</p>\n</div>"
     },
     "metadata": {}
    },
    {
     "output_type": "display_data",
     "data": {
      "text/plain": "             0         1         2\n0     0.321186  0.831296  0.005030\n1     0.366939  0.845778  0.004667\n2     0.361421  0.849539  0.004194\n3     0.387401  0.825842  0.005762\n4     0.389125  0.834869  0.005307\n...        ...       ...       ...\n6090  0.342223  0.799135  0.006020\n6091  0.342223  0.842957  0.004883\n6092  0.397517  0.826970  0.005670\n6093  0.403725  0.827534  0.005731\n6094  0.437751  0.815874  0.006666\n\n[6095 rows x 3 columns]",
      "text/html": "<div>\n<style scoped>\n    .dataframe tbody tr th:only-of-type {\n        vertical-align: middle;\n    }\n\n    .dataframe tbody tr th {\n        vertical-align: top;\n    }\n\n    .dataframe thead th {\n        text-align: right;\n    }\n</style>\n<table border=\"1\" class=\"dataframe\">\n  <thead>\n    <tr style=\"text-align: right;\">\n      <th></th>\n      <th>0</th>\n      <th>1</th>\n      <th>2</th>\n    </tr>\n  </thead>\n  <tbody>\n    <tr>\n      <td>0</td>\n      <td>0.321186</td>\n      <td>0.831296</td>\n      <td>0.005030</td>\n    </tr>\n    <tr>\n      <td>1</td>\n      <td>0.366939</td>\n      <td>0.845778</td>\n      <td>0.004667</td>\n    </tr>\n    <tr>\n      <td>2</td>\n      <td>0.361421</td>\n      <td>0.849539</td>\n      <td>0.004194</td>\n    </tr>\n    <tr>\n      <td>3</td>\n      <td>0.387401</td>\n      <td>0.825842</td>\n      <td>0.005762</td>\n    </tr>\n    <tr>\n      <td>4</td>\n      <td>0.389125</td>\n      <td>0.834869</td>\n      <td>0.005307</td>\n    </tr>\n    <tr>\n      <td>...</td>\n      <td>...</td>\n      <td>...</td>\n      <td>...</td>\n    </tr>\n    <tr>\n      <td>6090</td>\n      <td>0.342223</td>\n      <td>0.799135</td>\n      <td>0.006020</td>\n    </tr>\n    <tr>\n      <td>6091</td>\n      <td>0.342223</td>\n      <td>0.842957</td>\n      <td>0.004883</td>\n    </tr>\n    <tr>\n      <td>6092</td>\n      <td>0.397517</td>\n      <td>0.826970</td>\n      <td>0.005670</td>\n    </tr>\n    <tr>\n      <td>6093</td>\n      <td>0.403725</td>\n      <td>0.827534</td>\n      <td>0.005731</td>\n    </tr>\n    <tr>\n      <td>6094</td>\n      <td>0.437751</td>\n      <td>0.815874</td>\n      <td>0.006666</td>\n    </tr>\n  </tbody>\n</table>\n<p>6095 rows × 3 columns</p>\n</div>"
     },
     "metadata": {}
    }
   ],
   "source": [
    "display(stellar_infos)\n",
    "\n",
    "# esto es porque no estas normalizado los datos estelares\n",
    "x = stellar_infos.values\n",
    "x_scaled = MinMaxScaler().fit_transform(x)\n",
    "stellar_infos = pd.DataFrame(x_scaled)\n",
    "\n",
    "display(stellar_infos)"
   ]
  },
  {
   "source": [
    "## Particionado de datos"
   ],
   "cell_type": "markdown",
   "metadata": {}
  },
  {
   "cell_type": "code",
   "execution_count": 7,
   "metadata": {},
   "outputs": [],
   "source": [
    "x_local_train, x_local_test, y_local_train, y_local_test = train_test_split(\n",
    "    local_fluxes, local_labels, test_size=0.3, random_state=11)\n",
    "    \n",
    "x_global_train, x_global_test, y_global_train, y_global_test = train_test_split(\n",
    "    global_fluxes, global_labels, test_size=0.3, random_state=11)\n",
    "    \n",
    "x_stellar_train, x_stellar_test, y_stellar_train, y_stellar_test = train_test_split(\n",
    "    stellar_infos, stellar_labels, test_size=0.3, random_state=11)\n",
    "    "
   ]
  },
  {
   "cell_type": "code",
   "execution_count": 8,
   "metadata": {},
   "outputs": [
    {
     "output_type": "stream",
     "name": "stdout",
     "text": [
      "x_local_train = (4266, 101) x_local_test = (1829, 101) y_local_train = (4266,) y_local_test = (1829,)\nx_global_train = (4266, 1001) x_global_test = (1829, 1001) y_global_train = (4266,) y_global_test = (1829,)\nx_stellar_train = (4266, 3) x_stellar_test = (1829, 3) y_stellar_train = (4266,) y_stellar_test = (1829,)\n"
     ]
    }
   ],
   "source": [
    "print('x_local_train =', x_local_train.shape, 'x_local_test =', x_local_test.shape, 'y_local_train =', y_local_train.shape, 'y_local_test =', y_local_test.shape)\n",
    "print('x_global_train =', x_global_train.shape, 'x_global_test =', x_global_test.shape, 'y_global_train =', y_global_train.shape, 'y_global_test =', y_global_test.shape)\n",
    "print('x_stellar_train =', x_stellar_train.shape, 'x_stellar_test =', x_stellar_test.shape, 'y_stellar_train =', y_stellar_train.shape, 'y_stellar_test =', y_stellar_test.shape)"
   ]
  },
  {
   "cell_type": "code",
   "execution_count": 9,
   "metadata": {},
   "outputs": [],
   "source": [
    "#Definimos las dimensiones\n",
    "n_outputs = 1\n",
    "n_local_timesteps, n_local_features  = x_local_train.shape[0], x_local_train.shape[1]\n",
    "n_global_timesteps, n_global_features  = x_global_train.shape[0], x_global_train.shape[1]\n",
    "n_stellar_timesteps, n_stellar_features  = x_stellar_train.shape[0], x_stellar_train.shape[1]"
   ]
  },
  {
   "cell_type": "code",
   "execution_count": 10,
   "metadata": {},
   "outputs": [
    {
     "output_type": "stream",
     "name": "stdout",
     "text": [
      "4266 101\n4266 1001\n4266 3\n"
     ]
    }
   ],
   "source": [
    "print(n_local_timesteps, n_local_features)\n",
    "print(n_global_timesteps, n_global_features)\n",
    "print(n_stellar_timesteps, n_stellar_features)"
   ]
  },
  {
   "cell_type": "code",
   "execution_count": 11,
   "metadata": {},
   "outputs": [],
   "source": [
    "#Expandimos las dimensiones de train \n",
    "x_local_extended_train = np.expand_dims(x_local_train,axis=-1) \n",
    "y_local_extended_train = np.array(y_local_train)\n",
    "\n",
    "x_global_extended_train = np.expand_dims(x_global_train,axis=-1)\n",
    "y_global_extended_train = np.array(y_global_train)\n",
    "\n",
    "x_stellar_extended_train = np.expand_dims(x_stellar_train,axis=-1)\n",
    "y_stellar_extended_train = np.array(y_stellar_train)"
   ]
  },
  {
   "cell_type": "code",
   "execution_count": 12,
   "metadata": {},
   "outputs": [
    {
     "output_type": "stream",
     "name": "stdout",
     "text": [
      "(4266, 101) (4266,)\n(4266, 101, 1) (4266,)\n(4266, 1001) (4266,)\n(4266, 1001, 1) (4266,)\n(4266, 3) (4266,)\n(4266, 3, 1) (4266,)\n"
     ]
    }
   ],
   "source": [
    "print(x_local_train.shape, y_local_train.shape)\n",
    "print(x_local_extended_train.shape, y_local_extended_train.shape)\n",
    "\n",
    "print(x_global_train.shape, y_global_train.shape)\n",
    "print(x_global_extended_train.shape, y_global_extended_train.shape)\n",
    "\n",
    "print(x_stellar_train.shape, y_stellar_train.shape)\n",
    "print(x_stellar_extended_train.shape, y_stellar_extended_train.shape)"
   ]
  },
  {
   "cell_type": "code",
   "execution_count": 13,
   "metadata": {},
   "outputs": [],
   "source": [
    "#Expandimos las dimensiones de test\n",
    "x_local_extended_test = np.expand_dims(x_local_test,axis=-1)\n",
    "y_local_extended_test = np.array(y_local_test)\n",
    "\n",
    "x_global_extended_test = np.expand_dims(x_global_test,axis=-1)\n",
    "y_global_extended_test = np.array(y_global_test)\n",
    "\n",
    "x_stellar_extended_test = np.expand_dims(x_stellar_test,axis=-1)\n",
    "y_stellar_extended_test = np.array(y_stellar_test)"
   ]
  },
  {
   "cell_type": "code",
   "execution_count": 14,
   "metadata": {},
   "outputs": [
    {
     "output_type": "stream",
     "name": "stdout",
     "text": [
      "(1829, 101) (1829,)\n(1829, 101, 1) (1829,)\n"
     ]
    }
   ],
   "source": [
    "print(x_local_test.shape, y_local_test.shape)\n",
    "print(x_local_extended_test.shape, y_local_extended_test.shape)"
   ]
  },
  {
   "source": [
    "## Construcción Red Neuronal"
   ],
   "cell_type": "markdown",
   "metadata": {}
  },
  {
   "source": [
    "### Red para vistas locales"
   ],
   "cell_type": "markdown",
   "metadata": {}
  },
  {
   "cell_type": "code",
   "execution_count": 15,
   "metadata": {},
   "outputs": [],
   "source": [
    "# first input model\n",
    "inputLocalView = tf.keras.layers.Input(shape=(n_local_features, 1))\n",
    "inputLocalView.set_shape([n_local_timesteps, n_local_features, 1]) # 4266 x 101\n",
    "\n",
    "CL1 = tf.keras.layers.Conv1D(filters=16, kernel_size=5, activation='relu')(inputLocalView)\n",
    "CL2 = tf.keras.layers.Conv1D(filters=16, kernel_size=5, activation='relu')(CL1)\n",
    "\n",
    "ML1 = tf.keras.layers.MaxPooling1D(pool_size=7, strides=2)(CL2)\n",
    "\n",
    "CL3 = tf.keras.layers.Conv1D(filters=32, kernel_size=5, activation='relu')(ML1)\n",
    "CL4 = tf.keras.layers.Conv1D(filters=32, kernel_size=5, activation='relu')(CL3)\n",
    "\n",
    "ML2 = tf.keras.layers.MaxPooling1D(pool_size=7, strides=2)(CL4)\n",
    "\n",
    "flat1 = tf.keras.layers.Flatten()(ML2)"
   ]
  },
  {
   "source": [
    "### Red para vistas globales"
   ],
   "cell_type": "markdown",
   "metadata": {}
  },
  {
   "cell_type": "code",
   "execution_count": 16,
   "metadata": {},
   "outputs": [],
   "source": [
    "inputGlobalView = tf.keras.layers.Input(shape=(n_global_features, 1))\n",
    "inputGlobalView.set_shape([n_global_timesteps, n_global_features, 1])  # 4266 x 1001\n",
    "\n",
    "\n",
    "CG1 = tf.keras.layers.Conv1D(filters=16, kernel_size=5, activation='relu')(inputGlobalView)\n",
    "CG2 = tf.keras.layers.Conv1D(filters=16, kernel_size=5, activation='relu')(CG1)\n",
    "\n",
    "MG1 = tf.keras.layers.MaxPooling1D(pool_size=3, strides=2)(CG2)\n",
    "\n",
    "CG3 = tf.keras.layers.Conv1D(filters=32, kernel_size=5, activation='relu')(MG1)\n",
    "CG4 = tf.keras.layers.Conv1D(filters=32, kernel_size=5, activation='relu')(CG3)\n",
    "\n",
    "MG2 = tf.keras.layers.MaxPooling1D(pool_size=2, strides=2)(CG4)\n",
    "\n",
    "CG5 = tf.keras.layers.Conv1D(filters=64, kernel_size=5, activation='relu')(MG2)\n",
    "CG6 = tf.keras.layers.Conv1D(filters=64, kernel_size=5, activation='relu')(CG5)\n",
    "\n",
    "MG3 = tf.keras.layers.MaxPooling1D(pool_size=2, strides=2)(CG6)\n",
    "\n",
    "CG7 = tf.keras.layers.Conv1D(filters=128, kernel_size=5, activation='relu')(MG3)\n",
    "CG8 = tf.keras.layers.Conv1D(filters=128, kernel_size=5, activation='relu')(CG7)\n",
    "\n",
    "MG4 = tf.keras.layers.MaxPooling1D(pool_size=2, strides=2)(CG8)\n",
    "\n",
    "CG9 = tf.keras.layers.Conv1D(filters=256, kernel_size=5, activation='relu')(MG4)\n",
    "CG10 = tf.keras.layers.Conv1D(filters=256, kernel_size=5, activation='relu')(CG9)\n",
    "\n",
    "MG5 = tf.keras.layers.MaxPooling1D(pool_size=2, strides=2)(CG10)\n",
    "\n",
    "flat2 = tf.keras.layers.Flatten()(MG5)"
   ]
  },
  {
   "source": [
    "### Red para parámetros estelares"
   ],
   "cell_type": "markdown",
   "metadata": {}
  },
  {
   "cell_type": "code",
   "execution_count": 20,
   "metadata": {},
   "outputs": [
    {
     "output_type": "execute_result",
     "data": {
      "text/plain": [
       "'\\nStellarParam6PInput = tf.keras.layers.InputLayer(input_shape=(n_stellar_features, 1))\\nStellarParam6PInput.set_shape([n_stellar_timesteps, n_stellar_features, 1])  # 4266 x 3\\n\\n# StellarParam6PInput=(n_stellar_features,1)\\nflat3 = tf.keras.layers.Flatten()(StellarParam6PInput)\\n'"
      ]
     },
     "metadata": {},
     "execution_count": 20
    }
   ],
   "source": [
    "\"\"\"\n",
    "StellarParam6PInput = tf.keras.layers.InputLayer(input_shape=(n_stellar_features, 1))\n",
    "StellarParam6PInput.set_shape([n_stellar_timesteps, n_stellar_features, 1])  # 4266 x 3\n",
    "\n",
    "# StellarParam6PInput=(n_stellar_features,1)\n",
    "flat3 = tf.keras.layers.Flatten()(StellarParam6PInput)\n",
    "\"\"\""
   ]
  },
  {
   "source": [
    "### Unificación de redes"
   ],
   "cell_type": "markdown",
   "metadata": {}
  },
  {
   "cell_type": "code",
   "execution_count": 22,
   "metadata": {},
   "outputs": [
    {
     "output_type": "stream",
     "name": "stdout",
     "text": [
      "Model: \"functional_2\"\n__________________________________________________________________________________________________\nLayer (type)                    Output Shape         Param #     Connected to                     \n==================================================================================================\ninput_2 (InputLayer)            [(4266, 1001, 1)]    0                                            \n__________________________________________________________________________________________________\nconv1d_4 (Conv1D)               (4266, 997, 16)      96          input_2[0][0]                    \n__________________________________________________________________________________________________\nconv1d_5 (Conv1D)               (4266, 993, 16)      1296        conv1d_4[0][0]                   \n__________________________________________________________________________________________________\nmax_pooling1d_2 (MaxPooling1D)  (4266, 496, 16)      0           conv1d_5[0][0]                   \n__________________________________________________________________________________________________\nconv1d_6 (Conv1D)               (4266, 492, 32)      2592        max_pooling1d_2[0][0]            \n__________________________________________________________________________________________________\nconv1d_7 (Conv1D)               (4266, 488, 32)      5152        conv1d_6[0][0]                   \n__________________________________________________________________________________________________\nmax_pooling1d_3 (MaxPooling1D)  (4266, 244, 32)      0           conv1d_7[0][0]                   \n__________________________________________________________________________________________________\nconv1d_8 (Conv1D)               (4266, 240, 64)      10304       max_pooling1d_3[0][0]            \n__________________________________________________________________________________________________\nconv1d_9 (Conv1D)               (4266, 236, 64)      20544       conv1d_8[0][0]                   \n__________________________________________________________________________________________________\ninput_1 (InputLayer)            [(4266, 101, 1)]     0                                            \n__________________________________________________________________________________________________\nmax_pooling1d_4 (MaxPooling1D)  (4266, 118, 64)      0           conv1d_9[0][0]                   \n__________________________________________________________________________________________________\nconv1d (Conv1D)                 (4266, 97, 16)       96          input_1[0][0]                    \n__________________________________________________________________________________________________\nconv1d_10 (Conv1D)              (4266, 114, 128)     41088       max_pooling1d_4[0][0]            \n__________________________________________________________________________________________________\nconv1d_1 (Conv1D)               (4266, 93, 16)       1296        conv1d[0][0]                     \n__________________________________________________________________________________________________\nconv1d_11 (Conv1D)              (4266, 110, 128)     82048       conv1d_10[0][0]                  \n__________________________________________________________________________________________________\nmax_pooling1d (MaxPooling1D)    (4266, 44, 16)       0           conv1d_1[0][0]                   \n__________________________________________________________________________________________________\nmax_pooling1d_5 (MaxPooling1D)  (4266, 55, 128)      0           conv1d_11[0][0]                  \n__________________________________________________________________________________________________\nconv1d_2 (Conv1D)               (4266, 40, 32)       2592        max_pooling1d[0][0]              \n__________________________________________________________________________________________________\nconv1d_12 (Conv1D)              (4266, 51, 256)      164096      max_pooling1d_5[0][0]            \n__________________________________________________________________________________________________\nconv1d_3 (Conv1D)               (4266, 36, 32)       5152        conv1d_2[0][0]                   \n__________________________________________________________________________________________________\nconv1d_13 (Conv1D)              (4266, 47, 256)      327936      conv1d_12[0][0]                  \n__________________________________________________________________________________________________\nmax_pooling1d_1 (MaxPooling1D)  (4266, 15, 32)       0           conv1d_3[0][0]                   \n__________________________________________________________________________________________________\nmax_pooling1d_6 (MaxPooling1D)  (4266, 23, 256)      0           conv1d_13[0][0]                  \n__________________________________________________________________________________________________\nflatten (Flatten)               (4266, 480)          0           max_pooling1d_1[0][0]            \n__________________________________________________________________________________________________\nflatten_1 (Flatten)             (4266, 5888)         0           max_pooling1d_6[0][0]            \n__________________________________________________________________________________________________\nconcatenate_1 (Concatenate)     (4266, 6368)         0           flatten[0][0]                    \n                                                                 flatten_1[0][0]                  \n__________________________________________________________________________________________________\ndense_5 (Dense)                 (4266, 256)          1630464     concatenate_1[0][0]              \n__________________________________________________________________________________________________\ndense_6 (Dense)                 (4266, 256)          65792       dense_5[0][0]                    \n__________________________________________________________________________________________________\ndense_7 (Dense)                 (4266, 256)          65792       dense_6[0][0]                    \n__________________________________________________________________________________________________\ndense_8 (Dense)                 (4266, 256)          65792       dense_7[0][0]                    \n__________________________________________________________________________________________________\ndense_9 (Dense)                 (4266, 1)            257         dense_8[0][0]                    \n==================================================================================================\nTotal params: 2,492,385\nTrainable params: 2,492,385\nNon-trainable params: 0\n__________________________________________________________________________________________________\nNone\n"
     ]
    }
   ],
   "source": [
    "# merge input models\n",
    "merge = tf.keras.layers.concatenate([flat1, flat2])\n",
    "# merge = tf.keras.layers.concatenate([flat1, flat2, flat3])\n",
    "\n",
    "# interpretation model\n",
    "hidden1 = tf.keras.layers.Dense(256, activation='relu')(merge)\n",
    "hidden2 = tf.keras.layers.Dense(256, activation='relu')(hidden1)\n",
    "hidden3 = tf.keras.layers.Dense(256, activation='relu')(hidden2)\n",
    "hidden4 = tf.keras.layers.Dense(256, activation='relu')(hidden3)\n",
    "\n",
    "output = tf.keras.layers.Dense(n_outputs, activation='tanh')(hidden4)\n",
    "\n",
    "model = tf.keras.Model(inputs=[inputLocalView,inputGlobalView], outputs=output)\n",
    "# model = tf.keras.Model(inputs=[inputLocalView,inputGlobalView,StellarParam6PInput], outputs=output)\n",
    "model.compile(loss='binary_crossentropy', optimizer='adam', metrics=['accuracy'])\n",
    "\n",
    "print(model.summary())"
   ]
  },
  {
   "cell_type": "code",
   "execution_count": 23,
   "metadata": {},
   "outputs": [
    {
     "output_type": "stream",
     "name": "stdout",
     "text": [
      "Epoch 1/50\n",
      "WARNING:tensorflow:Model was constructed with shape (4266, 101, 1) for input Tensor(\"input_1:0\", shape=(4266, 101, 1), dtype=float32), but it was called on an input with incompatible shape (237, 101, 1).\n",
      "WARNING:tensorflow:Model was constructed with shape (4266, 1001, 1) for input Tensor(\"input_2:0\", shape=(4266, 1001, 1), dtype=float32), but it was called on an input with incompatible shape (237, 1001, 1).\n",
      "WARNING:tensorflow:Model was constructed with shape (4266, 101, 1) for input Tensor(\"input_1:0\", shape=(4266, 101, 1), dtype=float32), but it was called on an input with incompatible shape (237, 101, 1).\n",
      "WARNING:tensorflow:Model was constructed with shape (4266, 1001, 1) for input Tensor(\"input_2:0\", shape=(4266, 1001, 1), dtype=float32), but it was called on an input with incompatible shape (237, 1001, 1).\n",
      "18/18 [==============================] - 21s 1s/step - loss: 0.5760 - accuracy: 0.7546\n",
      "Epoch 2/50\n",
      "18/18 [==============================] - 27s 1s/step - loss: 0.5113 - accuracy: 0.7630\n",
      "Epoch 3/50\n",
      "18/18 [==============================] - 26s 1s/step - loss: 0.4800 - accuracy: 0.7745\n",
      "Epoch 4/50\n",
      "18/18 [==============================] - 32s 2s/step - loss: 0.4688 - accuracy: 0.7843\n",
      "Epoch 5/50\n",
      "18/18 [==============================] - 26s 1s/step - loss: 0.4386 - accuracy: 0.8059\n",
      "Epoch 6/50\n",
      "18/18 [==============================] - 32s 2s/step - loss: 0.4156 - accuracy: 0.8174\n",
      "Epoch 7/50\n",
      "18/18 [==============================] - 32s 2s/step - loss: 0.4023 - accuracy: 0.8254\n",
      "Epoch 8/50\n",
      "18/18 [==============================] - 26s 1s/step - loss: 0.3939 - accuracy: 0.8284\n",
      "Epoch 9/50\n",
      "18/18 [==============================] - 33s 2s/step - loss: 0.3848 - accuracy: 0.8354\n",
      "Epoch 10/50\n",
      "18/18 [==============================] - 33s 2s/step - loss: 0.4301 - accuracy: 0.8204\n",
      "Epoch 11/50\n",
      "18/18 [==============================] - 33s 2s/step - loss: 0.3930 - accuracy: 0.8331\n",
      "Epoch 12/50\n",
      "18/18 [==============================] - 33s 2s/step - loss: 0.3859 - accuracy: 0.8415\n",
      "Epoch 13/50\n",
      "18/18 [==============================] - 26s 1s/step - loss: 0.3885 - accuracy: 0.8432\n",
      "Epoch 14/50\n",
      "18/18 [==============================] - 26s 1s/step - loss: 0.3746 - accuracy: 0.8439\n",
      "Epoch 15/50\n",
      "18/18 [==============================] - 32s 2s/step - loss: 0.3600 - accuracy: 0.8488\n",
      "Epoch 16/50\n",
      "18/18 [==============================] - 32s 2s/step - loss: 0.3456 - accuracy: 0.8612\n",
      "Epoch 17/50\n",
      "18/18 [==============================] - 20s 1s/step - loss: 0.3428 - accuracy: 0.8594\n",
      "Epoch 18/50\n",
      "18/18 [==============================] - 21s 1s/step - loss: 0.3366 - accuracy: 0.8551\n",
      "Epoch 19/50\n",
      "18/18 [==============================] - 22s 1s/step - loss: 0.3205 - accuracy: 0.8652\n",
      "Epoch 20/50\n",
      "18/18 [==============================] - 22s 1s/step - loss: 0.3333 - accuracy: 0.8603\n",
      "Epoch 21/50\n",
      "18/18 [==============================] - 22s 1s/step - loss: 0.2974 - accuracy: 0.8769\n",
      "Epoch 22/50\n",
      "18/18 [==============================] - 22s 1s/step - loss: 0.3021 - accuracy: 0.8854\n",
      "Epoch 23/50\n",
      "18/18 [==============================] - 23s 1s/step - loss: 0.3139 - accuracy: 0.8795\n",
      "Epoch 24/50\n",
      "18/18 [==============================] - 22s 1s/step - loss: 0.2874 - accuracy: 0.8788\n",
      "Epoch 25/50\n",
      "18/18 [==============================] - 22s 1s/step - loss: 0.2967 - accuracy: 0.8753\n",
      "Epoch 26/50\n",
      "18/18 [==============================] - 21s 1s/step - loss: 0.3231 - accuracy: 0.8694\n",
      "Epoch 27/50\n",
      "18/18 [==============================] - 21s 1s/step - loss: 0.2869 - accuracy: 0.8863\n",
      "Epoch 28/50\n",
      "18/18 [==============================] - 22s 1s/step - loss: 0.3057 - accuracy: 0.8758\n",
      "Epoch 29/50\n",
      "18/18 [==============================] - 23s 1s/step - loss: 0.2640 - accuracy: 0.8898\n",
      "Epoch 30/50\n",
      "18/18 [==============================] - 25s 1s/step - loss: 0.2507 - accuracy: 0.9006\n",
      "Epoch 31/50\n",
      "18/18 [==============================] - 25s 1s/step - loss: 0.3497 - accuracy: 0.8533\n",
      "Epoch 32/50\n",
      "18/18 [==============================] - 30s 2s/step - loss: 0.2997 - accuracy: 0.8821\n",
      "Epoch 33/50\n",
      "18/18 [==============================] - 26s 1s/step - loss: 0.3932 - accuracy: 0.8256\n",
      "Epoch 34/50\n",
      "18/18 [==============================] - 24s 1s/step - loss: 0.3180 - accuracy: 0.8673\n",
      "Epoch 35/50\n",
      "18/18 [==============================] - 22s 1s/step - loss: 0.2693 - accuracy: 0.8919\n",
      "Epoch 36/50\n",
      "18/18 [==============================] - 23s 1s/step - loss: 0.2245 - accuracy: 0.9102\n",
      "Epoch 37/50\n",
      "18/18 [==============================] - 26s 1s/step - loss: 0.2022 - accuracy: 0.9175\n",
      "Epoch 38/50\n",
      "18/18 [==============================] - 27s 2s/step - loss: 0.2085 - accuracy: 0.9154\n",
      "Epoch 39/50\n",
      "18/18 [==============================] - 26s 1s/step - loss: 0.1993 - accuracy: 0.9226\n",
      "Epoch 40/50\n",
      "18/18 [==============================] - 25s 1s/step - loss: 0.1718 - accuracy: 0.9409\n",
      "Epoch 41/50\n",
      "18/18 [==============================] - 23s 1s/step - loss: 0.1973 - accuracy: 0.9201\n",
      "Epoch 42/50\n",
      "18/18 [==============================] - 29s 2s/step - loss: 0.1394 - accuracy: 0.9480\n",
      "Epoch 43/50\n",
      "18/18 [==============================] - 26s 1s/step - loss: 0.1236 - accuracy: 0.9512\n",
      "Epoch 44/50\n",
      "18/18 [==============================] - 26s 1s/step - loss: 0.3064 - accuracy: 0.8978\n",
      "Epoch 45/50\n",
      "18/18 [==============================] - 28s 2s/step - loss: 0.4503 - accuracy: 0.8174\n",
      "Epoch 46/50\n",
      "18/18 [==============================] - 27s 1s/step - loss: 0.3913 - accuracy: 0.8425\n",
      "Epoch 47/50\n",
      "18/18 [==============================] - 24s 1s/step - loss: 0.3440 - accuracy: 0.8608\n",
      "Epoch 48/50\n",
      "18/18 [==============================] - 22s 1s/step - loss: 0.3028 - accuracy: 0.8774\n",
      "Epoch 49/50\n",
      "18/18 [==============================] - 26s 1s/step - loss: 0.2789 - accuracy: 0.8922\n",
      "Epoch 50/50\n",
      "18/18 [==============================] - 22s 1s/step - loss: 0.2707 - accuracy: 0.8959\n"
     ]
    }
   ],
   "source": [
    "# divisores 4266: 1, 2, 3, 6, 9, 18, 27, 54, 79, 158, 237, 474, 711, 1422, 2133, 4266\n",
    "bs = 237\n",
    "Ajuste = model.fit([x_local_extended_train, x_global_extended_train, x_stellar_extended_train], y_local_extended_train, epochs=50, batch_size=bs)"
   ]
  },
  {
   "cell_type": "code",
   "execution_count": 25,
   "metadata": {},
   "outputs": [
    {
     "output_type": "display_data",
     "data": {
      "text/plain": "array([0.55710435, 0.71382886, 0.04245963, ..., 0.04441364, 0.04089408,\n       0.04233475], dtype=float32)"
     },
     "metadata": {}
    }
   ],
   "source": [
    "y_pred_keras = model.predict([x_local_extended_test,x_global_extended_test]).ravel()\n",
    "display(y_pred_keras)"
   ]
  },
  {
   "cell_type": "code",
   "execution_count": null,
   "metadata": {},
   "outputs": [],
   "source": [
    "# Defino las métricas\n",
    "fpr_keras, tpr_keras, thresholds_keras = roc_curve(y_local_extended_test, y_pred_keras)\n",
    "auc_keras = auc(fpr_keras, tpr_keras)\n",
    "gmeans = np.sqrt(tpr_keras * (1-fpr_keras))\n",
    "\n",
    "# localiza el índice del mayor g-mean\n",
    "ix = argmax(gmeans)\n",
    "print('Best Threshold=%f, G-Mean=%.3f' % (thresholds_keras[ix], gmeans[ix]))\n"
   ]
  },
  {
   "source": [
    "# \"#############\"\n"
   ],
   "cell_type": "markdown",
   "metadata": {}
  },
  {
   "cell_type": "code",
   "execution_count": null,
   "metadata": {},
   "outputs": [],
   "source": [
    "#Umbral estándar\n",
    "labels_Standart = (y_pred_keras >= 0.5).astype(np.int)\n",
    "PhiM_Standart = matthews_corrcoef(y_local_extended_test, labels_Standart)\n",
    "Matrix_Standart = confusion_matrix(y_local_extended_test, labels_Standart)\n",
    "\n",
    "#Imprimo por pantalla las métricas\n",
    "auc_keras, PhiM_Standart, print(Matrix_Standart)\n"
   ]
  },
  {
   "cell_type": "code",
   "execution_count": null,
   "metadata": {},
   "outputs": [],
   "source": [
    "#Umbral OPT\n",
    "labels_OPT =(y_pred_keras >= thresholds_keras[ix]).astype(np.int)\n",
    "PhiCoeff_OPT = matthews_corrcoef(y_local_extended_test, labels_OPT)\n",
    "Matrix_OPT = confusion_matrix(y_local_extended_test, labels_OPT)\n",
    "F_Measure_OPT = f1_score(y_local_extended_test, labels_OPT, average='binary')\n",
    "Accuracy_OPT= accuracy_score(y_local_extended_test, labels_OPT, normalize=True)\n",
    "Recall_OPT= recall_score(y_local_extended_test, labels_OPT, average=None)\n",
    "Average_precision_OPT= average_precision_score(y_local_extended_test, labels_OPT)\n",
    "\n",
    "\n",
    "#Imprimo por pantalla las métricas\n",
    "print(\"AUC:\", auc_keras)\n",
    "print(\"F_Measure:\", F_Measure_OPT)\n",
    "print(\"PhiCoeff:\", PhiCoeff_OPT)\n",
    "print(\"Average_precision:\", Average_precision_OPT)\n",
    "print(\"Accuracy:\", Accuracy_OPT)\n",
    "print(\"Recall:\", Recall_OPT)\n",
    "print(\"Matriz de confusión:\")\n",
    "print( Matrix_OPT)\n"
   ]
  },
  {
   "cell_type": "code",
   "execution_count": null,
   "metadata": {},
   "outputs": [],
   "source": [
    "#Ploteo la matrix de confusión\n",
    "import seaborn as sn\n",
    "df_cm = pd.DataFrame(Matrix_OPT, index = [i for i in \"01\"],\n",
    "                  columns = [i for i in \"01\"])\n",
    "\n",
    "plt.figure(0.5)\n",
    "heat_map = sn.heatmap(df_cm, xticklabels=True, yticklabels=True, annot=True, annot_kws = {\"ha\": 'center',\"va\": 'bottom'},cbar=False)\n",
    "#heat_map.set_yticklabels(heat_map.get_yticklabels(), rotation=0)\n",
    "plt.xlabel('Predicted')\n",
    "plt.ylabel('Actual')\n",
    "\n",
    "for text in heat_map.texts:\n",
    "    text.set_size(14)\n",
    "    text.set_weight('bold')\n",
    "    if text.get_text() == '5':\n",
    "        text.set_color('black')\n"
   ]
  },
  {
   "cell_type": "code",
   "execution_count": null,
   "metadata": {},
   "outputs": [],
   "source": [
    "plt.figure(1)\n",
    "plt.plot([0, 1], [0, 1], 'k--')\n",
    "plt.plot(fpr_keras, tpr_keras, label='CNN (area = {:.3f})'.format(auc_keras))\n",
    "plt.scatter(fpr_keras[ix], tpr_keras[ix], marker='o', color='black', label='Best')\n",
    "plt.xlabel('False positive rate')\n",
    "plt.ylabel('True positive rate')\n",
    "plt.title('ROC curve')\n",
    "plt.legend(loc='best')\n"
   ]
  },
  {
   "cell_type": "code",
   "execution_count": null,
   "metadata": {},
   "outputs": [],
   "source": [
    "y_pred_keras_tot = np.array([])\n",
    "y_pred_rf_tot = np.array([])\n",
    "y_test_total = np.array([])\n",
    "\n",
    "x_local_train, x_local_test, y_local_train, y_local_test = train_test_split(LocalView.iloc[:,2:], LocalView.iloc[:,1], test_size=0.3, random_state=11)\n",
    "x_global_train, x_global_test, y_global_train, y_global_test = train_test_split(GlobalView.iloc[:,2:], GlobalView.iloc[:,1], test_size=0.3, random_state=11)\n",
    "x_stellar_train, x_stellar_test, y_stellar_train, y_stellar_test = train_test_split(StellarParam6P.iloc[:,2:], StellarParam6P.iloc[:,1], test_size=0.3, random_state=11)\n",
    "    \n",
    "   \n",
    "    #Definimos las dimensiones\n",
    "n_outputs = 1\n",
    "n_local_timesteps, n_local_features  = x_local_train.shape[0], x_local_train.shape[1]\n",
    "n_global_timesteps, n_global_features  = x_global_train.shape[0], x_global_train.shape[1]\n",
    "n_stellar_timesteps, n_stellar_features  = x_stellar_train.shape[0], x_stellar_train.shape[1]\n",
    "      \n",
    "    #Expandimos las dimensiones\n",
    "x_local_extended_train = np.expand_dims(x_local_train,axis=-1) # axis=-3 para que se adapte a la forma del tensor\n",
    "y_local_extended_train = np.array(y_local_train) # Hay que trasponer \n",
    "x_global_extended_train = np.expand_dims(x_global_train,axis=-1)\n",
    "y_global_extended_train = np.array(y_global_train)\n",
    "x_stellar_extended_train = np.expand_dims(x_stellar_train,axis=-1)\n",
    "y_stellar_extended_train = np.array(y_stellar_train)\n",
    "    \n",
    "    \n",
    "    # Multiple Inputs\n",
    "\n",
    "    # first input model\n",
    "inputLocalView = Input(shape=(n_local_features, 1))\n",
    "inputLocalView.set_shape([n_local_timesteps, n_local_features, 1])\n",
    "\n",
    "CL1 = Conv1D(filters=16, kernel_size=5, activation='relu')(inputLocalView)\n",
    "CL2 = Conv1D(filters=16, kernel_size=5, activation='relu')(CL1)\n",
    "\n",
    "ML1 = MaxPooling1D(pool_size=7, strides=2)(CL2)\n",
    "\n",
    "CL3 = Conv1D(filters=32, kernel_size=5, activation='relu')(ML1)\n",
    "CL4 = Conv1D(filters=32, kernel_size=5, activation='relu')(CL3)\n",
    "\n",
    "ML2 = MaxPooling1D(pool_size=7, strides=2)(CL4)\n",
    "flat1 = Flatten()(ML2)\n",
    "\n",
    "    # second input model\n",
    "\n",
    "inputGlobalView = Input(shape=(n_global_features, 1))\n",
    "inputGlobalView.set_shape([n_global_timesteps, n_global_features, 1])\n",
    "\n",
    "CG1 = Conv1D(filters=16, kernel_size=5, activation='relu')(inputGlobalView)\n",
    "CG2 = Conv1D(filters=16, kernel_size=5, activation='relu')(CG1)\n",
    "\n",
    "MG1 = MaxPooling1D(pool_size=3, strides=2)(CG2)\n",
    "\n",
    "CG3 = Conv1D(filters=32, kernel_size=5, activation='relu')(MG1)\n",
    "CG4 = Conv1D(filters=32, kernel_size=5, activation='relu')(CG3)\n",
    "\n",
    "MG2 = MaxPooling1D(pool_size=2, strides=2)(CG4)\n",
    "\n",
    "CG5 = Conv1D(filters=64, kernel_size=5, activation='relu')(MG2)\n",
    "CG6 = Conv1D(filters=64, kernel_size=5, activation='relu')(CG5)\n",
    "\n",
    "MG3 = MaxPooling1D(pool_size=2, strides=2)(CG6)\n",
    "\n",
    "CG7 = Conv1D(filters=128, kernel_size=3, activation='relu')(MG3)\n",
    "CG8 = Conv1D(filters=128, kernel_size=3, activation='relu')(CG7)\n",
    "\n",
    "MG4 = MaxPooling1D(pool_size=2, strides=2)(CG8)\n",
    "\n",
    "flat2 = Flatten()(MG4)\n",
    "\n",
    "    # third input model\n",
    "\n",
    "StellarParam6PInput = Input(shape=(n_stellar_features, 1))\n",
    "StellarParam6PInput.set_shape([n_stellar_timesteps, n_stellar_features, 1])\n",
    "\n",
    "    #StellarParam6PInput=(n_stellar_features,1)\n",
    "flat3 = Flatten()(StellarParam6PInput)\n",
    "    # merge input models\n",
    "merge = concatenate([flat1, flat2, flat3])\n",
    "\n",
    "    # interpretation model\n",
    "hidden1 = Dense(256, activation='relu')(merge)\n",
    "hidden2 = Dense(256, activation='relu')(hidden1)\n",
    "hidden3 = Dense(256, activation='relu')(hidden2)\n",
    "hidden4 = Dense(256, activation='relu')(hidden3)\n",
    " #2output = Dense(n_outputs, activation='tanh')(hidden4)\n",
    "output = Dense(n_outputs, activation='tanh')(hidden4)\n",
    "model = Model(inputs=[inputLocalView, inputGlobalView,StellarParam6PInput], outputs=output)\n",
    "    #loss='binary_crossentropy', optimizer='adam', metrics=['accuracy', 'ce']\n",
    "model.compile(loss='binary_crossentropy', optimizer='adadelta', metrics=['accuracy'])\n",
    "    #loss_weights=['main_output': 1., 'aux_output': 0.2]) por si queremos darles pesos diferentes\n",
    "\n",
    "batch_size=119\n",
    "\n",
    "#Aumento número de muestras\n",
    "for i in range(10):\n",
    "    \n",
    "    print(i)\n",
    "    \n",
    "    # Divido entre entrenamiento y test\n",
    "    x_local_train, x_local_test, y_local_train, y_local_test = train_test_split(LocalView.iloc[:,2:], LocalView.iloc[:,1], test_size=0.3, random_state=11+i)\n",
    "    x_global_train, x_global_test, y_global_train, y_global_test = train_test_split(GlobalView.iloc[:,2:], GlobalView.iloc[:,1], test_size=0.3, random_state=11+i)\n",
    "    x_stellar_train, x_stellar_test, y_stellar_train, y_stellar_test = train_test_split(StellarParam6P.iloc[:,2:], StellarParam6P.iloc[:,1], test_size=0.3, random_state=11+i)\n",
    "    \n",
    "  \n",
    "    # fit forma 2\n",
    "    FIT = model.fit([x_local_extended_train, x_global_extended_train, x_stellar_extended_train], y_local_extended_train,\n",
    "          epochs=50, batch_size=batch_size, verbose=0)\n",
    "    \n",
    "    x_local_extended_test = np.expand_dims(x_local_test,axis=-1)\n",
    "    y_local_extended_test = np.array(y_local_test) \n",
    "    x_global_extended_test = np.expand_dims(x_global_test,axis=-1)\n",
    "    y_global_extended_test = np.array(y_global_test)\n",
    "    x_stellar_extended_test = np.expand_dims(x_stellar_test,axis=-1)\n",
    "    y_stellar_extended_test = np.array(y_stellar_test)\n",
    "    \n",
    "    \n",
    "    # Creo la RoC\n",
    "    y_pred_kerasC = model.predict([x_local_extended_test,x_global_extended_test,x_stellar_extended_test]).ravel()\n",
    "    \n",
    "    \n",
    "    #Lleno los vectores totales\n",
    "    y_pred_keras_tot = np.concatenate((y_pred_keras_tot,y_pred_kerasC))\n",
    "    \n",
    "    y_test_total = np.concatenate((y_test_total,y_local_extended_test))\n"
   ]
  },
  {
   "cell_type": "code",
   "execution_count": null,
   "metadata": {},
   "outputs": [],
   "source": [
    "# Defino las métricas\n",
    "\n",
    "fpr_kerasTotal, tpr_kerasTotal, thresholds_kerasTotal = roc_curve(y_test_total, y_pred_keras_tot)\n",
    "auc_kerasTotal = auc(fpr_kerasTotal, tpr_kerasTotal)\n",
    "gmeans = np.sqrt(tpr_kerasTotal * (1-fpr_kerasTotal))\n",
    "# localiza el índice del mayor g-mean\n",
    "ix = argmax(gmeans)\n",
    "print('Best Threshold=%f, G-Mean=%.3f' % (thresholds_kerasTotal[ix], gmeans[ix]))\n"
   ]
  },
  {
   "cell_type": "code",
   "execution_count": null,
   "metadata": {},
   "outputs": [],
   "source": [
    "#Umbral estándar\n",
    "labels_Standart = (y_pred_keras_tot >= 0.5).astype(np.int)\n",
    "PhiCoeff_Standart = matthews_corrcoef(y_test_total, labels_Standart)\n",
    "Matrix_Standart = confusion_matrix(y_test_total, labels_Standart)\n",
    "F_Measure_Standart = f1_score(y_test_total, labels_Standart, average='binary')\n",
    "\n",
    "#Imprimo por pantalla las métricas\n",
    "auc_kerasTotal, PhiM_Standart,F_Measure_Standart, print(Matrix_Standart)\n"
   ]
  },
  {
   "cell_type": "code",
   "execution_count": null,
   "metadata": {},
   "outputs": [],
   "source": [
    "#Umbral OPT\n",
    "labels_OPT =(y_pred_keras_tot >= thresholds_kerasTotal[ix]).astype(np.int)\n",
    "PhiCoeff_OPT = matthews_corrcoef(y_test_total, labels_OPT)\n",
    "Matrix_OPT = confusion_matrix(y_test_total, labels_OPT)\n",
    "F_Measure_OPT = f1_score(y_test_total, labels_OPT, average='binary')\n",
    "Accuracy_OPT= accuracy_score(y_test_total, labels_OPT, normalize=True)\n",
    "Recall_OPT= recall_score(y_test_total, labels_OPT, average=None)\n",
    "Average_precision_OPT= average_precision_score(y_test_total, labels_OPT)\n",
    "\n",
    "\n",
    "#Imprimo por pantalla las métricas\n",
    "print(\"AUC:\", auc_kerasTotal)\n",
    "print(\"F_Measure:\", F_Measure_OPT)\n",
    "print(\"PhiCoeff:\", PhiCoeff_OPT)\n",
    "print(\"Average_precision:\", Average_precision_OPT)\n",
    "print(\"Accuracy:\", Accuracy_OPT)\n",
    "print(\"Recall:\", Recall_OPT)\n",
    "print(\"Matriz de confusión:\")\n",
    "print( Matrix_OPT)\n"
   ]
  },
  {
   "cell_type": "code",
   "execution_count": null,
   "metadata": {},
   "outputs": [],
   "source": [
    "#Ploteo la matrix de confusión\n",
    "\n",
    "df_cm_OPT = pd.DataFrame(Matrix_OPT, index = [i for i in \"01\"],\n",
    "                  columns = [i for i in \"01\"])\n",
    "plt.figure(0.5)\n",
    "heat_map = sn.heatmap(df_cm_OPT, xticklabels=True, yticklabels=True, annot=True, fmt='g', annot_kws = {\"ha\": 'center',\"va\": 'bottom'},cbar=False)\n",
    "#heat_map.set_yticklabels(heat_map.get_yticklabels(), rotation=0)\n",
    "plt.xlabel('Predicted')\n",
    "plt.ylabel('Actual')\n",
    "\n",
    "for text in heat_map.texts:\n",
    "    text.set_size(14)\n",
    "    text.set_weight('bold')\n",
    "    if text.get_text() == '33':\n",
    "        text.set_color('black')\n"
   ]
  },
  {
   "cell_type": "code",
   "execution_count": null,
   "metadata": {},
   "outputs": [],
   "source": [
    "plt.figure(1)\n",
    "plt.plot([0, 1], [0, 1], 'k--')\n",
    "plt.plot(fpr_kerasTotal, tpr_kerasTotal,  color='green', label='Tanh/Adadelta = {:.3f})'.format(auc_kerasTotal))\n",
    "plt.scatter(fpr_kerasTotal[ix], tpr_kerasTotal[ix], marker='o', color='black', label='Best')\n",
    "plt.xlabel('False positive rate')\n",
    "plt.ylabel('True positive rate')\n",
    "plt.title('ROC curve')\n",
    "plt.legend(loc='best')\n",
    "plt.show()"
   ]
  },
  {
   "cell_type": "code",
   "execution_count": null,
   "metadata": {},
   "outputs": [],
   "source": []
  },
  {
   "cell_type": "code",
   "execution_count": null,
   "metadata": {},
   "outputs": [],
   "source": []
  }
 ]
}