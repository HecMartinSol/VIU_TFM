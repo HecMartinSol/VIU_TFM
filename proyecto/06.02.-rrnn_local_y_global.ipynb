{
 "metadata": {
  "language_info": {
   "codemirror_mode": {
    "name": "ipython",
    "version": 3
   },
   "file_extension": ".py",
   "mimetype": "text/x-python",
   "name": "python",
   "nbconvert_exporter": "python",
   "pygments_lexer": "ipython3",
   "version": "3.7.4-final"
  },
  "orig_nbformat": 2,
  "kernelspec": {
   "name": "Python 3.7.4 64-bit ('base': conda)",
   "display_name": "Python 3.7.4 64-bit ('base': conda)",
   "metadata": {
    "interpreter": {
     "hash": "f958bdd04a238e53230fa8372db10ddee88fbe838d3660515cd74e50e6d77f98"
    }
   }
  }
 },
 "nbformat": 4,
 "nbformat_minor": 2,
 "cells": [
  {
   "cell_type": "code",
   "execution_count": 66,
   "metadata": {},
   "outputs": [
    {
     "output_type": "execute_result",
     "data": {
      "text/plain": [
       "'2.3.1'"
      ]
     },
     "metadata": {},
     "execution_count": 66
    }
   ],
   "source": [
    "import pandas as pd\n",
    "import numpy as np\n",
    "import matplotlib.pyplot as plt\n",
    "import seaborn as sn\n",
    "import sklearn\n",
    "from sklearn.model_selection import train_test_split\n",
    "\n",
    "import tensorflow as tf\n",
    "tf.__version__"
   ]
  },
  {
   "cell_type": "code",
   "execution_count": 67,
   "metadata": {},
   "outputs": [],
   "source": [
    "np.random.seed(10)\n",
    "tf.compat.v1.set_random_seed(10)"
   ]
  },
  {
   "cell_type": "code",
   "execution_count": 68,
   "metadata": {},
   "outputs": [
    {
     "output_type": "display_data",
     "data": {
      "text/plain": "           kepid   kepler_name kepoi_name  koi_disposition  light_flux_0001  \\\n0     10797460.0  Kepler-227 b  K00752.01                1         1.727321   \n1     10811496.0           NaN  K00753.01                0         1.044298   \n2     10848459.0           NaN  K00754.01                0        -0.289601   \n3     10854555.0  Kepler-664 b  K00755.01                1        -0.066347   \n4     10872983.0  Kepler-228 d  K00756.01                1         0.910853   \n...          ...           ...        ...              ...              ...   \n6090  10031643.0           NaN  K07984.01                0         1.326015   \n6091  10090151.0           NaN  K07985.01                0        -0.818461   \n6092  10128825.0           NaN  K07986.01                0        -0.202417   \n6093  10147276.0           NaN  K07987.01                0         0.650887   \n6094  10156110.0           NaN  K07989.01                0         0.515398   \n\n      light_flux_0002  light_flux_0003  light_flux_0004  light_flux_0005  \\\n0            0.728728         1.125654         1.229677         1.327881   \n1            0.961948         1.000986         0.983043         0.983156   \n2           -0.370998        -0.441931        -0.410758        -0.379353   \n3           -0.019535         0.481834        -0.052898        -0.000501   \n4            0.953313         1.121489         0.641881         1.222616   \n...               ...              ...              ...              ...   \n6090        -0.237976         1.031217         1.533878         0.628377   \n6091        -0.582961        -0.804967        -0.881438        -0.608308   \n6092        -0.490636         0.925138         0.894101         1.454064   \n6093         0.889116         0.758458         0.425697         0.726841   \n6094         0.319045         0.771879         0.206895         0.714990   \n\n      light_flux_0006  ...  light_flux_0092  light_flux_0093  light_flux_0094  \\\n0            1.390140  ...         1.318587         1.390135         0.968716   \n1            1.037890  ...         1.023945         0.999707         0.986407   \n2           -0.507287  ...        -0.445697        -0.442599        -0.365730   \n3            0.402655  ...        -0.620233        -0.403630        -0.347501   \n4            0.878186  ...         1.040783         0.863073         1.246061   \n...               ...  ...              ...              ...              ...   \n6090         1.317783  ...         0.231072         0.877314         1.741571   \n6091        -0.630170  ...        -0.821112        -0.787683        -0.549940   \n6092        -0.070774  ...         1.194394        -0.265945        -0.643078   \n6093         1.090262  ...         0.987756         0.594261         0.684510   \n6094        -0.292212  ...         1.058577         0.141102        -0.132169   \n\n      light_flux_0095  light_flux_0096  light_flux_0097  light_flux_0098  \\\n0            1.285568         1.216662         0.874477         1.627442   \n1            0.980490         1.018677         0.976698         0.933617   \n2           -0.381951        -0.287742        -0.285504        -0.269432   \n3           -0.388085        -0.302855        -0.130258        -0.042718   \n4            0.969055         1.318099         1.276269         1.092889   \n...               ...              ...              ...              ...   \n6090         1.331278         1.134218         1.485683         0.323981   \n6091        -0.806678        -0.688768        -0.796852        -0.617750   \n6092         0.907540         1.074063         1.982618         0.704504   \n6093         1.125490         0.726558         0.479359        -0.267394   \n6094         0.499010         0.158405         0.809767        -1.000000   \n\n      light_flux_0099  light_flux_0100  light_flux_0101  \n0            0.960296         0.998560         1.489279  \n1            1.067080         1.002989         1.012337  \n2           -0.261419        -0.224786        -0.308863  \n3            0.674248        -0.583962         0.165856  \n4            0.842558         1.081244         0.972349  \n...               ...              ...              ...  \n6090        -0.605954         0.691033         1.012538  \n6091        -0.695399        -0.710079        -0.551582  \n6092         1.937049         0.038070         1.604524  \n6093         0.273248         1.216787         0.561130  \n6094         0.114040         0.090883         0.261374  \n\n[6095 rows x 105 columns]",
      "text/html": "<div>\n<style scoped>\n    .dataframe tbody tr th:only-of-type {\n        vertical-align: middle;\n    }\n\n    .dataframe tbody tr th {\n        vertical-align: top;\n    }\n\n    .dataframe thead th {\n        text-align: right;\n    }\n</style>\n<table border=\"1\" class=\"dataframe\">\n  <thead>\n    <tr style=\"text-align: right;\">\n      <th></th>\n      <th>kepid</th>\n      <th>kepler_name</th>\n      <th>kepoi_name</th>\n      <th>koi_disposition</th>\n      <th>light_flux_0001</th>\n      <th>light_flux_0002</th>\n      <th>light_flux_0003</th>\n      <th>light_flux_0004</th>\n      <th>light_flux_0005</th>\n      <th>light_flux_0006</th>\n      <th>...</th>\n      <th>light_flux_0092</th>\n      <th>light_flux_0093</th>\n      <th>light_flux_0094</th>\n      <th>light_flux_0095</th>\n      <th>light_flux_0096</th>\n      <th>light_flux_0097</th>\n      <th>light_flux_0098</th>\n      <th>light_flux_0099</th>\n      <th>light_flux_0100</th>\n      <th>light_flux_0101</th>\n    </tr>\n  </thead>\n  <tbody>\n    <tr>\n      <td>0</td>\n      <td>10797460.0</td>\n      <td>Kepler-227 b</td>\n      <td>K00752.01</td>\n      <td>1</td>\n      <td>1.727321</td>\n      <td>0.728728</td>\n      <td>1.125654</td>\n      <td>1.229677</td>\n      <td>1.327881</td>\n      <td>1.390140</td>\n      <td>...</td>\n      <td>1.318587</td>\n      <td>1.390135</td>\n      <td>0.968716</td>\n      <td>1.285568</td>\n      <td>1.216662</td>\n      <td>0.874477</td>\n      <td>1.627442</td>\n      <td>0.960296</td>\n      <td>0.998560</td>\n      <td>1.489279</td>\n    </tr>\n    <tr>\n      <td>1</td>\n      <td>10811496.0</td>\n      <td>NaN</td>\n      <td>K00753.01</td>\n      <td>0</td>\n      <td>1.044298</td>\n      <td>0.961948</td>\n      <td>1.000986</td>\n      <td>0.983043</td>\n      <td>0.983156</td>\n      <td>1.037890</td>\n      <td>...</td>\n      <td>1.023945</td>\n      <td>0.999707</td>\n      <td>0.986407</td>\n      <td>0.980490</td>\n      <td>1.018677</td>\n      <td>0.976698</td>\n      <td>0.933617</td>\n      <td>1.067080</td>\n      <td>1.002989</td>\n      <td>1.012337</td>\n    </tr>\n    <tr>\n      <td>2</td>\n      <td>10848459.0</td>\n      <td>NaN</td>\n      <td>K00754.01</td>\n      <td>0</td>\n      <td>-0.289601</td>\n      <td>-0.370998</td>\n      <td>-0.441931</td>\n      <td>-0.410758</td>\n      <td>-0.379353</td>\n      <td>-0.507287</td>\n      <td>...</td>\n      <td>-0.445697</td>\n      <td>-0.442599</td>\n      <td>-0.365730</td>\n      <td>-0.381951</td>\n      <td>-0.287742</td>\n      <td>-0.285504</td>\n      <td>-0.269432</td>\n      <td>-0.261419</td>\n      <td>-0.224786</td>\n      <td>-0.308863</td>\n    </tr>\n    <tr>\n      <td>3</td>\n      <td>10854555.0</td>\n      <td>Kepler-664 b</td>\n      <td>K00755.01</td>\n      <td>1</td>\n      <td>-0.066347</td>\n      <td>-0.019535</td>\n      <td>0.481834</td>\n      <td>-0.052898</td>\n      <td>-0.000501</td>\n      <td>0.402655</td>\n      <td>...</td>\n      <td>-0.620233</td>\n      <td>-0.403630</td>\n      <td>-0.347501</td>\n      <td>-0.388085</td>\n      <td>-0.302855</td>\n      <td>-0.130258</td>\n      <td>-0.042718</td>\n      <td>0.674248</td>\n      <td>-0.583962</td>\n      <td>0.165856</td>\n    </tr>\n    <tr>\n      <td>4</td>\n      <td>10872983.0</td>\n      <td>Kepler-228 d</td>\n      <td>K00756.01</td>\n      <td>1</td>\n      <td>0.910853</td>\n      <td>0.953313</td>\n      <td>1.121489</td>\n      <td>0.641881</td>\n      <td>1.222616</td>\n      <td>0.878186</td>\n      <td>...</td>\n      <td>1.040783</td>\n      <td>0.863073</td>\n      <td>1.246061</td>\n      <td>0.969055</td>\n      <td>1.318099</td>\n      <td>1.276269</td>\n      <td>1.092889</td>\n      <td>0.842558</td>\n      <td>1.081244</td>\n      <td>0.972349</td>\n    </tr>\n    <tr>\n      <td>...</td>\n      <td>...</td>\n      <td>...</td>\n      <td>...</td>\n      <td>...</td>\n      <td>...</td>\n      <td>...</td>\n      <td>...</td>\n      <td>...</td>\n      <td>...</td>\n      <td>...</td>\n      <td>...</td>\n      <td>...</td>\n      <td>...</td>\n      <td>...</td>\n      <td>...</td>\n      <td>...</td>\n      <td>...</td>\n      <td>...</td>\n      <td>...</td>\n      <td>...</td>\n      <td>...</td>\n    </tr>\n    <tr>\n      <td>6090</td>\n      <td>10031643.0</td>\n      <td>NaN</td>\n      <td>K07984.01</td>\n      <td>0</td>\n      <td>1.326015</td>\n      <td>-0.237976</td>\n      <td>1.031217</td>\n      <td>1.533878</td>\n      <td>0.628377</td>\n      <td>1.317783</td>\n      <td>...</td>\n      <td>0.231072</td>\n      <td>0.877314</td>\n      <td>1.741571</td>\n      <td>1.331278</td>\n      <td>1.134218</td>\n      <td>1.485683</td>\n      <td>0.323981</td>\n      <td>-0.605954</td>\n      <td>0.691033</td>\n      <td>1.012538</td>\n    </tr>\n    <tr>\n      <td>6091</td>\n      <td>10090151.0</td>\n      <td>NaN</td>\n      <td>K07985.01</td>\n      <td>0</td>\n      <td>-0.818461</td>\n      <td>-0.582961</td>\n      <td>-0.804967</td>\n      <td>-0.881438</td>\n      <td>-0.608308</td>\n      <td>-0.630170</td>\n      <td>...</td>\n      <td>-0.821112</td>\n      <td>-0.787683</td>\n      <td>-0.549940</td>\n      <td>-0.806678</td>\n      <td>-0.688768</td>\n      <td>-0.796852</td>\n      <td>-0.617750</td>\n      <td>-0.695399</td>\n      <td>-0.710079</td>\n      <td>-0.551582</td>\n    </tr>\n    <tr>\n      <td>6092</td>\n      <td>10128825.0</td>\n      <td>NaN</td>\n      <td>K07986.01</td>\n      <td>0</td>\n      <td>-0.202417</td>\n      <td>-0.490636</td>\n      <td>0.925138</td>\n      <td>0.894101</td>\n      <td>1.454064</td>\n      <td>-0.070774</td>\n      <td>...</td>\n      <td>1.194394</td>\n      <td>-0.265945</td>\n      <td>-0.643078</td>\n      <td>0.907540</td>\n      <td>1.074063</td>\n      <td>1.982618</td>\n      <td>0.704504</td>\n      <td>1.937049</td>\n      <td>0.038070</td>\n      <td>1.604524</td>\n    </tr>\n    <tr>\n      <td>6093</td>\n      <td>10147276.0</td>\n      <td>NaN</td>\n      <td>K07987.01</td>\n      <td>0</td>\n      <td>0.650887</td>\n      <td>0.889116</td>\n      <td>0.758458</td>\n      <td>0.425697</td>\n      <td>0.726841</td>\n      <td>1.090262</td>\n      <td>...</td>\n      <td>0.987756</td>\n      <td>0.594261</td>\n      <td>0.684510</td>\n      <td>1.125490</td>\n      <td>0.726558</td>\n      <td>0.479359</td>\n      <td>-0.267394</td>\n      <td>0.273248</td>\n      <td>1.216787</td>\n      <td>0.561130</td>\n    </tr>\n    <tr>\n      <td>6094</td>\n      <td>10156110.0</td>\n      <td>NaN</td>\n      <td>K07989.01</td>\n      <td>0</td>\n      <td>0.515398</td>\n      <td>0.319045</td>\n      <td>0.771879</td>\n      <td>0.206895</td>\n      <td>0.714990</td>\n      <td>-0.292212</td>\n      <td>...</td>\n      <td>1.058577</td>\n      <td>0.141102</td>\n      <td>-0.132169</td>\n      <td>0.499010</td>\n      <td>0.158405</td>\n      <td>0.809767</td>\n      <td>-1.000000</td>\n      <td>0.114040</td>\n      <td>0.090883</td>\n      <td>0.261374</td>\n    </tr>\n  </tbody>\n</table>\n<p>6095 rows × 105 columns</p>\n</div>"
     },
     "metadata": {}
    },
    {
     "output_type": "display_data",
     "data": {
      "text/plain": "           kepid   kepler_name kepoi_name  koi_disposition  light_flux_0001  \\\n0     10797460.0  Kepler-227 b  K00752.01                1         0.832189   \n1     10811496.0           NaN  K00753.01                0         0.966682   \n2     10848459.0           NaN  K00754.01                0         1.034104   \n3     10854555.0  Kepler-664 b  K00755.01                1         0.975071   \n4     10872983.0  Kepler-228 d  K00756.01                1         1.394998   \n...          ...           ...        ...              ...              ...   \n6090  10031643.0           NaN  K07984.01                0         0.175475   \n6091  10090151.0           NaN  K07985.01                0         0.747230   \n6092  10128825.0           NaN  K07986.01                0         0.714833   \n6093  10147276.0           NaN  K07987.01                0         1.486451   \n6094  10156110.0           NaN  K07989.01                0         1.192833   \n\n      light_flux_0002  light_flux_0003  light_flux_0004  light_flux_0005  \\\n0            0.435614         1.357075         1.108348         1.650665   \n1            0.964235         0.970539         0.937743         0.975104   \n2            0.982172         1.048199         1.078219         0.983764   \n3            1.225692         1.269809         1.771289         1.312162   \n4            1.185855         0.932441         1.230771         0.940595   \n...               ...              ...              ...              ...   \n6090         1.504283         1.318089         0.769620         0.666730   \n6091         0.915918         1.031489         0.989710         1.021699   \n6092         1.610737         0.196081         0.533665         1.053996   \n6093         1.733356         0.993478         0.776943         0.226574   \n6094         0.766126         0.736406         1.477793         0.012149   \n\n      light_flux_0006  ...  light_flux_0992  light_flux_0993  light_flux_0994  \\\n0            1.129287  ...         0.713763         1.274681         1.154911   \n1            1.039065  ...         0.943850         0.965717         0.990491   \n2            0.992431  ...         0.946015         1.010975         1.011789   \n3            1.097620  ...         1.335065         1.179038         1.002768   \n4            0.909058  ...         0.864800         0.850251         1.086740   \n...               ...  ...              ...              ...              ...   \n6090         1.008246  ...         1.378201         1.927068         1.984925   \n6091         0.867820  ...         0.755320         0.876177         0.913214   \n6092         0.873009  ...         1.082519         1.101279         1.060959   \n6093         0.407813  ...         0.898611         1.483079         1.160034   \n6094         0.776158  ...         1.085282        -0.125610         0.029371   \n\n      light_flux_0995  light_flux_0996  light_flux_0997  light_flux_0998  \\\n0            2.088258         1.059249         0.848340         1.142176   \n1            0.982717         0.985906         0.961670         1.043547   \n2            1.055202         1.038121         1.044473         1.071489   \n3            1.017255         0.823422         0.561212         1.035374   \n4            1.073562         0.930443         0.857681         1.232381   \n...               ...              ...              ...              ...   \n6090         1.130322         1.202864         0.781321         0.045358   \n6091         0.960485         1.017231         0.789195         0.809078   \n6092         1.446257         1.603752         0.875442         1.295145   \n6093         0.921238         1.509204        -0.560163         0.666612   \n6094         0.938950         0.910189         0.840100         1.161185   \n\n      light_flux_0999  light_flux_1000  light_flux_1001  \n0            0.961584         0.966640         1.044353  \n1            0.983126         1.040699         1.040926  \n2            1.053268         1.033189         1.005258  \n3            0.835232         1.615619         1.464552  \n4            1.297968         1.208948         1.079670  \n...               ...              ...              ...  \n6090         0.647927         1.207362         1.101768  \n6091         0.774575         0.872496         0.802597  \n6092         1.852598         0.230911         0.803615  \n6093         1.113881         2.175872         2.393636  \n6094         0.785235         1.680639         0.862709  \n\n[6095 rows x 1005 columns]",
      "text/html": "<div>\n<style scoped>\n    .dataframe tbody tr th:only-of-type {\n        vertical-align: middle;\n    }\n\n    .dataframe tbody tr th {\n        vertical-align: top;\n    }\n\n    .dataframe thead th {\n        text-align: right;\n    }\n</style>\n<table border=\"1\" class=\"dataframe\">\n  <thead>\n    <tr style=\"text-align: right;\">\n      <th></th>\n      <th>kepid</th>\n      <th>kepler_name</th>\n      <th>kepoi_name</th>\n      <th>koi_disposition</th>\n      <th>light_flux_0001</th>\n      <th>light_flux_0002</th>\n      <th>light_flux_0003</th>\n      <th>light_flux_0004</th>\n      <th>light_flux_0005</th>\n      <th>light_flux_0006</th>\n      <th>...</th>\n      <th>light_flux_0992</th>\n      <th>light_flux_0993</th>\n      <th>light_flux_0994</th>\n      <th>light_flux_0995</th>\n      <th>light_flux_0996</th>\n      <th>light_flux_0997</th>\n      <th>light_flux_0998</th>\n      <th>light_flux_0999</th>\n      <th>light_flux_1000</th>\n      <th>light_flux_1001</th>\n    </tr>\n  </thead>\n  <tbody>\n    <tr>\n      <td>0</td>\n      <td>10797460.0</td>\n      <td>Kepler-227 b</td>\n      <td>K00752.01</td>\n      <td>1</td>\n      <td>0.832189</td>\n      <td>0.435614</td>\n      <td>1.357075</td>\n      <td>1.108348</td>\n      <td>1.650665</td>\n      <td>1.129287</td>\n      <td>...</td>\n      <td>0.713763</td>\n      <td>1.274681</td>\n      <td>1.154911</td>\n      <td>2.088258</td>\n      <td>1.059249</td>\n      <td>0.848340</td>\n      <td>1.142176</td>\n      <td>0.961584</td>\n      <td>0.966640</td>\n      <td>1.044353</td>\n    </tr>\n    <tr>\n      <td>1</td>\n      <td>10811496.0</td>\n      <td>NaN</td>\n      <td>K00753.01</td>\n      <td>0</td>\n      <td>0.966682</td>\n      <td>0.964235</td>\n      <td>0.970539</td>\n      <td>0.937743</td>\n      <td>0.975104</td>\n      <td>1.039065</td>\n      <td>...</td>\n      <td>0.943850</td>\n      <td>0.965717</td>\n      <td>0.990491</td>\n      <td>0.982717</td>\n      <td>0.985906</td>\n      <td>0.961670</td>\n      <td>1.043547</td>\n      <td>0.983126</td>\n      <td>1.040699</td>\n      <td>1.040926</td>\n    </tr>\n    <tr>\n      <td>2</td>\n      <td>10848459.0</td>\n      <td>NaN</td>\n      <td>K00754.01</td>\n      <td>0</td>\n      <td>1.034104</td>\n      <td>0.982172</td>\n      <td>1.048199</td>\n      <td>1.078219</td>\n      <td>0.983764</td>\n      <td>0.992431</td>\n      <td>...</td>\n      <td>0.946015</td>\n      <td>1.010975</td>\n      <td>1.011789</td>\n      <td>1.055202</td>\n      <td>1.038121</td>\n      <td>1.044473</td>\n      <td>1.071489</td>\n      <td>1.053268</td>\n      <td>1.033189</td>\n      <td>1.005258</td>\n    </tr>\n    <tr>\n      <td>3</td>\n      <td>10854555.0</td>\n      <td>Kepler-664 b</td>\n      <td>K00755.01</td>\n      <td>1</td>\n      <td>0.975071</td>\n      <td>1.225692</td>\n      <td>1.269809</td>\n      <td>1.771289</td>\n      <td>1.312162</td>\n      <td>1.097620</td>\n      <td>...</td>\n      <td>1.335065</td>\n      <td>1.179038</td>\n      <td>1.002768</td>\n      <td>1.017255</td>\n      <td>0.823422</td>\n      <td>0.561212</td>\n      <td>1.035374</td>\n      <td>0.835232</td>\n      <td>1.615619</td>\n      <td>1.464552</td>\n    </tr>\n    <tr>\n      <td>4</td>\n      <td>10872983.0</td>\n      <td>Kepler-228 d</td>\n      <td>K00756.01</td>\n      <td>1</td>\n      <td>1.394998</td>\n      <td>1.185855</td>\n      <td>0.932441</td>\n      <td>1.230771</td>\n      <td>0.940595</td>\n      <td>0.909058</td>\n      <td>...</td>\n      <td>0.864800</td>\n      <td>0.850251</td>\n      <td>1.086740</td>\n      <td>1.073562</td>\n      <td>0.930443</td>\n      <td>0.857681</td>\n      <td>1.232381</td>\n      <td>1.297968</td>\n      <td>1.208948</td>\n      <td>1.079670</td>\n    </tr>\n    <tr>\n      <td>...</td>\n      <td>...</td>\n      <td>...</td>\n      <td>...</td>\n      <td>...</td>\n      <td>...</td>\n      <td>...</td>\n      <td>...</td>\n      <td>...</td>\n      <td>...</td>\n      <td>...</td>\n      <td>...</td>\n      <td>...</td>\n      <td>...</td>\n      <td>...</td>\n      <td>...</td>\n      <td>...</td>\n      <td>...</td>\n      <td>...</td>\n      <td>...</td>\n      <td>...</td>\n      <td>...</td>\n    </tr>\n    <tr>\n      <td>6090</td>\n      <td>10031643.0</td>\n      <td>NaN</td>\n      <td>K07984.01</td>\n      <td>0</td>\n      <td>0.175475</td>\n      <td>1.504283</td>\n      <td>1.318089</td>\n      <td>0.769620</td>\n      <td>0.666730</td>\n      <td>1.008246</td>\n      <td>...</td>\n      <td>1.378201</td>\n      <td>1.927068</td>\n      <td>1.984925</td>\n      <td>1.130322</td>\n      <td>1.202864</td>\n      <td>0.781321</td>\n      <td>0.045358</td>\n      <td>0.647927</td>\n      <td>1.207362</td>\n      <td>1.101768</td>\n    </tr>\n    <tr>\n      <td>6091</td>\n      <td>10090151.0</td>\n      <td>NaN</td>\n      <td>K07985.01</td>\n      <td>0</td>\n      <td>0.747230</td>\n      <td>0.915918</td>\n      <td>1.031489</td>\n      <td>0.989710</td>\n      <td>1.021699</td>\n      <td>0.867820</td>\n      <td>...</td>\n      <td>0.755320</td>\n      <td>0.876177</td>\n      <td>0.913214</td>\n      <td>0.960485</td>\n      <td>1.017231</td>\n      <td>0.789195</td>\n      <td>0.809078</td>\n      <td>0.774575</td>\n      <td>0.872496</td>\n      <td>0.802597</td>\n    </tr>\n    <tr>\n      <td>6092</td>\n      <td>10128825.0</td>\n      <td>NaN</td>\n      <td>K07986.01</td>\n      <td>0</td>\n      <td>0.714833</td>\n      <td>1.610737</td>\n      <td>0.196081</td>\n      <td>0.533665</td>\n      <td>1.053996</td>\n      <td>0.873009</td>\n      <td>...</td>\n      <td>1.082519</td>\n      <td>1.101279</td>\n      <td>1.060959</td>\n      <td>1.446257</td>\n      <td>1.603752</td>\n      <td>0.875442</td>\n      <td>1.295145</td>\n      <td>1.852598</td>\n      <td>0.230911</td>\n      <td>0.803615</td>\n    </tr>\n    <tr>\n      <td>6093</td>\n      <td>10147276.0</td>\n      <td>NaN</td>\n      <td>K07987.01</td>\n      <td>0</td>\n      <td>1.486451</td>\n      <td>1.733356</td>\n      <td>0.993478</td>\n      <td>0.776943</td>\n      <td>0.226574</td>\n      <td>0.407813</td>\n      <td>...</td>\n      <td>0.898611</td>\n      <td>1.483079</td>\n      <td>1.160034</td>\n      <td>0.921238</td>\n      <td>1.509204</td>\n      <td>-0.560163</td>\n      <td>0.666612</td>\n      <td>1.113881</td>\n      <td>2.175872</td>\n      <td>2.393636</td>\n    </tr>\n    <tr>\n      <td>6094</td>\n      <td>10156110.0</td>\n      <td>NaN</td>\n      <td>K07989.01</td>\n      <td>0</td>\n      <td>1.192833</td>\n      <td>0.766126</td>\n      <td>0.736406</td>\n      <td>1.477793</td>\n      <td>0.012149</td>\n      <td>0.776158</td>\n      <td>...</td>\n      <td>1.085282</td>\n      <td>-0.125610</td>\n      <td>0.029371</td>\n      <td>0.938950</td>\n      <td>0.910189</td>\n      <td>0.840100</td>\n      <td>1.161185</td>\n      <td>0.785235</td>\n      <td>1.680639</td>\n      <td>0.862709</td>\n    </tr>\n  </tbody>\n</table>\n<p>6095 rows × 1005 columns</p>\n</div>"
     },
     "metadata": {}
    }
   ],
   "source": [
    "# Cargo los csv\n",
    "df_local = pd.read_csv(\"./unified-lightcurves-local.csv\").iloc[:, 1:]\n",
    "df_global = pd.read_csv(\"./unified-lightcurves-global.csv\").iloc[:, 1:]\n",
    "\n",
    "display(df_local)\n",
    "display(df_global)"
   ]
  },
  {
   "cell_type": "code",
   "execution_count": 69,
   "metadata": {},
   "outputs": [],
   "source": [
    "local_fluxes = df_local.iloc[:,4:]\n",
    "local_labels = df_local.iloc[:,3]\n",
    "\n",
    "global_fluxes = df_global.iloc[:,4:]\n",
    "global_labels = df_global.iloc[:,3]"
   ]
  },
  {
   "source": [
    "## Particionado de datos"
   ],
   "cell_type": "markdown",
   "metadata": {}
  },
  {
   "cell_type": "code",
   "execution_count": 70,
   "metadata": {},
   "outputs": [],
   "source": [
    "xl_train, xl_test, yl_train, yl_test = train_test_split(\n",
    "    local_fluxes, local_labels, test_size=0.3, random_state=11)\n",
    "    \n",
    "xg_train, xg_test, yg_train, yg_test = train_test_split(\n",
    "    global_fluxes, global_labels, test_size=0.3, random_state=11)"
   ]
  },
  {
   "cell_type": "code",
   "execution_count": 71,
   "metadata": {},
   "outputs": [
    {
     "output_type": "stream",
     "name": "stdout",
     "text": [
      "(4266, 101) (1829, 101) (4266,) (1829,)\n(4266, 1001) (1829, 1001) (4266,) (1829,)\n"
     ]
    }
   ],
   "source": [
    "print(xl_train.shape, xl_test.shape, yl_train.shape, yl_test.shape)\n",
    "print(xg_train.shape, xg_test.shape, yg_train.shape, yg_test.shape)"
   ]
  },
  {
   "cell_type": "code",
   "execution_count": 72,
   "metadata": {},
   "outputs": [],
   "source": [
    "#Definimos las dimensiones\n",
    "n_outputs = 1\n",
    "nL_timesteps, nL_features  = xl_train.shape[0], xl_train.shape[1]\n",
    "nG_timesteps, nG_features  = xg_train.shape[0], xg_train.shape[1]"
   ]
  },
  {
   "cell_type": "code",
   "execution_count": 73,
   "metadata": {},
   "outputs": [
    {
     "output_type": "stream",
     "name": "stdout",
     "text": [
      "4266 101\n4266 1001\n"
     ]
    }
   ],
   "source": [
    "print(nL_timesteps, nL_features)\n",
    "print(nG_timesteps, nG_features)"
   ]
  },
  {
   "cell_type": "code",
   "execution_count": 74,
   "metadata": {},
   "outputs": [],
   "source": [
    "#Expandimos las dimensiones de train \n",
    "xle_train = np.expand_dims(xl_train,axis=-1) \n",
    "yle_train = np.array(yl_train)\n",
    "\n",
    "xge_train = np.expand_dims(xg_train,axis=-1)\n",
    "yge_train = np.array(yg_train)"
   ]
  },
  {
   "cell_type": "code",
   "execution_count": 75,
   "metadata": {},
   "outputs": [
    {
     "output_type": "stream",
     "name": "stdout",
     "text": [
      "(4266, 101) (4266,)\n(4266, 101, 1) (4266,)\n"
     ]
    }
   ],
   "source": [
    "print(xl_train.shape, yl_train.shape)\n",
    "print(xle_train.shape, yle_train.shape)"
   ]
  },
  {
   "cell_type": "code",
   "execution_count": 76,
   "metadata": {},
   "outputs": [],
   "source": [
    "#Expandimos las dimensiones de test\n",
    "xle_test = np.expand_dims(xl_test,axis=-1)\n",
    "yle_test = np.array(yl_test)\n",
    "\n",
    "xge_test = np.expand_dims(xg_test,axis=-1)\n",
    "yge_test = np.array(yg_test)"
   ]
  },
  {
   "cell_type": "code",
   "execution_count": 77,
   "metadata": {},
   "outputs": [
    {
     "output_type": "stream",
     "name": "stdout",
     "text": [
      "(1829, 101) (1829,)\n(1829, 101, 1) (1829,)\n"
     ]
    }
   ],
   "source": [
    "print(xl_test.shape, yl_test.shape)\n",
    "print(xle_test.shape, yle_test.shape)"
   ]
  },
  {
   "source": [
    "## Construcción Red Neuronal"
   ],
   "cell_type": "markdown",
   "metadata": {}
  },
  {
   "source": [
    "### Red para vistas locales"
   ],
   "cell_type": "markdown",
   "metadata": {}
  },
  {
   "cell_type": "code",
   "execution_count": 78,
   "metadata": {},
   "outputs": [],
   "source": [
    "# first input model\n",
    "inputLocalView = tf.keras.layers.Input(shape=(nL_features, 1))\n",
    "inputLocalView.set_shape([nL_timesteps, nL_features, 1]) # 4266 x 101\n",
    "\n",
    "CL1 = tf.keras.layers.Conv1D(filters=16, kernel_size=5, activation='relu')(inputLocalView)\n",
    "CL2 = tf.keras.layers.Conv1D(filters=16, kernel_size=5, activation='relu')(CL1)\n",
    "\n",
    "ML1 = tf.keras.layers.MaxPooling1D(pool_size=7, strides=2)(CL2)\n",
    "\n",
    "CL3 = tf.keras.layers.Conv1D(filters=32, kernel_size=5, activation='relu')(ML1)\n",
    "CL4 = tf.keras.layers.Conv1D(filters=32, kernel_size=5, activation='relu')(CL3)\n",
    "\n",
    "ML2 = tf.keras.layers.MaxPooling1D(pool_size=7, strides=2)(CL4)\n",
    "flat1 = tf.keras.layers.Flatten()(ML2)"
   ]
  },
  {
   "source": [
    "### Red para vistas globales"
   ],
   "cell_type": "markdown",
   "metadata": {}
  },
  {
   "cell_type": "code",
   "execution_count": 79,
   "metadata": {},
   "outputs": [],
   "source": [
    "inputGlobalView = tf.keras.layers.Input(shape=(nG_features, 1))\n",
    "inputGlobalView.set_shape([nG_timesteps, nG_features, 1])  # 4266 x 1001\n",
    "\n",
    "\n",
    "CG1 = tf.keras.layers.Conv1D(filters=16, kernel_size=5, activation='relu')(inputGlobalView)\n",
    "CG2 = tf.keras.layers.Conv1D(filters=16, kernel_size=5, activation='relu')(CG1)\n",
    "\n",
    "MG1 = tf.keras.layers.MaxPooling1D(pool_size=3, strides=2)(CG2)\n",
    "\n",
    "CG3 = tf.keras.layers.Conv1D(filters=32, kernel_size=5, activation='relu')(MG1)\n",
    "CG4 = tf.keras.layers.Conv1D(filters=32, kernel_size=5, activation='relu')(CG3)\n",
    "\n",
    "MG2 = tf.keras.layers.MaxPooling1D(pool_size=2, strides=2)(CG4)\n",
    "\n",
    "CG5 = tf.keras.layers.Conv1D(filters=64, kernel_size=5, activation='relu')(MG2)\n",
    "CG6 = tf.keras.layers.Conv1D(filters=64, kernel_size=5, activation='relu')(CG5)\n",
    "\n",
    "MG3 = tf.keras.layers.MaxPooling1D(pool_size=2, strides=2)(CG6)\n",
    "\n",
    "CG7 = tf.keras.layers.Conv1D(filters=128, kernel_size=3, activation='relu')(MG3)\n",
    "CG8 = tf.keras.layers.Conv1D(filters=128, kernel_size=3, activation='relu')(CG7)\n",
    "\n",
    "MG4 = tf.keras.layers.MaxPooling1D(pool_size=2, strides=2)(CG8)\n",
    "\n",
    "flat2 = tf.keras.layers.Flatten()(MG4)\n"
   ]
  },
  {
   "source": [
    "### Unificación de redes"
   ],
   "cell_type": "markdown",
   "metadata": {}
  },
  {
   "cell_type": "code",
   "execution_count": 80,
   "metadata": {},
   "outputs": [
    {
     "output_type": "stream",
     "name": "stdout",
     "text": [
      "Model: \"functional_9\"\n__________________________________________________________________________________________________\nLayer (type)                    Output Shape         Param #     Connected to                     \n==================================================================================================\ninput_10 (InputLayer)           [(4266, 1001, 1)]    0                                            \n__________________________________________________________________________________________________\nconv1d_52 (Conv1D)              (4266, 997, 16)      96          input_10[0][0]                   \n__________________________________________________________________________________________________\nconv1d_53 (Conv1D)              (4266, 993, 16)      1296        conv1d_52[0][0]                  \n__________________________________________________________________________________________________\nmax_pooling1d_26 (MaxPooling1D) (4266, 496, 16)      0           conv1d_53[0][0]                  \n__________________________________________________________________________________________________\nconv1d_54 (Conv1D)              (4266, 492, 32)      2592        max_pooling1d_26[0][0]           \n__________________________________________________________________________________________________\nconv1d_55 (Conv1D)              (4266, 488, 32)      5152        conv1d_54[0][0]                  \n__________________________________________________________________________________________________\ninput_9 (InputLayer)            [(4266, 101, 1)]     0                                            \n__________________________________________________________________________________________________\nmax_pooling1d_27 (MaxPooling1D) (4266, 244, 32)      0           conv1d_55[0][0]                  \n__________________________________________________________________________________________________\nconv1d_48 (Conv1D)              (4266, 97, 16)       96          input_9[0][0]                    \n__________________________________________________________________________________________________\nconv1d_56 (Conv1D)              (4266, 240, 64)      10304       max_pooling1d_27[0][0]           \n__________________________________________________________________________________________________\nconv1d_49 (Conv1D)              (4266, 93, 16)       1296        conv1d_48[0][0]                  \n__________________________________________________________________________________________________\nconv1d_57 (Conv1D)              (4266, 236, 64)      20544       conv1d_56[0][0]                  \n__________________________________________________________________________________________________\nmax_pooling1d_24 (MaxPooling1D) (4266, 44, 16)       0           conv1d_49[0][0]                  \n__________________________________________________________________________________________________\nmax_pooling1d_28 (MaxPooling1D) (4266, 118, 64)      0           conv1d_57[0][0]                  \n__________________________________________________________________________________________________\nconv1d_50 (Conv1D)              (4266, 40, 32)       2592        max_pooling1d_24[0][0]           \n__________________________________________________________________________________________________\nconv1d_58 (Conv1D)              (4266, 116, 128)     24704       max_pooling1d_28[0][0]           \n__________________________________________________________________________________________________\nconv1d_51 (Conv1D)              (4266, 36, 32)       5152        conv1d_50[0][0]                  \n__________________________________________________________________________________________________\nconv1d_59 (Conv1D)              (4266, 114, 128)     49280       conv1d_58[0][0]                  \n__________________________________________________________________________________________________\nmax_pooling1d_25 (MaxPooling1D) (4266, 15, 32)       0           conv1d_51[0][0]                  \n__________________________________________________________________________________________________\nmax_pooling1d_29 (MaxPooling1D) (4266, 57, 128)      0           conv1d_59[0][0]                  \n__________________________________________________________________________________________________\nflatten_8 (Flatten)             (4266, 480)          0           max_pooling1d_25[0][0]           \n__________________________________________________________________________________________________\nflatten_9 (Flatten)             (4266, 7296)         0           max_pooling1d_29[0][0]           \n__________________________________________________________________________________________________\nconcatenate_4 (Concatenate)     (4266, 7776)         0           flatten_8[0][0]                  \n                                                                 flatten_9[0][0]                  \n__________________________________________________________________________________________________\ndense_20 (Dense)                (4266, 256)          1990912     concatenate_4[0][0]              \n__________________________________________________________________________________________________\ndense_21 (Dense)                (4266, 256)          65792       dense_20[0][0]                   \n__________________________________________________________________________________________________\ndense_22 (Dense)                (4266, 256)          65792       dense_21[0][0]                   \n__________________________________________________________________________________________________\ndense_23 (Dense)                (4266, 256)          65792       dense_22[0][0]                   \n__________________________________________________________________________________________________\ndense_24 (Dense)                (4266, 1)            257         dense_23[0][0]                   \n==================================================================================================\nTotal params: 2,311,649\nTrainable params: 2,311,649\nNon-trainable params: 0\n__________________________________________________________________________________________________\nNone\n"
     ]
    }
   ],
   "source": [
    "# merge input models\n",
    "merge = tf.keras.layers.concatenate([flat1, flat2])\n",
    "\n",
    "# interpretation model\n",
    "hidden1 = tf.keras.layers.Dense(256, activation='relu')(merge)\n",
    "hidden2 = tf.keras.layers.Dense(256, activation='relu')(hidden1)\n",
    "hidden3 = tf.keras.layers.Dense(256, activation='relu')(hidden2)\n",
    "hidden4 = tf.keras.layers.Dense(256, activation='relu')(hidden3)\n",
    "\n",
    "output = tf.keras.layers.Dense(n_outputs, activation='tanh')(hidden4)\n",
    "\n",
    "model = tf.keras.Model(inputs=[inputLocalView,inputGlobalView], outputs=output)\n",
    "model.compile(loss='binary_crossentropy', optimizer='adam', metrics=['accuracy'])\n",
    "\n",
    "print(model.summary())"
   ]
  },
  {
   "cell_type": "code",
   "execution_count": 81,
   "metadata": {},
   "outputs": [
    {
     "output_type": "stream",
     "name": "stdout",
     "text": [
      "Epoch 1/50\n",
      "WARNING:tensorflow:Model was constructed with shape (4266, 101, 1) for input Tensor(\"input_9:0\", shape=(4266, 101, 1), dtype=float32), but it was called on an input with incompatible shape (18, 101, 1).\n",
      "WARNING:tensorflow:Model was constructed with shape (4266, 1001, 1) for input Tensor(\"input_10:0\", shape=(4266, 1001, 1), dtype=float32), but it was called on an input with incompatible shape (18, 1001, 1).\n",
      "WARNING:tensorflow:Model was constructed with shape (4266, 101, 1) for input Tensor(\"input_9:0\", shape=(4266, 101, 1), dtype=float32), but it was called on an input with incompatible shape (18, 101, 1).\n",
      "WARNING:tensorflow:Model was constructed with shape (4266, 1001, 1) for input Tensor(\"input_10:0\", shape=(4266, 1001, 1), dtype=float32), but it was called on an input with incompatible shape (18, 1001, 1).\n",
      "237/237 [==============================] - 25s 106ms/step - loss: 3.7279 - accuracy: 0.7583\n",
      "Epoch 2/50\n",
      "237/237 [==============================] - 25s 107ms/step - loss: 3.7279 - accuracy: 0.7583\n",
      "Epoch 3/50\n",
      "237/237 [==============================] - 27s 113ms/step - loss: 3.7279 - accuracy: 0.7583\n",
      "Epoch 4/50\n",
      "183/237 [======================>.......] - ETA: 5s - loss: 3.7837 - accuracy: 0.7547"
     ]
    },
    {
     "output_type": "error",
     "ename": "KeyboardInterrupt",
     "evalue": "",
     "traceback": [
      "\u001b[1;31m---------------------------------------------------------------------------\u001b[0m",
      "\u001b[1;31mKeyboardInterrupt\u001b[0m                         Traceback (most recent call last)",
      "\u001b[1;32m<ipython-input-81-da5f0fa0a716>\u001b[0m in \u001b[0;36m<module>\u001b[1;34m\u001b[0m\n\u001b[0;32m      1\u001b[0m \u001b[1;31m# divisores 4266: 1, 2, 3, 6, 9, 18, 27, 54, 79, 158, 237, 474, 711, 1422, 2133, 4266\u001b[0m\u001b[1;33m\u001b[0m\u001b[1;33m\u001b[0m\u001b[1;33m\u001b[0m\u001b[0m\n\u001b[0;32m      2\u001b[0m \u001b[0mbs\u001b[0m \u001b[1;33m=\u001b[0m \u001b[1;36m18\u001b[0m\u001b[1;33m\u001b[0m\u001b[1;33m\u001b[0m\u001b[0m\n\u001b[1;32m----> 3\u001b[1;33m \u001b[0mAjuste\u001b[0m \u001b[1;33m=\u001b[0m \u001b[0mmodel\u001b[0m\u001b[1;33m.\u001b[0m\u001b[0mfit\u001b[0m\u001b[1;33m(\u001b[0m\u001b[1;33m[\u001b[0m\u001b[0mxle_train\u001b[0m\u001b[1;33m,\u001b[0m \u001b[0mxge_train\u001b[0m\u001b[1;33m]\u001b[0m\u001b[1;33m,\u001b[0m \u001b[0myle_train\u001b[0m\u001b[1;33m,\u001b[0m \u001b[0mepochs\u001b[0m\u001b[1;33m=\u001b[0m\u001b[1;36m50\u001b[0m\u001b[1;33m,\u001b[0m \u001b[0mbatch_size\u001b[0m\u001b[1;33m=\u001b[0m\u001b[0mbs\u001b[0m\u001b[1;33m)\u001b[0m\u001b[1;33m\u001b[0m\u001b[1;33m\u001b[0m\u001b[0m\n\u001b[0m",
      "\u001b[1;32m~\\Anaconda3\\lib\\site-packages\\tensorflow\\python\\keras\\engine\\training.py\u001b[0m in \u001b[0;36m_method_wrapper\u001b[1;34m(self, *args, **kwargs)\u001b[0m\n\u001b[0;32m    106\u001b[0m   \u001b[1;32mdef\u001b[0m \u001b[0m_method_wrapper\u001b[0m\u001b[1;33m(\u001b[0m\u001b[0mself\u001b[0m\u001b[1;33m,\u001b[0m \u001b[1;33m*\u001b[0m\u001b[0margs\u001b[0m\u001b[1;33m,\u001b[0m \u001b[1;33m**\u001b[0m\u001b[0mkwargs\u001b[0m\u001b[1;33m)\u001b[0m\u001b[1;33m:\u001b[0m\u001b[1;33m\u001b[0m\u001b[1;33m\u001b[0m\u001b[0m\n\u001b[0;32m    107\u001b[0m     \u001b[1;32mif\u001b[0m \u001b[1;32mnot\u001b[0m \u001b[0mself\u001b[0m\u001b[1;33m.\u001b[0m\u001b[0m_in_multi_worker_mode\u001b[0m\u001b[1;33m(\u001b[0m\u001b[1;33m)\u001b[0m\u001b[1;33m:\u001b[0m  \u001b[1;31m# pylint: disable=protected-access\u001b[0m\u001b[1;33m\u001b[0m\u001b[1;33m\u001b[0m\u001b[0m\n\u001b[1;32m--> 108\u001b[1;33m       \u001b[1;32mreturn\u001b[0m \u001b[0mmethod\u001b[0m\u001b[1;33m(\u001b[0m\u001b[0mself\u001b[0m\u001b[1;33m,\u001b[0m \u001b[1;33m*\u001b[0m\u001b[0margs\u001b[0m\u001b[1;33m,\u001b[0m \u001b[1;33m**\u001b[0m\u001b[0mkwargs\u001b[0m\u001b[1;33m)\u001b[0m\u001b[1;33m\u001b[0m\u001b[1;33m\u001b[0m\u001b[0m\n\u001b[0m\u001b[0;32m    109\u001b[0m \u001b[1;33m\u001b[0m\u001b[0m\n\u001b[0;32m    110\u001b[0m     \u001b[1;31m# Running inside `run_distribute_coordinator` already.\u001b[0m\u001b[1;33m\u001b[0m\u001b[1;33m\u001b[0m\u001b[1;33m\u001b[0m\u001b[0m\n",
      "\u001b[1;32m~\\Anaconda3\\lib\\site-packages\\tensorflow\\python\\keras\\engine\\training.py\u001b[0m in \u001b[0;36mfit\u001b[1;34m(self, x, y, batch_size, epochs, verbose, callbacks, validation_split, validation_data, shuffle, class_weight, sample_weight, initial_epoch, steps_per_epoch, validation_steps, validation_batch_size, validation_freq, max_queue_size, workers, use_multiprocessing)\u001b[0m\n\u001b[0;32m   1096\u001b[0m                 batch_size=batch_size):\n\u001b[0;32m   1097\u001b[0m               \u001b[0mcallbacks\u001b[0m\u001b[1;33m.\u001b[0m\u001b[0mon_train_batch_begin\u001b[0m\u001b[1;33m(\u001b[0m\u001b[0mstep\u001b[0m\u001b[1;33m)\u001b[0m\u001b[1;33m\u001b[0m\u001b[1;33m\u001b[0m\u001b[0m\n\u001b[1;32m-> 1098\u001b[1;33m               \u001b[0mtmp_logs\u001b[0m \u001b[1;33m=\u001b[0m \u001b[0mtrain_function\u001b[0m\u001b[1;33m(\u001b[0m\u001b[0miterator\u001b[0m\u001b[1;33m)\u001b[0m\u001b[1;33m\u001b[0m\u001b[1;33m\u001b[0m\u001b[0m\n\u001b[0m\u001b[0;32m   1099\u001b[0m               \u001b[1;32mif\u001b[0m \u001b[0mdata_handler\u001b[0m\u001b[1;33m.\u001b[0m\u001b[0mshould_sync\u001b[0m\u001b[1;33m:\u001b[0m\u001b[1;33m\u001b[0m\u001b[1;33m\u001b[0m\u001b[0m\n\u001b[0;32m   1100\u001b[0m                 \u001b[0mcontext\u001b[0m\u001b[1;33m.\u001b[0m\u001b[0masync_wait\u001b[0m\u001b[1;33m(\u001b[0m\u001b[1;33m)\u001b[0m\u001b[1;33m\u001b[0m\u001b[1;33m\u001b[0m\u001b[0m\n",
      "\u001b[1;32m~\\Anaconda3\\lib\\site-packages\\tensorflow\\python\\eager\\def_function.py\u001b[0m in \u001b[0;36m__call__\u001b[1;34m(self, *args, **kwds)\u001b[0m\n\u001b[0;32m    778\u001b[0m       \u001b[1;32melse\u001b[0m\u001b[1;33m:\u001b[0m\u001b[1;33m\u001b[0m\u001b[1;33m\u001b[0m\u001b[0m\n\u001b[0;32m    779\u001b[0m         \u001b[0mcompiler\u001b[0m \u001b[1;33m=\u001b[0m \u001b[1;34m\"nonXla\"\u001b[0m\u001b[1;33m\u001b[0m\u001b[1;33m\u001b[0m\u001b[0m\n\u001b[1;32m--> 780\u001b[1;33m         \u001b[0mresult\u001b[0m \u001b[1;33m=\u001b[0m \u001b[0mself\u001b[0m\u001b[1;33m.\u001b[0m\u001b[0m_call\u001b[0m\u001b[1;33m(\u001b[0m\u001b[1;33m*\u001b[0m\u001b[0margs\u001b[0m\u001b[1;33m,\u001b[0m \u001b[1;33m**\u001b[0m\u001b[0mkwds\u001b[0m\u001b[1;33m)\u001b[0m\u001b[1;33m\u001b[0m\u001b[1;33m\u001b[0m\u001b[0m\n\u001b[0m\u001b[0;32m    781\u001b[0m \u001b[1;33m\u001b[0m\u001b[0m\n\u001b[0;32m    782\u001b[0m       \u001b[0mnew_tracing_count\u001b[0m \u001b[1;33m=\u001b[0m \u001b[0mself\u001b[0m\u001b[1;33m.\u001b[0m\u001b[0m_get_tracing_count\u001b[0m\u001b[1;33m(\u001b[0m\u001b[1;33m)\u001b[0m\u001b[1;33m\u001b[0m\u001b[1;33m\u001b[0m\u001b[0m\n",
      "\u001b[1;32m~\\Anaconda3\\lib\\site-packages\\tensorflow\\python\\eager\\def_function.py\u001b[0m in \u001b[0;36m_call\u001b[1;34m(self, *args, **kwds)\u001b[0m\n\u001b[0;32m    805\u001b[0m       \u001b[1;31m# In this case we have created variables on the first call, so we run the\u001b[0m\u001b[1;33m\u001b[0m\u001b[1;33m\u001b[0m\u001b[1;33m\u001b[0m\u001b[0m\n\u001b[0;32m    806\u001b[0m       \u001b[1;31m# defunned version which is guaranteed to never create variables.\u001b[0m\u001b[1;33m\u001b[0m\u001b[1;33m\u001b[0m\u001b[1;33m\u001b[0m\u001b[0m\n\u001b[1;32m--> 807\u001b[1;33m       \u001b[1;32mreturn\u001b[0m \u001b[0mself\u001b[0m\u001b[1;33m.\u001b[0m\u001b[0m_stateless_fn\u001b[0m\u001b[1;33m(\u001b[0m\u001b[1;33m*\u001b[0m\u001b[0margs\u001b[0m\u001b[1;33m,\u001b[0m \u001b[1;33m**\u001b[0m\u001b[0mkwds\u001b[0m\u001b[1;33m)\u001b[0m  \u001b[1;31m# pylint: disable=not-callable\u001b[0m\u001b[1;33m\u001b[0m\u001b[1;33m\u001b[0m\u001b[0m\n\u001b[0m\u001b[0;32m    808\u001b[0m     \u001b[1;32melif\u001b[0m \u001b[0mself\u001b[0m\u001b[1;33m.\u001b[0m\u001b[0m_stateful_fn\u001b[0m \u001b[1;32mis\u001b[0m \u001b[1;32mnot\u001b[0m \u001b[1;32mNone\u001b[0m\u001b[1;33m:\u001b[0m\u001b[1;33m\u001b[0m\u001b[1;33m\u001b[0m\u001b[0m\n\u001b[0;32m    809\u001b[0m       \u001b[1;31m# Release the lock early so that multiple threads can perform the call\u001b[0m\u001b[1;33m\u001b[0m\u001b[1;33m\u001b[0m\u001b[1;33m\u001b[0m\u001b[0m\n",
      "\u001b[1;32m~\\Anaconda3\\lib\\site-packages\\tensorflow\\python\\eager\\function.py\u001b[0m in \u001b[0;36m__call__\u001b[1;34m(self, *args, **kwargs)\u001b[0m\n\u001b[0;32m   2827\u001b[0m     \u001b[1;32mwith\u001b[0m \u001b[0mself\u001b[0m\u001b[1;33m.\u001b[0m\u001b[0m_lock\u001b[0m\u001b[1;33m:\u001b[0m\u001b[1;33m\u001b[0m\u001b[1;33m\u001b[0m\u001b[0m\n\u001b[0;32m   2828\u001b[0m       \u001b[0mgraph_function\u001b[0m\u001b[1;33m,\u001b[0m \u001b[0margs\u001b[0m\u001b[1;33m,\u001b[0m \u001b[0mkwargs\u001b[0m \u001b[1;33m=\u001b[0m \u001b[0mself\u001b[0m\u001b[1;33m.\u001b[0m\u001b[0m_maybe_define_function\u001b[0m\u001b[1;33m(\u001b[0m\u001b[0margs\u001b[0m\u001b[1;33m,\u001b[0m \u001b[0mkwargs\u001b[0m\u001b[1;33m)\u001b[0m\u001b[1;33m\u001b[0m\u001b[1;33m\u001b[0m\u001b[0m\n\u001b[1;32m-> 2829\u001b[1;33m     \u001b[1;32mreturn\u001b[0m \u001b[0mgraph_function\u001b[0m\u001b[1;33m.\u001b[0m\u001b[0m_filtered_call\u001b[0m\u001b[1;33m(\u001b[0m\u001b[0margs\u001b[0m\u001b[1;33m,\u001b[0m \u001b[0mkwargs\u001b[0m\u001b[1;33m)\u001b[0m  \u001b[1;31m# pylint: disable=protected-access\u001b[0m\u001b[1;33m\u001b[0m\u001b[1;33m\u001b[0m\u001b[0m\n\u001b[0m\u001b[0;32m   2830\u001b[0m \u001b[1;33m\u001b[0m\u001b[0m\n\u001b[0;32m   2831\u001b[0m   \u001b[1;33m@\u001b[0m\u001b[0mproperty\u001b[0m\u001b[1;33m\u001b[0m\u001b[1;33m\u001b[0m\u001b[0m\n",
      "\u001b[1;32m~\\Anaconda3\\lib\\site-packages\\tensorflow\\python\\eager\\function.py\u001b[0m in \u001b[0;36m_filtered_call\u001b[1;34m(self, args, kwargs, cancellation_manager)\u001b[0m\n\u001b[0;32m   1846\u001b[0m                            resource_variable_ops.BaseResourceVariable))],\n\u001b[0;32m   1847\u001b[0m         \u001b[0mcaptured_inputs\u001b[0m\u001b[1;33m=\u001b[0m\u001b[0mself\u001b[0m\u001b[1;33m.\u001b[0m\u001b[0mcaptured_inputs\u001b[0m\u001b[1;33m,\u001b[0m\u001b[1;33m\u001b[0m\u001b[1;33m\u001b[0m\u001b[0m\n\u001b[1;32m-> 1848\u001b[1;33m         cancellation_manager=cancellation_manager)\n\u001b[0m\u001b[0;32m   1849\u001b[0m \u001b[1;33m\u001b[0m\u001b[0m\n\u001b[0;32m   1850\u001b[0m   \u001b[1;32mdef\u001b[0m \u001b[0m_call_flat\u001b[0m\u001b[1;33m(\u001b[0m\u001b[0mself\u001b[0m\u001b[1;33m,\u001b[0m \u001b[0margs\u001b[0m\u001b[1;33m,\u001b[0m \u001b[0mcaptured_inputs\u001b[0m\u001b[1;33m,\u001b[0m \u001b[0mcancellation_manager\u001b[0m\u001b[1;33m=\u001b[0m\u001b[1;32mNone\u001b[0m\u001b[1;33m)\u001b[0m\u001b[1;33m:\u001b[0m\u001b[1;33m\u001b[0m\u001b[1;33m\u001b[0m\u001b[0m\n",
      "\u001b[1;32m~\\Anaconda3\\lib\\site-packages\\tensorflow\\python\\eager\\function.py\u001b[0m in \u001b[0;36m_call_flat\u001b[1;34m(self, args, captured_inputs, cancellation_manager)\u001b[0m\n\u001b[0;32m   1922\u001b[0m       \u001b[1;31m# No tape is watching; skip to running the function.\u001b[0m\u001b[1;33m\u001b[0m\u001b[1;33m\u001b[0m\u001b[1;33m\u001b[0m\u001b[0m\n\u001b[0;32m   1923\u001b[0m       return self._build_call_outputs(self._inference_function.call(\n\u001b[1;32m-> 1924\u001b[1;33m           ctx, args, cancellation_manager=cancellation_manager))\n\u001b[0m\u001b[0;32m   1925\u001b[0m     forward_backward = self._select_forward_and_backward_functions(\n\u001b[0;32m   1926\u001b[0m         \u001b[0margs\u001b[0m\u001b[1;33m,\u001b[0m\u001b[1;33m\u001b[0m\u001b[1;33m\u001b[0m\u001b[0m\n",
      "\u001b[1;32m~\\Anaconda3\\lib\\site-packages\\tensorflow\\python\\eager\\function.py\u001b[0m in \u001b[0;36mcall\u001b[1;34m(self, ctx, args, cancellation_manager)\u001b[0m\n\u001b[0;32m    548\u001b[0m               \u001b[0minputs\u001b[0m\u001b[1;33m=\u001b[0m\u001b[0margs\u001b[0m\u001b[1;33m,\u001b[0m\u001b[1;33m\u001b[0m\u001b[1;33m\u001b[0m\u001b[0m\n\u001b[0;32m    549\u001b[0m               \u001b[0mattrs\u001b[0m\u001b[1;33m=\u001b[0m\u001b[0mattrs\u001b[0m\u001b[1;33m,\u001b[0m\u001b[1;33m\u001b[0m\u001b[1;33m\u001b[0m\u001b[0m\n\u001b[1;32m--> 550\u001b[1;33m               ctx=ctx)\n\u001b[0m\u001b[0;32m    551\u001b[0m         \u001b[1;32melse\u001b[0m\u001b[1;33m:\u001b[0m\u001b[1;33m\u001b[0m\u001b[1;33m\u001b[0m\u001b[0m\n\u001b[0;32m    552\u001b[0m           outputs = execute.execute_with_cancellation(\n",
      "\u001b[1;32m~\\Anaconda3\\lib\\site-packages\\tensorflow\\python\\eager\\execute.py\u001b[0m in \u001b[0;36mquick_execute\u001b[1;34m(op_name, num_outputs, inputs, attrs, ctx, name)\u001b[0m\n\u001b[0;32m     58\u001b[0m     \u001b[0mctx\u001b[0m\u001b[1;33m.\u001b[0m\u001b[0mensure_initialized\u001b[0m\u001b[1;33m(\u001b[0m\u001b[1;33m)\u001b[0m\u001b[1;33m\u001b[0m\u001b[1;33m\u001b[0m\u001b[0m\n\u001b[0;32m     59\u001b[0m     tensors = pywrap_tfe.TFE_Py_Execute(ctx._handle, device_name, op_name,\n\u001b[1;32m---> 60\u001b[1;33m                                         inputs, attrs, num_outputs)\n\u001b[0m\u001b[0;32m     61\u001b[0m   \u001b[1;32mexcept\u001b[0m \u001b[0mcore\u001b[0m\u001b[1;33m.\u001b[0m\u001b[0m_NotOkStatusException\u001b[0m \u001b[1;32mas\u001b[0m \u001b[0me\u001b[0m\u001b[1;33m:\u001b[0m\u001b[1;33m\u001b[0m\u001b[1;33m\u001b[0m\u001b[0m\n\u001b[0;32m     62\u001b[0m     \u001b[1;32mif\u001b[0m \u001b[0mname\u001b[0m \u001b[1;32mis\u001b[0m \u001b[1;32mnot\u001b[0m \u001b[1;32mNone\u001b[0m\u001b[1;33m:\u001b[0m\u001b[1;33m\u001b[0m\u001b[1;33m\u001b[0m\u001b[0m\n",
      "\u001b[1;31mKeyboardInterrupt\u001b[0m: "
     ]
    }
   ],
   "source": [
    "# divisores 4266: 1, 2, 3, 6, 9, 18, 27, 54, 79, 158, 237, 474, 711, 1422, 2133, 4266\n",
    "bs = 474\n",
    "Ajuste = model.fit([xle_train, xge_train], yle_train, epochs=50, batch_size=bs)"
   ]
  },
  {
   "cell_type": "code",
   "execution_count": 257,
   "metadata": {},
   "outputs": [
    {
     "output_type": "display_data",
     "data": {
      "text/plain": "array([1.9541033e-01, 8.8378060e-01, 2.0661591e-01, ..., 7.9641171e-02,\n       2.3715198e-04, 1.4054148e-01], dtype=float32)"
     },
     "metadata": {}
    }
   ],
   "source": [
    "y_pred_keras = model.predict([xle_test,xge_test]).ravel()\n",
    "display(y_pred_keras)"
   ]
  },
  {
   "cell_type": "code",
   "execution_count": 258,
   "metadata": {},
   "outputs": [
    {
     "output_type": "stream",
     "name": "stdout",
     "text": [
      "Best Threshold=0.196187, G-Mean=0.695\n"
     ]
    }
   ],
   "source": [
    "# Defino las métricas\n",
    "fpr_keras, tpr_keras, thresholds_keras = roc_curve(yle_test, y_pred_keras)\n",
    "auc_keras = auc(fpr_keras, tpr_keras)\n",
    "gmeans = np.sqrt(tpr_keras * (1-fpr_keras))\n",
    "\n",
    "# localiza el índice del mayor g-mean\n",
    "ix = argmax(gmeans)\n",
    "print('Best Threshold=%f, G-Mean=%.3f' % (thresholds_keras[ix], gmeans[ix]))\n"
   ]
  },
  {
   "source": [
    "# \"#############\"\n"
   ],
   "cell_type": "markdown",
   "metadata": {}
  },
  {
   "cell_type": "code",
   "execution_count": null,
   "metadata": {},
   "outputs": [],
   "source": [
    "#Umbral estándar\n",
    "labels_Standart = (y_pred_keras >= 0.5).astype(np.int)\n",
    "PhiM_Standart = matthews_corrcoef(yle_test, labels_Standart)\n",
    "Matrix_Standart = confusion_matrix(yle_test, labels_Standart)\n",
    "\n",
    "#Imprimo por pantalla las métricas\n",
    "auc_keras, PhiM_Standart, print(Matrix_Standart)\n"
   ]
  },
  {
   "cell_type": "code",
   "execution_count": null,
   "metadata": {},
   "outputs": [],
   "source": [
    "#Umbral OPT\n",
    "labels_OPT =(y_pred_keras >= thresholds_keras[ix]).astype(np.int)\n",
    "PhiCoeff_OPT = matthews_corrcoef(yle_test, labels_OPT)\n",
    "Matrix_OPT = confusion_matrix(yle_test, labels_OPT)\n",
    "F_Measure_OPT = f1_score(yle_test, labels_OPT, average='binary')\n",
    "Accuracy_OPT= accuracy_score(yle_test, labels_OPT, normalize=True)\n",
    "Recall_OPT= recall_score(yle_test, labels_OPT, average=None)\n",
    "Average_precision_OPT= average_precision_score(yle_test, labels_OPT)\n",
    "\n",
    "\n",
    "#Imprimo por pantalla las métricas\n",
    "print(\"AUC:\", auc_keras)\n",
    "print(\"F_Measure:\", F_Measure_OPT)\n",
    "print(\"PhiCoeff:\", PhiCoeff_OPT)\n",
    "print(\"Average_precision:\", Average_precision_OPT)\n",
    "print(\"Accuracy:\", Accuracy_OPT)\n",
    "print(\"Recall:\", Recall_OPT)\n",
    "print(\"Matriz de confusión:\")\n",
    "print( Matrix_OPT)\n"
   ]
  },
  {
   "cell_type": "code",
   "execution_count": null,
   "metadata": {},
   "outputs": [],
   "source": [
    "#Ploteo la matrix de confusión\n",
    "import seaborn as sn\n",
    "df_cm = pd.DataFrame(Matrix_OPT, index = [i for i in \"01\"],\n",
    "                  columns = [i for i in \"01\"])\n",
    "\n",
    "plt.figure(0.5)\n",
    "heat_map = sn.heatmap(df_cm, xticklabels=True, yticklabels=True, annot=True, annot_kws = {\"ha\": 'center',\"va\": 'bottom'},cbar=False)\n",
    "#heat_map.set_yticklabels(heat_map.get_yticklabels(), rotation=0)\n",
    "plt.xlabel('Predicted')\n",
    "plt.ylabel('Actual')\n",
    "\n",
    "for text in heat_map.texts:\n",
    "    text.set_size(14)\n",
    "    text.set_weight('bold')\n",
    "    if text.get_text() == '5':\n",
    "        text.set_color('black')\n"
   ]
  },
  {
   "cell_type": "code",
   "execution_count": null,
   "metadata": {},
   "outputs": [],
   "source": [
    "plt.figure(1)\n",
    "plt.plot([0, 1], [0, 1], 'k--')\n",
    "plt.plot(fpr_keras, tpr_keras, label='CNN (area = {:.3f})'.format(auc_keras))\n",
    "plt.scatter(fpr_keras[ix], tpr_keras[ix], marker='o', color='black', label='Best')\n",
    "plt.xlabel('False positive rate')\n",
    "plt.ylabel('True positive rate')\n",
    "plt.title('ROC curve')\n",
    "plt.legend(loc='best')\n"
   ]
  },
  {
   "cell_type": "code",
   "execution_count": null,
   "metadata": {},
   "outputs": [],
   "source": [
    "y_pred_keras_tot = np.array([])\n",
    "y_pred_rf_tot = np.array([])\n",
    "y_test_total = np.array([])\n",
    "\n",
    "xl_train, xl_test, yl_train, yl_test = train_test_split(LocalView.iloc[:,2:], LocalView.iloc[:,1], test_size=0.3, random_state=11)\n",
    "xg_train, xg_test, yg_train, yg_test = train_test_split(GlobalView.iloc[:,2:], GlobalView.iloc[:,1], test_size=0.3, random_state=11)\n",
    "xs_train, xs_test, ys_train, ys_test = train_test_split(StellarParam6P.iloc[:,2:], StellarParam6P.iloc[:,1], test_size=0.3, random_state=11)\n",
    "    \n",
    "   \n",
    "    #Definimos las dimensiones\n",
    "n_outputs = 1\n",
    "nL_timesteps, nL_features  = xl_train.shape[0], xl_train.shape[1]\n",
    "nG_timesteps, nG_features  = xg_train.shape[0], xg_train.shape[1]\n",
    "nS_timesteps, nS_features  = xs_train.shape[0], xs_train.shape[1]\n",
    "      \n",
    "    #Expandimos las dimensiones\n",
    "xle_train = np.expand_dims(xl_train,axis=-1) # axis=-3 para que se adapte a la forma del tensor\n",
    "yle_train = np.array(yl_train) # Hay que trasponer \n",
    "xge_train = np.expand_dims(xg_train,axis=-1)\n",
    "yge_train = np.array(yg_train)\n",
    "xse_train = np.expand_dims(xs_train,axis=-1)\n",
    "yse_train = np.array(ys_train)\n",
    "    \n",
    "    \n",
    "    # Multiple Inputs\n",
    "\n",
    "    # first input model\n",
    "inputLocalView = Input(shape=(nL_features, 1))\n",
    "inputLocalView.set_shape([nL_timesteps, nL_features, 1])\n",
    "\n",
    "CL1 = Conv1D(filters=16, kernel_size=5, activation='relu')(inputLocalView)\n",
    "CL2 = Conv1D(filters=16, kernel_size=5, activation='relu')(CL1)\n",
    "\n",
    "ML1 = MaxPooling1D(pool_size=7, strides=2)(CL2)\n",
    "\n",
    "CL3 = Conv1D(filters=32, kernel_size=5, activation='relu')(ML1)\n",
    "CL4 = Conv1D(filters=32, kernel_size=5, activation='relu')(CL3)\n",
    "\n",
    "ML2 = MaxPooling1D(pool_size=7, strides=2)(CL4)\n",
    "flat1 = Flatten()(ML2)\n",
    "\n",
    "    # second input model\n",
    "\n",
    "inputGlobalView = Input(shape=(nG_features, 1))\n",
    "inputGlobalView.set_shape([nG_timesteps, nG_features, 1])\n",
    "\n",
    "CG1 = Conv1D(filters=16, kernel_size=5, activation='relu')(inputGlobalView)\n",
    "CG2 = Conv1D(filters=16, kernel_size=5, activation='relu')(CG1)\n",
    "\n",
    "MG1 = MaxPooling1D(pool_size=3, strides=2)(CG2)\n",
    "\n",
    "CG3 = Conv1D(filters=32, kernel_size=5, activation='relu')(MG1)\n",
    "CG4 = Conv1D(filters=32, kernel_size=5, activation='relu')(CG3)\n",
    "\n",
    "MG2 = MaxPooling1D(pool_size=2, strides=2)(CG4)\n",
    "\n",
    "CG5 = Conv1D(filters=64, kernel_size=5, activation='relu')(MG2)\n",
    "CG6 = Conv1D(filters=64, kernel_size=5, activation='relu')(CG5)\n",
    "\n",
    "MG3 = MaxPooling1D(pool_size=2, strides=2)(CG6)\n",
    "\n",
    "CG7 = Conv1D(filters=128, kernel_size=3, activation='relu')(MG3)\n",
    "CG8 = Conv1D(filters=128, kernel_size=3, activation='relu')(CG7)\n",
    "\n",
    "MG4 = MaxPooling1D(pool_size=2, strides=2)(CG8)\n",
    "\n",
    "flat2 = Flatten()(MG4)\n",
    "\n",
    "    # third input model\n",
    "\n",
    "StellarParam6PInput = Input(shape=(nS_features, 1))\n",
    "StellarParam6PInput.set_shape([nS_timesteps, nS_features, 1])\n",
    "\n",
    "    #StellarParam6PInput=(nS_features,1)\n",
    "flat3 = Flatten()(StellarParam6PInput)\n",
    "    # merge input models\n",
    "merge = concatenate([flat1, flat2, flat3])\n",
    "\n",
    "    # interpretation model\n",
    "hidden1 = Dense(256, activation='relu')(merge)\n",
    "hidden2 = Dense(256, activation='relu')(hidden1)\n",
    "hidden3 = Dense(256, activation='relu')(hidden2)\n",
    "hidden4 = Dense(256, activation='relu')(hidden3)\n",
    " #2output = Dense(n_outputs, activation='tanh')(hidden4)\n",
    "output = Dense(n_outputs, activation='tanh')(hidden4)\n",
    "model = Model(inputs=[inputLocalView, inputGlobalView,StellarParam6PInput], outputs=output)\n",
    "    #loss='binary_crossentropy', optimizer='adam', metrics=['accuracy', 'ce']\n",
    "model.compile(loss='binary_crossentropy', optimizer='adadelta', metrics=['accuracy'])\n",
    "    #loss_weights=['main_output': 1., 'aux_output': 0.2]) por si queremos darles pesos diferentes\n",
    "\n",
    "batch_size=119\n",
    "\n",
    "#Aumento número de muestras\n",
    "for i in range(10):\n",
    "    \n",
    "    print(i)\n",
    "    \n",
    "    # Divido entre entrenamiento y test\n",
    "    xl_train, xl_test, yl_train, yl_test = train_test_split(LocalView.iloc[:,2:], LocalView.iloc[:,1], test_size=0.3, random_state=11+i)\n",
    "    xg_train, xg_test, yg_train, yg_test = train_test_split(GlobalView.iloc[:,2:], GlobalView.iloc[:,1], test_size=0.3, random_state=11+i)\n",
    "    xs_train, xs_test, ys_train, ys_test = train_test_split(StellarParam6P.iloc[:,2:], StellarParam6P.iloc[:,1], test_size=0.3, random_state=11+i)\n",
    "    \n",
    "  \n",
    "    # fit forma 2\n",
    "    FIT = model.fit([xle_train, xge_train, xse_train], yle_train,\n",
    "          epochs=50, batch_size=batch_size, verbose=0)\n",
    "    \n",
    "    xle_test = np.expand_dims(xl_test,axis=-1)\n",
    "    yle_test = np.array(yl_test) \n",
    "    xge_test = np.expand_dims(xg_test,axis=-1)\n",
    "    yge_test = np.array(yg_test)\n",
    "    xse_test = np.expand_dims(xs_test,axis=-1)\n",
    "    yse_test = np.array(ys_test)\n",
    "    \n",
    "    \n",
    "    # Creo la RoC\n",
    "    y_pred_kerasC = model.predict([xle_test,xge_test,xse_test]).ravel()\n",
    "    \n",
    "    \n",
    "    #Lleno los vectores totales\n",
    "    y_pred_keras_tot = np.concatenate((y_pred_keras_tot,y_pred_kerasC))\n",
    "    \n",
    "    y_test_total = np.concatenate((y_test_total,yle_test))\n"
   ]
  },
  {
   "cell_type": "code",
   "execution_count": null,
   "metadata": {},
   "outputs": [],
   "source": [
    "# Defino las métricas\n",
    "\n",
    "fpr_kerasTotal, tpr_kerasTotal, thresholds_kerasTotal = roc_curve(y_test_total, y_pred_keras_tot)\n",
    "auc_kerasTotal = auc(fpr_kerasTotal, tpr_kerasTotal)\n",
    "gmeans = np.sqrt(tpr_kerasTotal * (1-fpr_kerasTotal))\n",
    "# localiza el índice del mayor g-mean\n",
    "ix = argmax(gmeans)\n",
    "print('Best Threshold=%f, G-Mean=%.3f' % (thresholds_kerasTotal[ix], gmeans[ix]))\n"
   ]
  },
  {
   "cell_type": "code",
   "execution_count": null,
   "metadata": {},
   "outputs": [],
   "source": [
    "#Umbral estándar\n",
    "labels_Standart = (y_pred_keras_tot >= 0.5).astype(np.int)\n",
    "PhiCoeff_Standart = matthews_corrcoef(y_test_total, labels_Standart)\n",
    "Matrix_Standart = confusion_matrix(y_test_total, labels_Standart)\n",
    "F_Measure_Standart = f1_score(y_test_total, labels_Standart, average='binary')\n",
    "\n",
    "#Imprimo por pantalla las métricas\n",
    "auc_kerasTotal, PhiM_Standart,F_Measure_Standart, print(Matrix_Standart)\n"
   ]
  },
  {
   "cell_type": "code",
   "execution_count": null,
   "metadata": {},
   "outputs": [],
   "source": [
    "#Umbral OPT\n",
    "labels_OPT =(y_pred_keras_tot >= thresholds_kerasTotal[ix]).astype(np.int)\n",
    "PhiCoeff_OPT = matthews_corrcoef(y_test_total, labels_OPT)\n",
    "Matrix_OPT = confusion_matrix(y_test_total, labels_OPT)\n",
    "F_Measure_OPT = f1_score(y_test_total, labels_OPT, average='binary')\n",
    "Accuracy_OPT= accuracy_score(y_test_total, labels_OPT, normalize=True)\n",
    "Recall_OPT= recall_score(y_test_total, labels_OPT, average=None)\n",
    "Average_precision_OPT= average_precision_score(y_test_total, labels_OPT)\n",
    "\n",
    "\n",
    "#Imprimo por pantalla las métricas\n",
    "print(\"AUC:\", auc_kerasTotal)\n",
    "print(\"F_Measure:\", F_Measure_OPT)\n",
    "print(\"PhiCoeff:\", PhiCoeff_OPT)\n",
    "print(\"Average_precision:\", Average_precision_OPT)\n",
    "print(\"Accuracy:\", Accuracy_OPT)\n",
    "print(\"Recall:\", Recall_OPT)\n",
    "print(\"Matriz de confusión:\")\n",
    "print( Matrix_OPT)\n"
   ]
  },
  {
   "cell_type": "code",
   "execution_count": null,
   "metadata": {},
   "outputs": [],
   "source": [
    "#Ploteo la matrix de confusión\n",
    "\n",
    "df_cm_OPT = pd.DataFrame(Matrix_OPT, index = [i for i in \"01\"],\n",
    "                  columns = [i for i in \"01\"])\n",
    "plt.figure(0.5)\n",
    "heat_map = sn.heatmap(df_cm_OPT, xticklabels=True, yticklabels=True, annot=True, fmt='g', annot_kws = {\"ha\": 'center',\"va\": 'bottom'},cbar=False)\n",
    "#heat_map.set_yticklabels(heat_map.get_yticklabels(), rotation=0)\n",
    "plt.xlabel('Predicted')\n",
    "plt.ylabel('Actual')\n",
    "\n",
    "for text in heat_map.texts:\n",
    "    text.set_size(14)\n",
    "    text.set_weight('bold')\n",
    "    if text.get_text() == '33':\n",
    "        text.set_color('black')\n"
   ]
  },
  {
   "cell_type": "code",
   "execution_count": null,
   "metadata": {},
   "outputs": [],
   "source": [
    "plt.figure(1)\n",
    "plt.plot([0, 1], [0, 1], 'k--')\n",
    "plt.plot(fpr_kerasTotal, tpr_kerasTotal,  color='green', label='Tanh/Adadelta = {:.3f})'.format(auc_kerasTotal))\n",
    "plt.scatter(fpr_kerasTotal[ix], tpr_kerasTotal[ix], marker='o', color='black', label='Best')\n",
    "plt.xlabel('False positive rate')\n",
    "plt.ylabel('True positive rate')\n",
    "plt.title('ROC curve')\n",
    "plt.legend(loc='best')\n",
    "plt.show()"
   ]
  },
  {
   "cell_type": "code",
   "execution_count": null,
   "metadata": {},
   "outputs": [],
   "source": []
  },
  {
   "cell_type": "code",
   "execution_count": null,
   "metadata": {},
   "outputs": [],
   "source": []
  }
 ]
}