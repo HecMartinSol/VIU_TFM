{
 "metadata": {
  "language_info": {
   "codemirror_mode": {
    "name": "ipython",
    "version": 3
   },
   "file_extension": ".py",
   "mimetype": "text/x-python",
   "name": "python",
   "nbconvert_exporter": "python",
   "pygments_lexer": "ipython3",
   "version": "3.7.4-final"
  },
  "orig_nbformat": 2,
  "kernelspec": {
   "name": "Python 3.7.4 64-bit ('base': conda)",
   "display_name": "Python 3.7.4 64-bit ('base': conda)",
   "metadata": {
    "interpreter": {
     "hash": "f958bdd04a238e53230fa8372db10ddee88fbe838d3660515cd74e50e6d77f98"
    }
   }
  }
 },
 "nbformat": 4,
 "nbformat_minor": 2,
 "cells": [
  {
   "cell_type": "code",
   "execution_count": 41,
   "metadata": {},
   "outputs": [
    {
     "output_type": "execute_result",
     "data": {
      "text/plain": [
       "'2.3.1'"
      ]
     },
     "metadata": {},
     "execution_count": 41
    }
   ],
   "source": [
    "import pandas as pd\n",
    "import numpy as np\n",
    "import matplotlib.pyplot as plt\n",
    "import seaborn as sn\n",
    "import sklearn\n",
    "from sklearn.model_selection import train_test_split\n",
    "\n",
    "import tensorflow as tf\n",
    "tf.__version__"
   ]
  },
  {
   "cell_type": "code",
   "execution_count": 42,
   "metadata": {},
   "outputs": [],
   "source": [
    "np.random.seed(10)\n",
    "tf.compat.v1.set_random_seed(10)"
   ]
  },
  {
   "cell_type": "code",
   "execution_count": 43,
   "metadata": {},
   "outputs": [
    {
     "output_type": "display_data",
     "data": {
      "text/plain": "           kepid   kepler_name kepoi_name  koi_disposition  light_flux_0001  \\\n0     10797460.0  Kepler-227 b  K00752.01                1         1.727321   \n1     10811496.0           NaN  K00753.01                0         1.044298   \n2     10848459.0           NaN  K00754.01                0        -0.289601   \n3     10854555.0  Kepler-664 b  K00755.01                1        -0.066347   \n4     10872983.0  Kepler-228 d  K00756.01                1         0.910853   \n...          ...           ...        ...              ...              ...   \n6090  10031643.0           NaN  K07984.01                0         1.326015   \n6091  10090151.0           NaN  K07985.01                0        -0.818461   \n6092  10128825.0           NaN  K07986.01                0        -0.202417   \n6093  10147276.0           NaN  K07987.01                0         0.650887   \n6094  10156110.0           NaN  K07989.01                0         0.515398   \n\n      light_flux_0002  light_flux_0003  light_flux_0004  light_flux_0005  \\\n0            0.728728         1.125654         1.229677         1.327881   \n1            0.961948         1.000986         0.983043         0.983156   \n2           -0.370998        -0.441931        -0.410758        -0.379353   \n3           -0.019535         0.481834        -0.052898        -0.000501   \n4            0.953313         1.121489         0.641881         1.222616   \n...               ...              ...              ...              ...   \n6090        -0.237976         1.031217         1.533878         0.628377   \n6091        -0.582961        -0.804967        -0.881438        -0.608308   \n6092        -0.490636         0.925138         0.894101         1.454064   \n6093         0.889116         0.758458         0.425697         0.726841   \n6094         0.319045         0.771879         0.206895         0.714990   \n\n      light_flux_0006  ...  light_flux_0092  light_flux_0093  light_flux_0094  \\\n0            1.390140  ...         1.318587         1.390135         0.968716   \n1            1.037890  ...         1.023945         0.999707         0.986407   \n2           -0.507287  ...        -0.445697        -0.442599        -0.365730   \n3            0.402655  ...        -0.620233        -0.403630        -0.347501   \n4            0.878186  ...         1.040783         0.863073         1.246061   \n...               ...  ...              ...              ...              ...   \n6090         1.317783  ...         0.231072         0.877314         1.741571   \n6091        -0.630170  ...        -0.821112        -0.787683        -0.549940   \n6092        -0.070774  ...         1.194394        -0.265945        -0.643078   \n6093         1.090262  ...         0.987756         0.594261         0.684510   \n6094        -0.292212  ...         1.058577         0.141102        -0.132169   \n\n      light_flux_0095  light_flux_0096  light_flux_0097  light_flux_0098  \\\n0            1.285568         1.216662         0.874477         1.627442   \n1            0.980490         1.018677         0.976698         0.933617   \n2           -0.381951        -0.287742        -0.285504        -0.269432   \n3           -0.388085        -0.302855        -0.130258        -0.042718   \n4            0.969055         1.318099         1.276269         1.092889   \n...               ...              ...              ...              ...   \n6090         1.331278         1.134218         1.485683         0.323981   \n6091        -0.806678        -0.688768        -0.796852        -0.617750   \n6092         0.907540         1.074063         1.982618         0.704504   \n6093         1.125490         0.726558         0.479359        -0.267394   \n6094         0.499010         0.158405         0.809767        -1.000000   \n\n      light_flux_0099  light_flux_0100  light_flux_0101  \n0            0.960296         0.998560         1.489279  \n1            1.067080         1.002989         1.012337  \n2           -0.261419        -0.224786        -0.308863  \n3            0.674248        -0.583962         0.165856  \n4            0.842558         1.081244         0.972349  \n...               ...              ...              ...  \n6090        -0.605954         0.691033         1.012538  \n6091        -0.695399        -0.710079        -0.551582  \n6092         1.937049         0.038070         1.604524  \n6093         0.273248         1.216787         0.561130  \n6094         0.114040         0.090883         0.261374  \n\n[6095 rows x 105 columns]",
      "text/html": "<div>\n<style scoped>\n    .dataframe tbody tr th:only-of-type {\n        vertical-align: middle;\n    }\n\n    .dataframe tbody tr th {\n        vertical-align: top;\n    }\n\n    .dataframe thead th {\n        text-align: right;\n    }\n</style>\n<table border=\"1\" class=\"dataframe\">\n  <thead>\n    <tr style=\"text-align: right;\">\n      <th></th>\n      <th>kepid</th>\n      <th>kepler_name</th>\n      <th>kepoi_name</th>\n      <th>koi_disposition</th>\n      <th>light_flux_0001</th>\n      <th>light_flux_0002</th>\n      <th>light_flux_0003</th>\n      <th>light_flux_0004</th>\n      <th>light_flux_0005</th>\n      <th>light_flux_0006</th>\n      <th>...</th>\n      <th>light_flux_0092</th>\n      <th>light_flux_0093</th>\n      <th>light_flux_0094</th>\n      <th>light_flux_0095</th>\n      <th>light_flux_0096</th>\n      <th>light_flux_0097</th>\n      <th>light_flux_0098</th>\n      <th>light_flux_0099</th>\n      <th>light_flux_0100</th>\n      <th>light_flux_0101</th>\n    </tr>\n  </thead>\n  <tbody>\n    <tr>\n      <td>0</td>\n      <td>10797460.0</td>\n      <td>Kepler-227 b</td>\n      <td>K00752.01</td>\n      <td>1</td>\n      <td>1.727321</td>\n      <td>0.728728</td>\n      <td>1.125654</td>\n      <td>1.229677</td>\n      <td>1.327881</td>\n      <td>1.390140</td>\n      <td>...</td>\n      <td>1.318587</td>\n      <td>1.390135</td>\n      <td>0.968716</td>\n      <td>1.285568</td>\n      <td>1.216662</td>\n      <td>0.874477</td>\n      <td>1.627442</td>\n      <td>0.960296</td>\n      <td>0.998560</td>\n      <td>1.489279</td>\n    </tr>\n    <tr>\n      <td>1</td>\n      <td>10811496.0</td>\n      <td>NaN</td>\n      <td>K00753.01</td>\n      <td>0</td>\n      <td>1.044298</td>\n      <td>0.961948</td>\n      <td>1.000986</td>\n      <td>0.983043</td>\n      <td>0.983156</td>\n      <td>1.037890</td>\n      <td>...</td>\n      <td>1.023945</td>\n      <td>0.999707</td>\n      <td>0.986407</td>\n      <td>0.980490</td>\n      <td>1.018677</td>\n      <td>0.976698</td>\n      <td>0.933617</td>\n      <td>1.067080</td>\n      <td>1.002989</td>\n      <td>1.012337</td>\n    </tr>\n    <tr>\n      <td>2</td>\n      <td>10848459.0</td>\n      <td>NaN</td>\n      <td>K00754.01</td>\n      <td>0</td>\n      <td>-0.289601</td>\n      <td>-0.370998</td>\n      <td>-0.441931</td>\n      <td>-0.410758</td>\n      <td>-0.379353</td>\n      <td>-0.507287</td>\n      <td>...</td>\n      <td>-0.445697</td>\n      <td>-0.442599</td>\n      <td>-0.365730</td>\n      <td>-0.381951</td>\n      <td>-0.287742</td>\n      <td>-0.285504</td>\n      <td>-0.269432</td>\n      <td>-0.261419</td>\n      <td>-0.224786</td>\n      <td>-0.308863</td>\n    </tr>\n    <tr>\n      <td>3</td>\n      <td>10854555.0</td>\n      <td>Kepler-664 b</td>\n      <td>K00755.01</td>\n      <td>1</td>\n      <td>-0.066347</td>\n      <td>-0.019535</td>\n      <td>0.481834</td>\n      <td>-0.052898</td>\n      <td>-0.000501</td>\n      <td>0.402655</td>\n      <td>...</td>\n      <td>-0.620233</td>\n      <td>-0.403630</td>\n      <td>-0.347501</td>\n      <td>-0.388085</td>\n      <td>-0.302855</td>\n      <td>-0.130258</td>\n      <td>-0.042718</td>\n      <td>0.674248</td>\n      <td>-0.583962</td>\n      <td>0.165856</td>\n    </tr>\n    <tr>\n      <td>4</td>\n      <td>10872983.0</td>\n      <td>Kepler-228 d</td>\n      <td>K00756.01</td>\n      <td>1</td>\n      <td>0.910853</td>\n      <td>0.953313</td>\n      <td>1.121489</td>\n      <td>0.641881</td>\n      <td>1.222616</td>\n      <td>0.878186</td>\n      <td>...</td>\n      <td>1.040783</td>\n      <td>0.863073</td>\n      <td>1.246061</td>\n      <td>0.969055</td>\n      <td>1.318099</td>\n      <td>1.276269</td>\n      <td>1.092889</td>\n      <td>0.842558</td>\n      <td>1.081244</td>\n      <td>0.972349</td>\n    </tr>\n    <tr>\n      <td>...</td>\n      <td>...</td>\n      <td>...</td>\n      <td>...</td>\n      <td>...</td>\n      <td>...</td>\n      <td>...</td>\n      <td>...</td>\n      <td>...</td>\n      <td>...</td>\n      <td>...</td>\n      <td>...</td>\n      <td>...</td>\n      <td>...</td>\n      <td>...</td>\n      <td>...</td>\n      <td>...</td>\n      <td>...</td>\n      <td>...</td>\n      <td>...</td>\n      <td>...</td>\n      <td>...</td>\n    </tr>\n    <tr>\n      <td>6090</td>\n      <td>10031643.0</td>\n      <td>NaN</td>\n      <td>K07984.01</td>\n      <td>0</td>\n      <td>1.326015</td>\n      <td>-0.237976</td>\n      <td>1.031217</td>\n      <td>1.533878</td>\n      <td>0.628377</td>\n      <td>1.317783</td>\n      <td>...</td>\n      <td>0.231072</td>\n      <td>0.877314</td>\n      <td>1.741571</td>\n      <td>1.331278</td>\n      <td>1.134218</td>\n      <td>1.485683</td>\n      <td>0.323981</td>\n      <td>-0.605954</td>\n      <td>0.691033</td>\n      <td>1.012538</td>\n    </tr>\n    <tr>\n      <td>6091</td>\n      <td>10090151.0</td>\n      <td>NaN</td>\n      <td>K07985.01</td>\n      <td>0</td>\n      <td>-0.818461</td>\n      <td>-0.582961</td>\n      <td>-0.804967</td>\n      <td>-0.881438</td>\n      <td>-0.608308</td>\n      <td>-0.630170</td>\n      <td>...</td>\n      <td>-0.821112</td>\n      <td>-0.787683</td>\n      <td>-0.549940</td>\n      <td>-0.806678</td>\n      <td>-0.688768</td>\n      <td>-0.796852</td>\n      <td>-0.617750</td>\n      <td>-0.695399</td>\n      <td>-0.710079</td>\n      <td>-0.551582</td>\n    </tr>\n    <tr>\n      <td>6092</td>\n      <td>10128825.0</td>\n      <td>NaN</td>\n      <td>K07986.01</td>\n      <td>0</td>\n      <td>-0.202417</td>\n      <td>-0.490636</td>\n      <td>0.925138</td>\n      <td>0.894101</td>\n      <td>1.454064</td>\n      <td>-0.070774</td>\n      <td>...</td>\n      <td>1.194394</td>\n      <td>-0.265945</td>\n      <td>-0.643078</td>\n      <td>0.907540</td>\n      <td>1.074063</td>\n      <td>1.982618</td>\n      <td>0.704504</td>\n      <td>1.937049</td>\n      <td>0.038070</td>\n      <td>1.604524</td>\n    </tr>\n    <tr>\n      <td>6093</td>\n      <td>10147276.0</td>\n      <td>NaN</td>\n      <td>K07987.01</td>\n      <td>0</td>\n      <td>0.650887</td>\n      <td>0.889116</td>\n      <td>0.758458</td>\n      <td>0.425697</td>\n      <td>0.726841</td>\n      <td>1.090262</td>\n      <td>...</td>\n      <td>0.987756</td>\n      <td>0.594261</td>\n      <td>0.684510</td>\n      <td>1.125490</td>\n      <td>0.726558</td>\n      <td>0.479359</td>\n      <td>-0.267394</td>\n      <td>0.273248</td>\n      <td>1.216787</td>\n      <td>0.561130</td>\n    </tr>\n    <tr>\n      <td>6094</td>\n      <td>10156110.0</td>\n      <td>NaN</td>\n      <td>K07989.01</td>\n      <td>0</td>\n      <td>0.515398</td>\n      <td>0.319045</td>\n      <td>0.771879</td>\n      <td>0.206895</td>\n      <td>0.714990</td>\n      <td>-0.292212</td>\n      <td>...</td>\n      <td>1.058577</td>\n      <td>0.141102</td>\n      <td>-0.132169</td>\n      <td>0.499010</td>\n      <td>0.158405</td>\n      <td>0.809767</td>\n      <td>-1.000000</td>\n      <td>0.114040</td>\n      <td>0.090883</td>\n      <td>0.261374</td>\n    </tr>\n  </tbody>\n</table>\n<p>6095 rows × 105 columns</p>\n</div>"
     },
     "metadata": {}
    }
   ],
   "source": [
    "# Cargo los csv\n",
    "df_local = pd.read_csv(\"./unified-lightcurves-local.csv\").iloc[:, 1:]\n",
    "\n",
    "display(df_local)"
   ]
  },
  {
   "cell_type": "code",
   "execution_count": 44,
   "metadata": {},
   "outputs": [],
   "source": [
    "local_fluxes = df_local.iloc[:,4:]\n",
    "local_labels = df_local.iloc[:,3]"
   ]
  },
  {
   "source": [
    "## Particionado de datos"
   ],
   "cell_type": "markdown",
   "metadata": {}
  },
  {
   "cell_type": "code",
   "execution_count": 45,
   "metadata": {},
   "outputs": [],
   "source": [
    "x_local_train, x_local_test, y_local_train, y_local_test = train_test_split(\n",
    "    local_fluxes, local_labels, test_size=0.3, random_state=11)"
   ]
  },
  {
   "cell_type": "code",
   "execution_count": 46,
   "metadata": {},
   "outputs": [
    {
     "output_type": "stream",
     "name": "stdout",
     "text": [
      "(4266, 101) (1829, 101) (4266,) (1829,)\n"
     ]
    }
   ],
   "source": [
    "print(x_local_train.shape, x_local_test.shape, y_local_train.shape, y_local_test.shape)"
   ]
  },
  {
   "cell_type": "code",
   "execution_count": 47,
   "metadata": {},
   "outputs": [],
   "source": [
    "#Definimos las dimensiones\n",
    "n_outputs = 1\n",
    "n_local_timesteps, n_local_features  = x_local_train.shape[0], x_local_train.shape[1]"
   ]
  },
  {
   "cell_type": "code",
   "execution_count": 48,
   "metadata": {},
   "outputs": [
    {
     "output_type": "stream",
     "name": "stdout",
     "text": [
      "4266 101\n"
     ]
    }
   ],
   "source": [
    "print(n_local_timesteps, n_local_features)"
   ]
  },
  {
   "cell_type": "code",
   "execution_count": 49,
   "metadata": {},
   "outputs": [],
   "source": [
    "#Expandimos las dimensiones de train \n",
    "x_local_extended_train = np.expand_dims(x_local_train,axis=-1) \n",
    "y_local_extended_train = np.array(y_local_train)"
   ]
  },
  {
   "cell_type": "code",
   "execution_count": 50,
   "metadata": {},
   "outputs": [
    {
     "output_type": "stream",
     "name": "stdout",
     "text": [
      "(4266, 101) (4266,)\n(4266, 101, 1) (4266,)\n"
     ]
    }
   ],
   "source": [
    "print(x_local_train.shape, y_local_train.shape)\n",
    "print(x_local_extended_train.shape, y_local_extended_train.shape)"
   ]
  },
  {
   "cell_type": "code",
   "execution_count": 51,
   "metadata": {},
   "outputs": [],
   "source": [
    "#Expandimos las dimensiones de test\n",
    "x_local_extended_test = np.expand_dims(x_local_test,axis=-1)\n",
    "y_local_extended_test = np.array(y_local_test)"
   ]
  },
  {
   "cell_type": "code",
   "execution_count": 52,
   "metadata": {},
   "outputs": [
    {
     "output_type": "stream",
     "name": "stdout",
     "text": [
      "(1829, 101) (1829,)\n(1829, 101, 1) (1829,)\n"
     ]
    }
   ],
   "source": [
    "print(x_local_test.shape, y_local_test.shape)\n",
    "print(x_local_extended_test.shape, y_local_extended_test.shape)"
   ]
  },
  {
   "source": [
    "## Construcción Red Neuronal"
   ],
   "cell_type": "markdown",
   "metadata": {}
  },
  {
   "source": [
    "### Red para vistas locales"
   ],
   "cell_type": "markdown",
   "metadata": {}
  },
  {
   "cell_type": "code",
   "execution_count": 53,
   "metadata": {},
   "outputs": [],
   "source": [
    "# first input model\n",
    "inputLocalView = tf.keras.layers.Input(shape=(n_local_features, 1))\n",
    "inputLocalView.set_shape([n_local_timesteps, n_local_features, 1]) # 4266 x 101\n",
    "\n",
    "CL1 = tf.keras.layers.Conv1D(filters=16, kernel_size=5, activation='relu')(inputLocalView)\n",
    "CL2 = tf.keras.layers.Conv1D(filters=16, kernel_size=5, activation='relu')(CL1)\n",
    "\n",
    "ML1 = tf.keras.layers.MaxPooling1D(pool_size=7, strides=2)(CL2)\n",
    "\n",
    "CL3 = tf.keras.layers.Conv1D(filters=32, kernel_size=5, activation='relu')(ML1)\n",
    "CL4 = tf.keras.layers.Conv1D(filters=32, kernel_size=5, activation='relu')(CL3)\n",
    "\n",
    "ML2 = tf.keras.layers.MaxPooling1D(pool_size=7, strides=2)(CL4)\n",
    "#flat1 = tf.keras.layers.Flatten()(ML2)"
   ]
  },
  {
   "source": [
    "### Unificación de redes"
   ],
   "cell_type": "markdown",
   "metadata": {}
  },
  {
   "cell_type": "code",
   "execution_count": 63,
   "metadata": {},
   "outputs": [],
   "source": [
    "output_activation = 'sigmoid' # tanh / sigmoid / relu #\n",
    "output_optimizer = 'adam' # adam / #\n",
    "rrnn = 'local'\n",
    "\n",
    "basefolder = \"trainings/\" + rrnn + \"_\" + output_activation + \"-\" + output_optimizer \n",
    "basepath = basefolder + \"/\" + rrnn + \"_\" + output_activation + \"-\" + output_optimizer"
   ]
  },
  {
   "cell_type": "code",
   "execution_count": 64,
   "metadata": {},
   "outputs": [],
   "source": [
    "# interpretation model\n",
    "hidden1 = tf.keras.layers.Dense(256, activation='relu')(ML2)\n",
    "hidden2 = tf.keras.layers.Dense(256, activation='relu')(hidden1)\n",
    "hidden3 = tf.keras.layers.Dense(256, activation='relu')(hidden2)\n",
    "hidden4 = tf.keras.layers.Dense(256, activation='relu')(hidden3)"
   ]
  },
  {
   "cell_type": "code",
   "execution_count": 65,
   "metadata": {},
   "outputs": [
    {
     "output_type": "stream",
     "name": "stdout",
     "text": [
      "Model: \"functional_7\"\n_________________________________________________________________\nLayer (type)                 Output Shape              Param #   \n=================================================================\ninput_3 (InputLayer)         [(4266, 101, 1)]          0         \n_________________________________________________________________\nconv1d_8 (Conv1D)            (4266, 97, 16)            96        \n_________________________________________________________________\nconv1d_9 (Conv1D)            (4266, 93, 16)            1296      \n_________________________________________________________________\nmax_pooling1d_4 (MaxPooling1 (4266, 44, 16)            0         \n_________________________________________________________________\nconv1d_10 (Conv1D)           (4266, 40, 32)            2592      \n_________________________________________________________________\nconv1d_11 (Conv1D)           (4266, 36, 32)            5152      \n_________________________________________________________________\nmax_pooling1d_5 (MaxPooling1 (4266, 15, 32)            0         \n_________________________________________________________________\ndense_15 (Dense)             (4266, 15, 256)           8448      \n_________________________________________________________________\ndense_16 (Dense)             (4266, 15, 256)           65792     \n_________________________________________________________________\ndense_17 (Dense)             (4266, 15, 256)           65792     \n_________________________________________________________________\ndense_18 (Dense)             (4266, 15, 256)           65792     \n_________________________________________________________________\ndense_19 (Dense)             (4266, 15, 1)             257       \n=================================================================\nTotal params: 215,217\nTrainable params: 215,217\nNon-trainable params: 0\n_________________________________________________________________\nNone\n"
     ]
    }
   ],
   "source": [
    "output = tf.keras.layers.Dense(n_outputs, activation=output_activation)(hidden4)\n",
    "\n",
    "model = tf.keras.Model(inputs=inputLocalView, outputs=output)\n",
    "model.compile(loss='binary_crossentropy', optimizer=output_optimizer, metrics=['accuracy'])\n",
    "\n",
    "print(model.summary())"
   ]
  },
  {
   "cell_type": "code",
   "execution_count": 66,
   "metadata": {},
   "outputs": [],
   "source": [
    "# Establecemos callbacks para guardad los pasos\n",
    "checkpoint_path = basepath + \"-{epoch:04d}.ckpt\"\n",
    "checkpoint_dir = os.path.dirname(checkpoint_path)\n",
    "\n",
    "cp_callback = tf.keras.callbacks.ModelCheckpoint(\n",
    "    filepath=checkpoint_path, \n",
    "    verbose=0, \n",
    "    save_weights_only=True,\n",
    "    save_freq='epoch'\n",
    ")\n",
    "\n",
    "os.makedirs(checkpoint_dir, exist_ok=True)"
   ]
  },
  {
   "cell_type": "code",
   "execution_count": 67,
   "metadata": {},
   "outputs": [],
   "source": [
    "# checkpoint_path.format(epoch=0)\n",
    "latest = tf.train.latest_checkpoint(basefolder)\n",
    "latest"
   ]
  },
  {
   "cell_type": "code",
   "execution_count": 68,
   "metadata": {},
   "outputs": [
    {
     "output_type": "stream",
     "name": "stdout",
     "text": [
      "Epoch 1/50\n",
      "WARNING:tensorflow:Model was constructed with shape (4266, 101, 1) for input Tensor(\"input_3:0\", shape=(4266, 101, 1), dtype=float32), but it was called on an input with incompatible shape (237, 101, 1).\n",
      "WARNING:tensorflow:Model was constructed with shape (4266, 101, 1) for input Tensor(\"input_3:0\", shape=(4266, 101, 1), dtype=float32), but it was called on an input with incompatible shape (237, 101, 1).\n",
      "18/18 [==============================] - 3s 158ms/step - loss: 0.5810 - accuracy: 0.7388\n",
      "Epoch 2/50\n",
      "18/18 [==============================] - 3s 180ms/step - loss: 0.5037 - accuracy: 0.7583\n",
      "Epoch 3/50\n",
      "18/18 [==============================] - 3s 168ms/step - loss: 0.4634 - accuracy: 0.7766\n",
      "Epoch 4/50\n",
      "18/18 [==============================] - 3s 165ms/step - loss: 0.4445 - accuracy: 0.7950\n",
      "Epoch 5/50\n",
      "18/18 [==============================] - 3s 186ms/step - loss: 0.4357 - accuracy: 0.8002\n",
      "Epoch 6/50\n",
      "18/18 [==============================] - 3s 149ms/step - loss: 0.4295 - accuracy: 0.8027\n",
      "Epoch 7/50\n",
      "18/18 [==============================] - 3s 175ms/step - loss: 0.4212 - accuracy: 0.8094\n",
      "Epoch 8/50\n",
      "18/18 [==============================] - 3s 166ms/step - loss: 0.4137 - accuracy: 0.8128\n",
      "Epoch 9/50\n",
      "18/18 [==============================] - 3s 162ms/step - loss: 0.4125 - accuracy: 0.8123\n",
      "Epoch 10/50\n",
      "18/18 [==============================] - 3s 179ms/step - loss: 0.4199 - accuracy: 0.8093\n",
      "Epoch 11/50\n",
      "18/18 [==============================] - 3s 180ms/step - loss: 0.4135 - accuracy: 0.8140\n",
      "Epoch 12/50\n",
      "18/18 [==============================] - 3s 164ms/step - loss: 0.4101 - accuracy: 0.8156\n",
      "Epoch 13/50\n",
      "18/18 [==============================] - 3s 165ms/step - loss: 0.4053 - accuracy: 0.8170\n",
      "Epoch 14/50\n",
      "18/18 [==============================] - 3s 172ms/step - loss: 0.4033 - accuracy: 0.8183\n",
      "Epoch 15/50\n",
      "18/18 [==============================] - 3s 164ms/step - loss: 0.4101 - accuracy: 0.8174\n",
      "Epoch 16/50\n",
      "18/18 [==============================] - 3s 153ms/step - loss: 0.4063 - accuracy: 0.8174\n",
      "Epoch 17/50\n",
      "18/18 [==============================] - 3s 155ms/step - loss: 0.4081 - accuracy: 0.8150\n",
      "Epoch 18/50\n",
      "18/18 [==============================] - 3s 156ms/step - loss: 0.3996 - accuracy: 0.8190\n",
      "Epoch 19/50\n",
      "18/18 [==============================] - 3s 157ms/step - loss: 0.3996 - accuracy: 0.8209\n",
      "Epoch 20/50\n",
      "18/18 [==============================] - 3s 176ms/step - loss: 0.3899 - accuracy: 0.8251\n",
      "Epoch 21/50\n",
      "18/18 [==============================] - 3s 158ms/step - loss: 0.3929 - accuracy: 0.8253\n",
      "Epoch 22/50\n",
      "18/18 [==============================] - 3s 166ms/step - loss: 0.3931 - accuracy: 0.8248\n",
      "Epoch 23/50\n",
      "18/18 [==============================] - 3s 156ms/step - loss: 0.3913 - accuracy: 0.8265\n",
      "Epoch 24/50\n",
      "18/18 [==============================] - 3s 184ms/step - loss: 0.3878 - accuracy: 0.8290\n",
      "Epoch 25/50\n",
      "18/18 [==============================] - 3s 172ms/step - loss: 0.3816 - accuracy: 0.8306\n",
      "Epoch 26/50\n",
      "18/18 [==============================] - 3s 187ms/step - loss: 0.3819 - accuracy: 0.8314\n",
      "Epoch 27/50\n",
      "18/18 [==============================] - 3s 170ms/step - loss: 0.3793 - accuracy: 0.8316\n",
      "Epoch 28/50\n",
      "18/18 [==============================] - 3s 168ms/step - loss: 0.3769 - accuracy: 0.8328\n",
      "Epoch 29/50\n",
      "18/18 [==============================] - 3s 161ms/step - loss: 0.3765 - accuracy: 0.8329\n",
      "Epoch 30/50\n",
      "18/18 [==============================] - 3s 177ms/step - loss: 0.3871 - accuracy: 0.8275\n",
      "Epoch 31/50\n",
      "18/18 [==============================] - 3s 170ms/step - loss: 0.3835 - accuracy: 0.8323\n",
      "Epoch 32/50\n",
      "18/18 [==============================] - 3s 171ms/step - loss: 0.3721 - accuracy: 0.8358\n",
      "Epoch 33/50\n",
      "18/18 [==============================] - 3s 166ms/step - loss: 0.3770 - accuracy: 0.8328\n",
      "Epoch 34/50\n",
      "18/18 [==============================] - 3s 168ms/step - loss: 0.3869 - accuracy: 0.8266\n",
      "Epoch 35/50\n",
      "18/18 [==============================] - 3s 150ms/step - loss: 0.3751 - accuracy: 0.8346\n",
      "Epoch 36/50\n",
      "18/18 [==============================] - 3s 165ms/step - loss: 0.3640 - accuracy: 0.8397\n",
      "Epoch 37/50\n",
      "18/18 [==============================] - 3s 158ms/step - loss: 0.3668 - accuracy: 0.8396\n",
      "Epoch 38/50\n",
      "18/18 [==============================] - 4s 196ms/step - loss: 0.3630 - accuracy: 0.8419\n",
      "Epoch 39/50\n",
      "18/18 [==============================] - 4s 200ms/step - loss: 0.3578 - accuracy: 0.8428\n",
      "Epoch 40/50\n",
      "18/18 [==============================] - 4s 209ms/step - loss: 0.3645 - accuracy: 0.8382\n",
      "Epoch 41/50\n",
      "18/18 [==============================] - 4s 207ms/step - loss: 0.3595 - accuracy: 0.8424\n",
      "Epoch 42/50\n",
      "18/18 [==============================] - 4s 233ms/step - loss: 0.3653 - accuracy: 0.8388\n",
      "Epoch 43/50\n",
      "18/18 [==============================] - 4s 222ms/step - loss: 0.3512 - accuracy: 0.8479\n",
      "Epoch 44/50\n",
      "18/18 [==============================] - 4s 215ms/step - loss: 0.3560 - accuracy: 0.8443\n",
      "Epoch 45/50\n",
      "18/18 [==============================] - 4s 198ms/step - loss: 0.3479 - accuracy: 0.8493\n",
      "Epoch 46/50\n",
      "18/18 [==============================] - 3s 181ms/step - loss: 0.3496 - accuracy: 0.8490\n",
      "Epoch 47/50\n",
      "18/18 [==============================] - 3s 170ms/step - loss: 0.3536 - accuracy: 0.8469\n",
      "Epoch 48/50\n",
      "18/18 [==============================] - 3s 178ms/step - loss: 0.3518 - accuracy: 0.8475\n",
      "Epoch 49/50\n",
      "18/18 [==============================] - 4s 204ms/step - loss: 0.3408 - accuracy: 0.8526\n",
      "Epoch 50/50\n",
      "18/18 [==============================] - 3s 193ms/step - loss: 0.3377 - accuracy: 0.8544\n"
     ]
    }
   ],
   "source": [
    "if latest:\n",
    "    model.load_weights(latest)\n",
    "else :\n",
    "    # divisores 4266: 1, 2, 3, 6, 9, 18, 27, 54, 79, 158, 237, 474, 711, 1422, 2133, 4266\n",
    "    bs = 237\n",
    "    Ajuste = model.fit(\n",
    "        x_local_extended_train, \n",
    "        y_local_extended_train, \n",
    "        epochs=50, \n",
    "        batch_size=bs,\n",
    "        \n",
    "        # validation_data=(test_images,test_labels),\n",
    "        callbacks=[cp_callback],\n",
    "    )"
   ]
  },
  {
   "cell_type": "code",
   "execution_count": 61,
   "metadata": {},
   "outputs": [],
   "source": [
    "def pintar_matriz_confusion(conf_matx):\n",
    "    df_cm = pd.DataFrame(conf_matx, index = [i for i in \"01\"],\n",
    "                    columns = [i for i in \"01\"])\n",
    "\n",
    "    plt.figure(0.5)\n",
    "    heat_map = sn.heatmap(df_cm, xticklabels=True, yticklabels=True, annot=True, annot_kws = {\"ha\": 'center'})\n",
    "    #heat_map.set_yticklabels(heat_map.get_yticklabels(), rotation=0)\n",
    "    plt.xlabel('Predicción')\n",
    "    plt.ylabel('Real')\n",
    "\n",
    "\n",
    "def pintar_roc_curve(fp,tp):\n",
    "    plt.figure(1)\n",
    "    plt.plot([0, 1], [0, 1], 'k--')\n",
    "    plt.plot(fp, tp, label='CNN (area = {:.3f})'.format(area_under_curve))\n",
    "    plt.scatter(fp[ix], tp[ix], marker='o', color='black', label='Best')\n",
    "    plt.xlabel('False positive rate')\n",
    "    plt.ylabel('True positive rate')\n",
    "    plt.title('ROC curve')\n",
    "    plt.legend(loc='best')"
   ]
  },
  {
   "cell_type": "code",
   "execution_count": 62,
   "metadata": {},
   "outputs": [
    {
     "output_type": "error",
     "ename": "InvalidArgumentError",
     "evalue": " Input to reshape is a tensor with 15360 values, but the requested shape has 2047680\n\t [[node functional_5/dense_10/Tensordot/Reshape (defined at <ipython-input-62-b11bcc6ba9b4>:1) ]] [Op:__inference_predict_function_14448]\n\nFunction call stack:\npredict_function\n",
     "traceback": [
      "\u001b[1;31m---------------------------------------------------------------------------\u001b[0m",
      "\u001b[1;31mInvalidArgumentError\u001b[0m                      Traceback (most recent call last)",
      "\u001b[1;32m<ipython-input-62-b11bcc6ba9b4>\u001b[0m in \u001b[0;36m<module>\u001b[1;34m\u001b[0m\n\u001b[1;32m----> 1\u001b[1;33m \u001b[0my_pred_keras_raw\u001b[0m \u001b[1;33m=\u001b[0m \u001b[0mmodel\u001b[0m\u001b[1;33m.\u001b[0m\u001b[0mpredict\u001b[0m\u001b[1;33m(\u001b[0m\u001b[0mx_local_extended_test\u001b[0m\u001b[1;33m,\u001b[0m \u001b[0mverbose\u001b[0m\u001b[1;33m=\u001b[0m\u001b[1;36m1\u001b[0m\u001b[1;33m)\u001b[0m\u001b[1;33m\u001b[0m\u001b[1;33m\u001b[0m\u001b[0m\n\u001b[0m\u001b[0;32m      2\u001b[0m \u001b[0my_pred_keras\u001b[0m \u001b[1;33m=\u001b[0m \u001b[0my_pred_keras_raw\u001b[0m\u001b[1;33m.\u001b[0m\u001b[0mravel\u001b[0m\u001b[1;33m(\u001b[0m\u001b[1;33m)\u001b[0m \u001b[1;31m# flatten as array\u001b[0m\u001b[1;33m\u001b[0m\u001b[1;33m\u001b[0m\u001b[0m\n\u001b[0;32m      3\u001b[0m \u001b[1;33m\u001b[0m\u001b[0m\n\u001b[0;32m      4\u001b[0m \u001b[0my_pred_keras_standart\u001b[0m \u001b[1;33m=\u001b[0m \u001b[1;33m(\u001b[0m\u001b[0my_pred_keras\u001b[0m \u001b[1;33m>=\u001b[0m \u001b[1;36m0.5\u001b[0m\u001b[1;33m)\u001b[0m\u001b[1;33m.\u001b[0m\u001b[0mastype\u001b[0m\u001b[1;33m(\u001b[0m\u001b[0mnp\u001b[0m\u001b[1;33m.\u001b[0m\u001b[0mint\u001b[0m\u001b[1;33m)\u001b[0m\u001b[1;33m\u001b[0m\u001b[1;33m\u001b[0m\u001b[0m\n\u001b[0;32m      5\u001b[0m \u001b[1;33m\u001b[0m\u001b[0m\n",
      "\u001b[1;32m~\\Anaconda3\\lib\\site-packages\\tensorflow\\python\\keras\\engine\\training.py\u001b[0m in \u001b[0;36m_method_wrapper\u001b[1;34m(self, *args, **kwargs)\u001b[0m\n\u001b[0;32m    128\u001b[0m       raise ValueError('{} is not supported in multi-worker mode.'.format(\n\u001b[0;32m    129\u001b[0m           method.__name__))\n\u001b[1;32m--> 130\u001b[1;33m     \u001b[1;32mreturn\u001b[0m \u001b[0mmethod\u001b[0m\u001b[1;33m(\u001b[0m\u001b[0mself\u001b[0m\u001b[1;33m,\u001b[0m \u001b[1;33m*\u001b[0m\u001b[0margs\u001b[0m\u001b[1;33m,\u001b[0m \u001b[1;33m**\u001b[0m\u001b[0mkwargs\u001b[0m\u001b[1;33m)\u001b[0m\u001b[1;33m\u001b[0m\u001b[1;33m\u001b[0m\u001b[0m\n\u001b[0m\u001b[0;32m    131\u001b[0m \u001b[1;33m\u001b[0m\u001b[0m\n\u001b[0;32m    132\u001b[0m   return tf_decorator.make_decorator(\n",
      "\u001b[1;32m~\\Anaconda3\\lib\\site-packages\\tensorflow\\python\\keras\\engine\\training.py\u001b[0m in \u001b[0;36mpredict\u001b[1;34m(self, x, batch_size, verbose, steps, callbacks, max_queue_size, workers, use_multiprocessing)\u001b[0m\n\u001b[0;32m   1597\u001b[0m           \u001b[1;32mfor\u001b[0m \u001b[0mstep\u001b[0m \u001b[1;32min\u001b[0m \u001b[0mdata_handler\u001b[0m\u001b[1;33m.\u001b[0m\u001b[0msteps\u001b[0m\u001b[1;33m(\u001b[0m\u001b[1;33m)\u001b[0m\u001b[1;33m:\u001b[0m\u001b[1;33m\u001b[0m\u001b[1;33m\u001b[0m\u001b[0m\n\u001b[0;32m   1598\u001b[0m             \u001b[0mcallbacks\u001b[0m\u001b[1;33m.\u001b[0m\u001b[0mon_predict_batch_begin\u001b[0m\u001b[1;33m(\u001b[0m\u001b[0mstep\u001b[0m\u001b[1;33m)\u001b[0m\u001b[1;33m\u001b[0m\u001b[1;33m\u001b[0m\u001b[0m\n\u001b[1;32m-> 1599\u001b[1;33m             \u001b[0mtmp_batch_outputs\u001b[0m \u001b[1;33m=\u001b[0m \u001b[0mpredict_function\u001b[0m\u001b[1;33m(\u001b[0m\u001b[0miterator\u001b[0m\u001b[1;33m)\u001b[0m\u001b[1;33m\u001b[0m\u001b[1;33m\u001b[0m\u001b[0m\n\u001b[0m\u001b[0;32m   1600\u001b[0m             \u001b[1;32mif\u001b[0m \u001b[0mdata_handler\u001b[0m\u001b[1;33m.\u001b[0m\u001b[0mshould_sync\u001b[0m\u001b[1;33m:\u001b[0m\u001b[1;33m\u001b[0m\u001b[1;33m\u001b[0m\u001b[0m\n\u001b[0;32m   1601\u001b[0m               \u001b[0mcontext\u001b[0m\u001b[1;33m.\u001b[0m\u001b[0masync_wait\u001b[0m\u001b[1;33m(\u001b[0m\u001b[1;33m)\u001b[0m\u001b[1;33m\u001b[0m\u001b[1;33m\u001b[0m\u001b[0m\n",
      "\u001b[1;32m~\\Anaconda3\\lib\\site-packages\\tensorflow\\python\\eager\\def_function.py\u001b[0m in \u001b[0;36m__call__\u001b[1;34m(self, *args, **kwds)\u001b[0m\n\u001b[0;32m    778\u001b[0m       \u001b[1;32melse\u001b[0m\u001b[1;33m:\u001b[0m\u001b[1;33m\u001b[0m\u001b[1;33m\u001b[0m\u001b[0m\n\u001b[0;32m    779\u001b[0m         \u001b[0mcompiler\u001b[0m \u001b[1;33m=\u001b[0m \u001b[1;34m\"nonXla\"\u001b[0m\u001b[1;33m\u001b[0m\u001b[1;33m\u001b[0m\u001b[0m\n\u001b[1;32m--> 780\u001b[1;33m         \u001b[0mresult\u001b[0m \u001b[1;33m=\u001b[0m \u001b[0mself\u001b[0m\u001b[1;33m.\u001b[0m\u001b[0m_call\u001b[0m\u001b[1;33m(\u001b[0m\u001b[1;33m*\u001b[0m\u001b[0margs\u001b[0m\u001b[1;33m,\u001b[0m \u001b[1;33m**\u001b[0m\u001b[0mkwds\u001b[0m\u001b[1;33m)\u001b[0m\u001b[1;33m\u001b[0m\u001b[1;33m\u001b[0m\u001b[0m\n\u001b[0m\u001b[0;32m    781\u001b[0m \u001b[1;33m\u001b[0m\u001b[0m\n\u001b[0;32m    782\u001b[0m       \u001b[0mnew_tracing_count\u001b[0m \u001b[1;33m=\u001b[0m \u001b[0mself\u001b[0m\u001b[1;33m.\u001b[0m\u001b[0m_get_tracing_count\u001b[0m\u001b[1;33m(\u001b[0m\u001b[1;33m)\u001b[0m\u001b[1;33m\u001b[0m\u001b[1;33m\u001b[0m\u001b[0m\n",
      "\u001b[1;32m~\\Anaconda3\\lib\\site-packages\\tensorflow\\python\\eager\\def_function.py\u001b[0m in \u001b[0;36m_call\u001b[1;34m(self, *args, **kwds)\u001b[0m\n\u001b[0;32m    844\u001b[0m               *args, **kwds)\n\u001b[0;32m    845\u001b[0m       \u001b[1;31m# If we did not create any variables the trace we have is good enough.\u001b[0m\u001b[1;33m\u001b[0m\u001b[1;33m\u001b[0m\u001b[1;33m\u001b[0m\u001b[0m\n\u001b[1;32m--> 846\u001b[1;33m       \u001b[1;32mreturn\u001b[0m \u001b[0mself\u001b[0m\u001b[1;33m.\u001b[0m\u001b[0m_concrete_stateful_fn\u001b[0m\u001b[1;33m.\u001b[0m\u001b[0m_filtered_call\u001b[0m\u001b[1;33m(\u001b[0m\u001b[0mcanon_args\u001b[0m\u001b[1;33m,\u001b[0m \u001b[0mcanon_kwds\u001b[0m\u001b[1;33m)\u001b[0m  \u001b[1;31m# pylint: disable=protected-access\u001b[0m\u001b[1;33m\u001b[0m\u001b[1;33m\u001b[0m\u001b[0m\n\u001b[0m\u001b[0;32m    847\u001b[0m \u001b[1;33m\u001b[0m\u001b[0m\n\u001b[0;32m    848\u001b[0m     \u001b[1;32mdef\u001b[0m \u001b[0mfn_with_cond\u001b[0m\u001b[1;33m(\u001b[0m\u001b[1;33m*\u001b[0m\u001b[0minner_args\u001b[0m\u001b[1;33m,\u001b[0m \u001b[1;33m**\u001b[0m\u001b[0minner_kwds\u001b[0m\u001b[1;33m)\u001b[0m\u001b[1;33m:\u001b[0m\u001b[1;33m\u001b[0m\u001b[1;33m\u001b[0m\u001b[0m\n",
      "\u001b[1;32m~\\Anaconda3\\lib\\site-packages\\tensorflow\\python\\eager\\function.py\u001b[0m in \u001b[0;36m_filtered_call\u001b[1;34m(self, args, kwargs, cancellation_manager)\u001b[0m\n\u001b[0;32m   1846\u001b[0m                            resource_variable_ops.BaseResourceVariable))],\n\u001b[0;32m   1847\u001b[0m         \u001b[0mcaptured_inputs\u001b[0m\u001b[1;33m=\u001b[0m\u001b[0mself\u001b[0m\u001b[1;33m.\u001b[0m\u001b[0mcaptured_inputs\u001b[0m\u001b[1;33m,\u001b[0m\u001b[1;33m\u001b[0m\u001b[1;33m\u001b[0m\u001b[0m\n\u001b[1;32m-> 1848\u001b[1;33m         cancellation_manager=cancellation_manager)\n\u001b[0m\u001b[0;32m   1849\u001b[0m \u001b[1;33m\u001b[0m\u001b[0m\n\u001b[0;32m   1850\u001b[0m   \u001b[1;32mdef\u001b[0m \u001b[0m_call_flat\u001b[0m\u001b[1;33m(\u001b[0m\u001b[0mself\u001b[0m\u001b[1;33m,\u001b[0m \u001b[0margs\u001b[0m\u001b[1;33m,\u001b[0m \u001b[0mcaptured_inputs\u001b[0m\u001b[1;33m,\u001b[0m \u001b[0mcancellation_manager\u001b[0m\u001b[1;33m=\u001b[0m\u001b[1;32mNone\u001b[0m\u001b[1;33m)\u001b[0m\u001b[1;33m:\u001b[0m\u001b[1;33m\u001b[0m\u001b[1;33m\u001b[0m\u001b[0m\n",
      "\u001b[1;32m~\\Anaconda3\\lib\\site-packages\\tensorflow\\python\\eager\\function.py\u001b[0m in \u001b[0;36m_call_flat\u001b[1;34m(self, args, captured_inputs, cancellation_manager)\u001b[0m\n\u001b[0;32m   1922\u001b[0m       \u001b[1;31m# No tape is watching; skip to running the function.\u001b[0m\u001b[1;33m\u001b[0m\u001b[1;33m\u001b[0m\u001b[1;33m\u001b[0m\u001b[0m\n\u001b[0;32m   1923\u001b[0m       return self._build_call_outputs(self._inference_function.call(\n\u001b[1;32m-> 1924\u001b[1;33m           ctx, args, cancellation_manager=cancellation_manager))\n\u001b[0m\u001b[0;32m   1925\u001b[0m     forward_backward = self._select_forward_and_backward_functions(\n\u001b[0;32m   1926\u001b[0m         \u001b[0margs\u001b[0m\u001b[1;33m,\u001b[0m\u001b[1;33m\u001b[0m\u001b[1;33m\u001b[0m\u001b[0m\n",
      "\u001b[1;32m~\\Anaconda3\\lib\\site-packages\\tensorflow\\python\\eager\\function.py\u001b[0m in \u001b[0;36mcall\u001b[1;34m(self, ctx, args, cancellation_manager)\u001b[0m\n\u001b[0;32m    548\u001b[0m               \u001b[0minputs\u001b[0m\u001b[1;33m=\u001b[0m\u001b[0margs\u001b[0m\u001b[1;33m,\u001b[0m\u001b[1;33m\u001b[0m\u001b[1;33m\u001b[0m\u001b[0m\n\u001b[0;32m    549\u001b[0m               \u001b[0mattrs\u001b[0m\u001b[1;33m=\u001b[0m\u001b[0mattrs\u001b[0m\u001b[1;33m,\u001b[0m\u001b[1;33m\u001b[0m\u001b[1;33m\u001b[0m\u001b[0m\n\u001b[1;32m--> 550\u001b[1;33m               ctx=ctx)\n\u001b[0m\u001b[0;32m    551\u001b[0m         \u001b[1;32melse\u001b[0m\u001b[1;33m:\u001b[0m\u001b[1;33m\u001b[0m\u001b[1;33m\u001b[0m\u001b[0m\n\u001b[0;32m    552\u001b[0m           outputs = execute.execute_with_cancellation(\n",
      "\u001b[1;32m~\\Anaconda3\\lib\\site-packages\\tensorflow\\python\\eager\\execute.py\u001b[0m in \u001b[0;36mquick_execute\u001b[1;34m(op_name, num_outputs, inputs, attrs, ctx, name)\u001b[0m\n\u001b[0;32m     58\u001b[0m     \u001b[0mctx\u001b[0m\u001b[1;33m.\u001b[0m\u001b[0mensure_initialized\u001b[0m\u001b[1;33m(\u001b[0m\u001b[1;33m)\u001b[0m\u001b[1;33m\u001b[0m\u001b[1;33m\u001b[0m\u001b[0m\n\u001b[0;32m     59\u001b[0m     tensors = pywrap_tfe.TFE_Py_Execute(ctx._handle, device_name, op_name,\n\u001b[1;32m---> 60\u001b[1;33m                                         inputs, attrs, num_outputs)\n\u001b[0m\u001b[0;32m     61\u001b[0m   \u001b[1;32mexcept\u001b[0m \u001b[0mcore\u001b[0m\u001b[1;33m.\u001b[0m\u001b[0m_NotOkStatusException\u001b[0m \u001b[1;32mas\u001b[0m \u001b[0me\u001b[0m\u001b[1;33m:\u001b[0m\u001b[1;33m\u001b[0m\u001b[1;33m\u001b[0m\u001b[0m\n\u001b[0;32m     62\u001b[0m     \u001b[1;32mif\u001b[0m \u001b[0mname\u001b[0m \u001b[1;32mis\u001b[0m \u001b[1;32mnot\u001b[0m \u001b[1;32mNone\u001b[0m\u001b[1;33m:\u001b[0m\u001b[1;33m\u001b[0m\u001b[1;33m\u001b[0m\u001b[0m\n",
      "\u001b[1;31mInvalidArgumentError\u001b[0m:  Input to reshape is a tensor with 15360 values, but the requested shape has 2047680\n\t [[node functional_5/dense_10/Tensordot/Reshape (defined at <ipython-input-62-b11bcc6ba9b4>:1) ]] [Op:__inference_predict_function_14448]\n\nFunction call stack:\npredict_function\n"
     ]
    }
   ],
   "source": [
    "y_pred_keras_raw = model.predict(x_local_extended_test, verbose=1)\n",
    "y_pred_keras = y_pred_keras_raw.ravel() # flatten as array\n",
    "\n",
    "y_pred_keras_standart = (y_pred_keras >= 0.5).astype(np.int)\n",
    "\n",
    "display(y_pred_keras_raw)\n",
    "display(y_pred_keras_standart)"
   ]
  },
  {
   "cell_type": "code",
   "execution_count": null,
   "metadata": {},
   "outputs": [],
   "source": [
    "# Exactitud\n",
    "accuracy = accuracy_score(y_local_extended_test, y_pred_keras_standart)\n",
    "print(\"accuracy =\", accuracy)\n",
    "\n",
    "# Precisión\n",
    "average_precision = average_precision_score(y_local_extended_test, y_pred_keras_standart)\n",
    "print(\"average_precision =\", average_precision)\n",
    "\n",
    "# Recall\n",
    "recall = recall_score(y_local_extended_test, y_pred_keras_standart, average=None)\n",
    "print(\"recall =\", recall)\n",
    "\n",
    "# F1\n",
    "f1 = f1_score(y_local_extended_test, y_pred_keras_standart)\n",
    "print(\"f1 =\", f1)\n"
   ]
  },
  {
   "cell_type": "code",
   "execution_count": null,
   "metadata": {},
   "outputs": [],
   "source": [
    "# Defino las métricas\n",
    "false_positives, true_positives, thresholds = roc_curve(y_local_extended_test, y_pred_keras)\n",
    "area_under_curve = auc(false_positives, true_positives)\n",
    "gmeans = np.sqrt(true_positives * (1-false_positives))\n",
    "\n",
    "# localiza el índice del mayor g-mean\n",
    "ix = np.argmax(gmeans)\n",
    "print('Best Threshold=%f, G-Mean=%.3f' % (thresholds[ix], gmeans[ix]))\n",
    "print(\"area_under_curve (AUC) = \", area_under_curve)\n",
    "pintar_roc_curve(false_positives, true_positives)\n"
   ]
  },
  {
   "cell_type": "code",
   "execution_count": null,
   "metadata": {},
   "outputs": [],
   "source": [
    "conf_matrix = confusion_matrix(y_local_extended_test, y_pred_keras_standart)\n",
    "print(\"conf_matrix =\\n\", conf_matrix)\n",
    "\n",
    "pintar_matriz_confusion(conf_matrix)\n",
    "\n",
    "pd.DataFrame(conf_matrix).to_csv(basepath + '.csv')"
   ]
  },
  {
   "cell_type": "code",
   "execution_count": null,
   "metadata": {},
   "outputs": [],
   "source": [
    "#Umbral estándar\n",
    "PhiM_Standart = matthews_corrcoef(y_local_extended_test, y_pred_keras_standart)\n",
    "print(\"PhiM_Standart =\", PhiM_Standart)"
   ]
  },
  {
   "cell_type": "code",
   "execution_count": null,
   "metadata": {},
   "outputs": [],
   "source": []
  }
 ]
}